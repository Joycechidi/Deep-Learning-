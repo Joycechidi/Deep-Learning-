{
  "nbformat": 4,
  "nbformat_minor": 0,
  "metadata": {
    "colab": {
      "name": "Skin_Cancer_Detection.ipynb",
      "provenance": [],
      "collapsed_sections": [],
      "include_colab_link": true
    },
    "kernelspec": {
      "name": "python3",
      "display_name": "Python 3"
    },
    "accelerator": "GPU"
  },
  "cells": [
    {
      "cell_type": "markdown",
      "metadata": {
        "id": "view-in-github",
        "colab_type": "text"
      },
      "source": [
        "<a href=\"https://colab.research.google.com/github/Joycechidi/Deep-Learning-/blob/master/Skin_Cancer/Skin_Cancer_Detection.ipynb\" target=\"_parent\"><img src=\"https://colab.research.google.com/assets/colab-badge.svg\" alt=\"Open In Colab\"/></a>"
      ]
    },
    {
      "cell_type": "code",
      "metadata": {
        "id": "mSmEIn55a0-2",
        "colab_type": "code",
        "outputId": "d4a77740-4167-4d0f-8946-8379060c7ead",
        "colab": {
          "base_uri": "https://localhost:8080/",
          "height": 34
        }
      },
      "source": [
        "from google.colab import  drive\n",
        "drive.mount('/content/gdrive')"
      ],
      "execution_count": 33,
      "outputs": [
        {
          "output_type": "stream",
          "text": [
            "Drive already mounted at /content/gdrive; to attempt to forcibly remount, call drive.mount(\"/content/gdrive\", force_remount=True).\n"
          ],
          "name": "stdout"
        }
      ]
    },
    {
      "cell_type": "code",
      "metadata": {
        "id": "y4QaYXdrafkU",
        "colab_type": "code",
        "outputId": "16fdedd9-1b5c-419a-bbb9-db2593ac81c3",
        "colab": {
          "base_uri": "https://localhost:8080/",
          "height": 425
        }
      },
      "source": [
        "!wget git clone https://github.com/udacity/dermatologist-ai.git\n"
      ],
      "execution_count": 34,
      "outputs": [
        {
          "output_type": "stream",
          "text": [
            "--2019-11-07 06:39:20--  http://git/\n",
            "Resolving git (git)... failed: Name or service not known.\n",
            "wget: unable to resolve host address ‘git’\n",
            "--2019-11-07 06:39:20--  http://clone/\n",
            "Resolving clone (clone)... failed: Name or service not known.\n",
            "wget: unable to resolve host address ‘clone’\n",
            "--2019-11-07 06:39:20--  https://github.com/udacity/dermatologist-ai.git\n",
            "Resolving github.com (github.com)... 140.82.113.4\n",
            "Connecting to github.com (github.com)|140.82.113.4|:443... connected.\n",
            "HTTP request sent, awaiting response... 301 Moved Permanently\n",
            "Location: https://github.com/udacity/dermatologist-ai [following]\n",
            "--2019-11-07 06:39:20--  https://github.com/udacity/dermatologist-ai\n",
            "Reusing existing connection to github.com:443.\n",
            "HTTP request sent, awaiting response... 200 OK\n",
            "Length: unspecified [text/html]\n",
            "Saving to: ‘dermatologist-ai.git’\n",
            "\n",
            "\rdermatologist-ai.gi     [<=>                 ]       0  --.-KB/s               \rdermatologist-ai.gi     [ <=>                ]  97.04K  --.-KB/s    in 0.06s   \n",
            "\n",
            "2019-11-07 06:39:20 (1.48 MB/s) - ‘dermatologist-ai.git’ saved [99367]\n",
            "\n",
            "FINISHED --2019-11-07 06:39:20--\n",
            "Total wall clock time: 0.5s\n",
            "Downloaded: 1 files, 97K in 0.06s (1.48 MB/s)\n"
          ],
          "name": "stdout"
        }
      ]
    },
    {
      "cell_type": "code",
      "metadata": {
        "id": "k13bzCzZawaP",
        "colab_type": "code",
        "outputId": "789592cf-90b2-4725-ea4e-8f98ad8eed4e",
        "colab": {
          "base_uri": "https://localhost:8080/",
          "height": 34
        }
      },
      "source": [
        "cd '/content/gdrive/My Drive/Udacity_AI_Codes/DLND_Works/data/'"
      ],
      "execution_count": 35,
      "outputs": [
        {
          "output_type": "stream",
          "text": [
            "/content/gdrive/My Drive/Udacity_AI_Codes/DLND_Works/data\n"
          ],
          "name": "stdout"
        }
      ]
    },
    {
      "cell_type": "code",
      "metadata": {
        "id": "QVGveDwxaz3z",
        "colab_type": "code",
        "colab": {}
      },
      "source": [
        "mkdir skin_cancer"
      ],
      "execution_count": 0,
      "outputs": []
    },
    {
      "cell_type": "code",
      "metadata": {
        "id": "AfOvwBS9awWk",
        "colab_type": "code",
        "outputId": "8045922a-f3f7-4943-ce58-714a22e31c49",
        "colab": {
          "base_uri": "https://localhost:8080/",
          "height": 54
        }
      },
      "source": [
        "cd skin_cancer/"
      ],
      "execution_count": 0,
      "outputs": [
        {
          "output_type": "stream",
          "text": [
            "/content/gdrive/My Drive/Udacity_AI_Codes/DLND_Works/data/skin_cancer\n"
          ],
          "name": "stdout"
        }
      ]
    },
    {
      "cell_type": "code",
      "metadata": {
        "id": "6rTjNBe3awUd",
        "colab_type": "code",
        "colab": {}
      },
      "source": [
        "mkdir train; mkdir valid; mkdir test"
      ],
      "execution_count": 0,
      "outputs": []
    },
    {
      "cell_type": "code",
      "metadata": {
        "id": "2h-jt9FeawRR",
        "colab_type": "code",
        "outputId": "7b38ec50-ea09-4301-ebd9-85451bff8887",
        "colab": {
          "base_uri": "https://localhost:8080/",
          "height": 51
        }
      },
      "source": [
        "cd train\n"
      ],
      "execution_count": 36,
      "outputs": [
        {
          "output_type": "stream",
          "text": [
            "[Errno 2] No such file or directory: 'train'\n",
            "/content/gdrive/My Drive/Udacity_AI_Codes/DLND_Works/data\n"
          ],
          "name": "stdout"
        }
      ]
    },
    {
      "cell_type": "code",
      "metadata": {
        "id": "pyfabsToawQJ",
        "colab_type": "code",
        "outputId": "6738a3e8-1a13-4f78-a2d9-ce4e698dee7c",
        "colab": {
          "base_uri": "https://localhost:8080/",
          "height": 224
        }
      },
      "source": [
        "!wget https://s3-us-west-1.amazonaws.com/udacity-dlnfd/datasets/skin-cancer/train.zip"
      ],
      "execution_count": 0,
      "outputs": [
        {
          "output_type": "stream",
          "text": [
            "--2019-11-07 06:06:26--  https://s3-us-west-1.amazonaws.com/udacity-dlnfd/datasets/skin-cancer/train.zip\n",
            "Resolving s3-us-west-1.amazonaws.com (s3-us-west-1.amazonaws.com)... 52.219.116.200\n",
            "Connecting to s3-us-west-1.amazonaws.com (s3-us-west-1.amazonaws.com)|52.219.116.200|:443... connected.\n",
            "HTTP request sent, awaiting response... 200 OK\n",
            "Length: 5736557430 (5.3G) [application/zip]\n",
            "Saving to: ‘train.zip’\n",
            "\n",
            "train.zip           100%[===================>]   5.34G  11.8MB/s    in 3m 22s  \n",
            "\n",
            "2019-11-07 06:09:48 (27.1 MB/s) - ‘train.zip’ saved [5736557430/5736557430]\n",
            "\n"
          ],
          "name": "stdout"
        }
      ]
    },
    {
      "cell_type": "code",
      "metadata": {
        "id": "6XBGn84sawM-",
        "colab_type": "code",
        "outputId": "582c1587-1109-44dd-9fab-7740e9c448f4",
        "colab": {
          "base_uri": "https://localhost:8080/",
          "height": 54
        }
      },
      "source": [
        "cd train"
      ],
      "execution_count": 0,
      "outputs": [
        {
          "output_type": "stream",
          "text": [
            "/content/gdrive/My Drive/Udacity_AI_Codes/DLND_Works/data/skin_cancer/train\n"
          ],
          "name": "stdout"
        }
      ]
    },
    {
      "cell_type": "code",
      "metadata": {
        "id": "5tdqrXKKawIk",
        "colab_type": "code",
        "colab": {}
      },
      "source": [
        "!unzip train.zip"
      ],
      "execution_count": 0,
      "outputs": []
    },
    {
      "cell_type": "code",
      "metadata": {
        "id": "miVfxYykawFU",
        "colab_type": "code",
        "outputId": "4c4796a7-1b76-4a5b-ba69-44555b87c562",
        "colab": {
          "base_uri": "https://localhost:8080/",
          "height": 34
        }
      },
      "source": [
        "cd skin_cancer/"
      ],
      "execution_count": 41,
      "outputs": [
        {
          "output_type": "stream",
          "text": [
            "/content/gdrive/My Drive/Udacity_AI_Codes/DLND_Works/data/skin_cancer\n"
          ],
          "name": "stdout"
        }
      ]
    },
    {
      "cell_type": "code",
      "metadata": {
        "id": "EfEkzp-hmSD-",
        "colab_type": "code",
        "colab": {
          "base_uri": "https://localhost:8080/",
          "height": 34
        },
        "outputId": "e72e6eb4-6119-433a-dbd9-d929ee352059"
      },
      "source": [
        "cd test/"
      ],
      "execution_count": 42,
      "outputs": [
        {
          "output_type": "stream",
          "text": [
            "/content/gdrive/My Drive/Udacity_AI_Codes/DLND_Works/data/skin_cancer/test\n"
          ],
          "name": "stdout"
        }
      ]
    },
    {
      "cell_type": "code",
      "metadata": {
        "id": "cBD2ijM-awC8",
        "colab_type": "code",
        "colab": {}
      },
      "source": [
        "!wget https://s3-us-west-1.amazonaws.com/udacity-dlnfd/datasets/skin-cancer/test.zip\n",
        "!unzip test.zip"
      ],
      "execution_count": 0,
      "outputs": []
    },
    {
      "cell_type": "code",
      "metadata": {
        "id": "L68Cw7QWav_N",
        "colab_type": "code",
        "colab": {}
      },
      "source": [
        "!wget https://s3-us-west-1.amazonaws.com/udacity-dlnfd/datasets/skin-cancer/valid.zip\n",
        "!unzip valid.zip"
      ],
      "execution_count": 0,
      "outputs": []
    },
    {
      "cell_type": "code",
      "metadata": {
        "id": "EOkH9nuyav95",
        "colab_type": "code",
        "colab": {}
      },
      "source": [
        ""
      ],
      "execution_count": 0,
      "outputs": []
    },
    {
      "cell_type": "code",
      "metadata": {
        "id": "n4TIgdB0av6Z",
        "colab_type": "code",
        "colab": {}
      },
      "source": [
        ""
      ],
      "execution_count": 0,
      "outputs": []
    },
    {
      "cell_type": "code",
      "metadata": {
        "id": "uNdx7f9bav3I",
        "colab_type": "code",
        "colab": {}
      },
      "source": [
        ""
      ],
      "execution_count": 0,
      "outputs": []
    }
  ]
}