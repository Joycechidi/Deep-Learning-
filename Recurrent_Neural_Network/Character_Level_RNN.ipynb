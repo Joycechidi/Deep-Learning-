{
  "nbformat": 4,
  "nbformat_minor": 0,
  "metadata": {
    "kernelspec": {
      "name": "python3",
      "display_name": "Python 3"
    },
    "language_info": {
      "codemirror_mode": {
        "name": "ipython",
        "version": 3
      },
      "file_extension": ".py",
      "mimetype": "text/x-python",
      "name": "python",
      "nbconvert_exporter": "python",
      "pygments_lexer": "ipython3",
      "version": "3.6.4"
    },
    "colab": {
      "name": "Character_Level_RNN.ipynb",
      "provenance": [],
      "collapsed_sections": [],
      "include_colab_link": true
    },
    "accelerator": "GPU"
  },
  "cells": [
    {
      "cell_type": "markdown",
      "metadata": {
        "id": "view-in-github",
        "colab_type": "text"
      },
      "source": [
        "<a href=\"https://colab.research.google.com/github/Joycechidi/Deep-Learning-/blob/master/Recurrent_Neural_Network/Character_Level_RNN.ipynb\" target=\"_parent\"><img src=\"https://colab.research.google.com/assets/colab-badge.svg\" alt=\"Open In Colab\"/></a>"
      ]
    },
    {
      "cell_type": "code",
      "metadata": {
        "id": "y1zLPraWiOLr",
        "colab_type": "code",
        "outputId": "b9505aaa-f932-4e57-c52c-a7b347e0021e",
        "colab": {
          "base_uri": "https://localhost:8080/",
          "height": 122
        }
      },
      "source": [
        "from google.colab import drive\n",
        "drive.mount('/content/gdrive')"
      ],
      "execution_count": 1,
      "outputs": [
        {
          "output_type": "stream",
          "text": [
            "Go to this URL in a browser: https://accounts.google.com/o/oauth2/auth?client_id=947318989803-6bn6qk8qdgf4n4g3pfee6491hc0brc4i.apps.googleusercontent.com&redirect_uri=urn%3aietf%3awg%3aoauth%3a2.0%3aoob&response_type=code&scope=email%20https%3a%2f%2fwww.googleapis.com%2fauth%2fdocs.test%20https%3a%2f%2fwww.googleapis.com%2fauth%2fdrive%20https%3a%2f%2fwww.googleapis.com%2fauth%2fdrive.photos.readonly%20https%3a%2f%2fwww.googleapis.com%2fauth%2fpeopleapi.readonly\n",
            "\n",
            "Enter your authorization code:\n",
            "··········\n",
            "Mounted at /content/gdrive\n"
          ],
          "name": "stdout"
        }
      ]
    },
    {
      "cell_type": "markdown",
      "metadata": {
        "id": "2c0aMrpNiCFh",
        "colab_type": "text"
      },
      "source": [
        "# Character-Level LSTM in PyTorch\n",
        "\n",
        "In this notebook, I'll construct a character-level LSTM with PyTorch. The network will train character by character on some text, then generate new text character by character. As an example, I will train on Anna Karenina. **This model will be able to generate new text based on the text from the book!**\n",
        "\n",
        "This network is based off of Andrej Karpathy's [post on RNNs](http://karpathy.github.io/2015/05/21/rnn-effectiveness/) and [implementation in Torch](https://github.com/karpathy/char-rnn). Below is the general architecture of the character-wise RNN.\n",
        "\n",
        "<img src=\"assets/charseq.jpeg\" width=\"500\">"
      ]
    },
    {
      "cell_type": "markdown",
      "metadata": {
        "id": "xIz8mUwZiCFk",
        "colab_type": "text"
      },
      "source": [
        "First let's load in our required resources for data loading and model creation."
      ]
    },
    {
      "cell_type": "code",
      "metadata": {
        "id": "F21pWG3yiCFl",
        "colab_type": "code",
        "colab": {}
      },
      "source": [
        "import numpy as np\n",
        "import torch\n",
        "from torch import nn\n",
        "import torch.nn.functional as F"
      ],
      "execution_count": 0,
      "outputs": []
    },
    {
      "cell_type": "markdown",
      "metadata": {
        "id": "GWASYu_ciCFo",
        "colab_type": "text"
      },
      "source": [
        "## Load in Data\n",
        "\n",
        "Then, we'll load the Anna Karenina text file and convert it into integers for our network to use. "
      ]
    },
    {
      "cell_type": "code",
      "metadata": {
        "id": "Q07iwJk7ijce",
        "colab_type": "code",
        "outputId": "a57550b4-dc87-49bb-b4b1-65baafdd4537",
        "colab": {
          "base_uri": "https://localhost:8080/",
          "height": 34
        }
      },
      "source": [
        "cd /content/gdrive/My Drive/Recurrent_Neural_Networks/\n"
      ],
      "execution_count": 3,
      "outputs": [
        {
          "output_type": "stream",
          "text": [
            "/content/gdrive/My Drive/Recurrent_Neural_Networks\n"
          ],
          "name": "stdout"
        }
      ]
    },
    {
      "cell_type": "code",
      "metadata": {
        "id": "u-Wj9LzciCFp",
        "colab_type": "code",
        "colab": {}
      },
      "source": [
        "# open text file and read in data as `text`\n",
        "with open('/content/gdrive/My Drive/Recurrent_Neural_Networks/char-rnn/data/anna.txt', 'r') as f:\n",
        "    text = f.read()"
      ],
      "execution_count": 0,
      "outputs": []
    },
    {
      "cell_type": "markdown",
      "metadata": {
        "id": "KVGyZdnPiCFr",
        "colab_type": "text"
      },
      "source": [
        "Let's check out the first 100 characters, make sure everything is peachy. According to the [American Book Review](http://americanbookreview.org/100bestlines.asp), this is the 6th best first line of a book ever."
      ]
    },
    {
      "cell_type": "code",
      "metadata": {
        "id": "Y7a1_cepiCFs",
        "colab_type": "code",
        "outputId": "d59e719a-2e75-4df6-9f6f-0dbe20f4316a",
        "colab": {
          "base_uri": "https://localhost:8080/",
          "height": 54
        }
      },
      "source": [
        "text[:100]"
      ],
      "execution_count": 5,
      "outputs": [
        {
          "output_type": "execute_result",
          "data": {
            "text/plain": [
              "'Chapter 1\\n\\n\\nHappy families are all alike; every unhappy family is unhappy in its own\\nway.\\n\\nEverythin'"
            ]
          },
          "metadata": {
            "tags": []
          },
          "execution_count": 5
        }
      ]
    },
    {
      "cell_type": "markdown",
      "metadata": {
        "id": "duyAfk4KiCFu",
        "colab_type": "text"
      },
      "source": [
        "### Tokenization\n",
        "\n",
        "In the cells, below, I'm creating a couple **dictionaries** to convert the characters to and from integers. Encoding the characters as integers makes it easier to use as input in the network."
      ]
    },
    {
      "cell_type": "code",
      "metadata": {
        "id": "vhJ0ivJ1iCFv",
        "colab_type": "code",
        "colab": {}
      },
      "source": [
        "# encode the text and map each character to an integer and vice versa\n",
        "\n",
        "# we create two dictionaries:\n",
        "# 1. int2char, which maps integers to characters\n",
        "# 2. char2int, which maps characters to unique integers\n",
        "chars = tuple(set(text))\n",
        "int2char = dict(enumerate(chars))\n",
        "char2int = {ch: ii for ii, ch in int2char.items()}\n",
        "\n",
        "# encode the text\n",
        "encoded = np.array([char2int[ch] for ch in text])"
      ],
      "execution_count": 0,
      "outputs": []
    },
    {
      "cell_type": "markdown",
      "metadata": {
        "id": "ewXflyBNiCFy",
        "colab_type": "text"
      },
      "source": [
        "And we can see those same characters from above, encoded as integers."
      ]
    },
    {
      "cell_type": "code",
      "metadata": {
        "id": "trrM-QUuiCFy",
        "colab_type": "code",
        "outputId": "c997a26e-d7ba-4d52-e614-adae648e1ed8",
        "colab": {
          "base_uri": "https://localhost:8080/",
          "height": 139
        }
      },
      "source": [
        "encoded[:100]"
      ],
      "execution_count": 7,
      "outputs": [
        {
          "output_type": "execute_result",
          "data": {
            "text/plain": [
              "array([65, 25,  7, 36,  3, 78, 81,  1, 45, 49, 49, 49, 64,  7, 36, 36, 72,\n",
              "        1, 26,  7, 27, 79, 50, 79, 78, 68,  1,  7, 81, 78,  1,  7, 50, 50,\n",
              "        1,  7, 50, 79, 41, 78, 13,  1, 78, 40, 78, 81, 72,  1, 39, 42, 25,\n",
              "        7, 36, 36, 72,  1, 26,  7, 27, 79, 50, 72,  1, 79, 68,  1, 39, 42,\n",
              "       25,  7, 36, 36, 72,  1, 79, 42,  1, 79,  3, 68,  1,  0, 28, 42, 49,\n",
              "       28,  7, 72, 69, 49, 49, 48, 40, 78, 81, 72,  3, 25, 79, 42])"
            ]
          },
          "metadata": {
            "tags": []
          },
          "execution_count": 7
        }
      ]
    },
    {
      "cell_type": "markdown",
      "metadata": {
        "id": "uEa8AFuaiCF1",
        "colab_type": "text"
      },
      "source": [
        "## Pre-processing the data\n",
        "\n",
        "As you can see in our char-RNN image above, our LSTM expects an input that is **one-hot encoded** meaning that each character is converted into an integer (via our created dictionary) and *then* converted into a column vector where only it's corresponding integer index will have the value of 1 and the rest of the vector will be filled with 0's. Since we're one-hot encoding the data, let's make a function to do that!\n"
      ]
    },
    {
      "cell_type": "code",
      "metadata": {
        "id": "nuYKPRPIiCF1",
        "colab_type": "code",
        "colab": {}
      },
      "source": [
        "def one_hot_encode(arr, n_labels):\n",
        "    \n",
        "    # Initialize the the encoded array\n",
        "    one_hot = np.zeros((arr.size, n_labels), dtype=np.float32)\n",
        "    \n",
        "    # Fill the appropriate elements with ones\n",
        "    one_hot[np.arange(one_hot.shape[0]), arr.flatten()] = 1.\n",
        "    \n",
        "    # Finally reshape it to get back to the original array\n",
        "    one_hot = one_hot.reshape((*arr.shape, n_labels))\n",
        "    \n",
        "    return one_hot"
      ],
      "execution_count": 0,
      "outputs": []
    },
    {
      "cell_type": "code",
      "metadata": {
        "id": "n6LTwmM0iCF4",
        "colab_type": "code",
        "outputId": "5bf49d10-3bfd-48dd-ba30-2ce24619635b",
        "colab": {
          "base_uri": "https://localhost:8080/",
          "height": 68
        }
      },
      "source": [
        "# check that the function works as expected\n",
        "test_seq = np.array([[3, 5, 1]])\n",
        "one_hot = one_hot_encode(test_seq, 8)\n",
        "\n",
        "print(one_hot)"
      ],
      "execution_count": 9,
      "outputs": [
        {
          "output_type": "stream",
          "text": [
            "[[[0. 0. 0. 1. 0. 0. 0. 0.]\n",
            "  [0. 0. 0. 0. 0. 1. 0. 0.]\n",
            "  [0. 1. 0. 0. 0. 0. 0. 0.]]]\n"
          ],
          "name": "stdout"
        }
      ]
    },
    {
      "cell_type": "markdown",
      "metadata": {
        "id": "sx95LMAyiCF6",
        "colab_type": "text"
      },
      "source": [
        "## Making training mini-batches\n",
        "\n",
        "\n",
        "To train on this data, we also want to create mini-batches for training. Remember that we want our batches to be multiple sequences of some desired number of sequence steps. Considering a simple example, our batches would look like this:\n",
        "\n",
        "<img src=\"assets/sequence_batching@1x.png\" width=500px>\n",
        "\n",
        "\n",
        "<br>\n",
        "\n",
        "In this example, we'll take the encoded characters (passed in as the `arr` parameter) and split them into multiple sequences, given by `batch_size`. Each of our sequences will be `seq_length` long.\n",
        "\n",
        "### Creating Batches\n",
        "\n",
        "**1. The first thing we need to do is discard some of the text so we only have completely full mini-batches. **\n",
        "\n",
        "Each batch contains $N \\times M$ characters, where $N$ is the batch size (the number of sequences in a batch) and $M$ is the seq_length or number of time steps in a sequence. Then, to get the total number of batches, $K$, that we can make from the array `arr`, you divide the length of `arr` by the number of characters per batch. Once you know the number of batches, you can get the total number of characters to keep from `arr`, $N * M * K$.\n",
        "\n",
        "**2. After that, we need to split `arr` into $N$ batches. ** \n",
        "\n",
        "You can do this using `arr.reshape(size)` where `size` is a tuple containing the dimensions sizes of the reshaped array. We know we want $N$ sequences in a batch, so let's make that the size of the first dimension. For the second dimension, you can use `-1` as a placeholder in the size, it'll fill up the array with the appropriate data for you. After this, you should have an array that is $N \\times (M * K)$.\n",
        "\n",
        "**3. Now that we have this array, we can iterate through it to get our mini-batches. **\n",
        "\n",
        "The idea is each batch is a $N \\times M$ window on the $N \\times (M * K)$ array. For each subsequent batch, the window moves over by `seq_length`. We also want to create both the input and target arrays. Remember that the targets are just the inputs shifted over by one character. The way I like to do this window is use `range` to take steps of size `n_steps` from $0$ to `arr.shape[1]`, the total number of tokens in each sequence. That way, the integers you get from `range` always point to the start of a batch, and each window is `seq_length` wide.\n",
        "\n",
        "> **TODO:** Write the code for creating batches in the function below. The exercises in this notebook _will not be easy_. I've provided a notebook with solutions alongside this notebook. If you get stuck, checkout the solutions. The most important thing is that you don't copy and paste the code into here, **type out the solution code yourself.**"
      ]
    },
    {
      "cell_type": "code",
      "metadata": {
        "id": "c_t6GVU-oPGv",
        "colab_type": "code",
        "colab": {}
      },
      "source": [
        "%config IPCompleter.greedy=True"
      ],
      "execution_count": 0,
      "outputs": []
    },
    {
      "cell_type": "code",
      "metadata": {
        "id": "dhG1DFwQiCF7",
        "colab_type": "code",
        "colab": {}
      },
      "source": [
        "def get_batches(arr, batch_size, seq_length):\n",
        "    '''Create a generator that returns batches of size\n",
        "       batch_size x seq_length from arr.\n",
        "       \n",
        "       Arguments\n",
        "       ---------\n",
        "       arr: Array you want to make batches from\n",
        "       batch_size: Batch size, the number of sequences per batch\n",
        "       seq_length: Number of encoded chars in a sequence\n",
        "    '''\n",
        "    \n",
        "    ## TODO: Get the number of batches we can make\n",
        "    batch_size_total = batch_size * seq_length\n",
        "    n_batches = len(arr)//batch_size_total\n",
        "    \n",
        "    ## TODO: Keep only enough characters to make full batches\n",
        "    arr = arr[:n_batches * batch_size_total]\n",
        "    \n",
        "    ## TODO: Reshape into batch_size rows\n",
        "    arr = arr.reshape((batch_size, -1))\n",
        "    \n",
        "    ## TODO: Iterate over the batches using a window of size seq_length\n",
        "    for n in range(0, arr.shape[1], seq_length):\n",
        "        # The features\n",
        "        x = arr[:, n:n+seq_length]\n",
        "        # The targets, shifted by one\n",
        "        y = np.zeros_like(x)\n",
        "\n",
        "        try:\n",
        "            y[:, :-1], y[:, -1] = x[:, 1:], arr[:, n+seq_length]\n",
        "        except IndexError:\n",
        "            y[:, :-1], y[:, -1] = x[:, 1:], arr[:, 0]\n",
        "        yield x, y"
      ],
      "execution_count": 0,
      "outputs": []
    },
    {
      "cell_type": "markdown",
      "metadata": {
        "id": "dfpz-wb6iCF9",
        "colab_type": "text"
      },
      "source": [
        "### Test Your Implementation\n",
        "\n",
        "Now I'll make some data sets and we can check out what's going on as we batch data. Here, as an example, I'm going to use a batch size of 8 and 50 sequence steps."
      ]
    },
    {
      "cell_type": "code",
      "metadata": {
        "id": "sq2w-aKtiCF-",
        "colab_type": "code",
        "colab": {}
      },
      "source": [
        "batches = get_batches(encoded, 8, 50)\n",
        "x, y = next(batches)"
      ],
      "execution_count": 0,
      "outputs": []
    },
    {
      "cell_type": "code",
      "metadata": {
        "id": "h-IRgvq8iCGB",
        "colab_type": "code",
        "outputId": "0f658249-c62f-4d7a-ca19-91868fadb48b",
        "colab": {
          "base_uri": "https://localhost:8080/",
          "height": 340
        }
      },
      "source": [
        "# printing out the first 10 items in a sequence\n",
        "print('x\\n', x[:10, :10])\n",
        "print('\\ny\\n', y[:10, :10])"
      ],
      "execution_count": 14,
      "outputs": [
        {
          "output_type": "stream",
          "text": [
            "x\n",
            " [[65 25  7 36  3 78 81  1 45 49]\n",
            " [68  0 42  1  3 25  7  3  1  7]\n",
            " [78 42 57  1  0 81  1  7  1 26]\n",
            " [68  1  3 25 78  1 22 25 79 78]\n",
            " [ 1 68  7 28  1 25 78 81  1  3]\n",
            " [22 39 68 68 79  0 42  1  7 42]\n",
            " [ 1 74 42 42  7  1 25  7 57  1]\n",
            " [51 29 50  0 42 68 41 72 69  1]]\n",
            "\n",
            "y\n",
            " [[25  7 36  3 78 81  1 45 49 49]\n",
            " [ 0 42  1  3 25  7  3  1  7  3]\n",
            " [42 57  1  0 81  1  7  1 26  0]\n",
            " [ 1  3 25 78  1 22 25 79 78 26]\n",
            " [68  7 28  1 25 78 81  1  3 78]\n",
            " [39 68 68 79  0 42  1  7 42 57]\n",
            " [74 42 42  7  1 25  7 57  1 68]\n",
            " [29 50  0 42 68 41 72 69  1  5]]\n"
          ],
          "name": "stdout"
        }
      ]
    },
    {
      "cell_type": "markdown",
      "metadata": {
        "id": "EaZnVTL4iCGD",
        "colab_type": "text"
      },
      "source": [
        "If you implemented `get_batches` correctly, the above output should look something like \n",
        "```\n",
        "x\n",
        " [[25  8 60 11 45 27 28 73  1  2]\n",
        " [17  7 20 73 45  8 60 45 73 60]\n",
        " [27 20 80 73  7 28 73 60 73 65]\n",
        " [17 73 45  8 27 73 66  8 46 27]\n",
        " [73 17 60 12 73  8 27 28 73 45]\n",
        " [66 64 17 17 46  7 20 73 60 20]\n",
        " [73 76 20 20 60 73  8 60 80 73]\n",
        " [47 35 43  7 20 17 24 50 37 73]]\n",
        "\n",
        "y\n",
        " [[ 8 60 11 45 27 28 73  1  2  2]\n",
        " [ 7 20 73 45  8 60 45 73 60 45]\n",
        " [20 80 73  7 28 73 60 73 65  7]\n",
        " [73 45  8 27 73 66  8 46 27 65]\n",
        " [17 60 12 73  8 27 28 73 45 27]\n",
        " [64 17 17 46  7 20 73 60 20 80]\n",
        " [76 20 20 60 73  8 60 80 73 17]\n",
        " [35 43  7 20 17 24 50 37 73 36]]\n",
        " ```\n",
        " although the exact numbers may be different. Check to make sure the data is shifted over one step for `y`."
      ]
    },
    {
      "cell_type": "markdown",
      "metadata": {
        "id": "-D5xwoO2iCGE",
        "colab_type": "text"
      },
      "source": [
        "---\n",
        "## Defining the network with PyTorch\n",
        "\n",
        "Below is where you'll define the network.\n",
        "\n",
        "<img src=\"assets/charRNN.png\" width=500px>\n",
        "\n",
        "Next, you'll use PyTorch to define the architecture of the network. We start by defining the layers and operations we want. Then, define a method for the forward pass. You've also been given a method for predicting characters."
      ]
    },
    {
      "cell_type": "markdown",
      "metadata": {
        "id": "9-ZH9v15iCGF",
        "colab_type": "text"
      },
      "source": [
        "### Model Structure\n",
        "\n",
        "In `__init__` the suggested structure is as follows:\n",
        "* Create and store the necessary dictionaries (this has been done for you)\n",
        "* Define an LSTM layer that takes as params: an input size (the number of characters), a hidden layer size `n_hidden`, a number of layers `n_layers`, a dropout probability `drop_prob`, and a batch_first boolean (True, since we are batching)\n",
        "* Define a dropout layer with `drop_prob`\n",
        "* Define a fully-connected layer with params: input size `n_hidden` and output size (the number of characters)\n",
        "* Finally, initialize the weights (again, this has been given)\n",
        "\n",
        "Note that some parameters have been named and given in the `__init__` function, and we use them and store them by doing something like `self.drop_prob = drop_prob`."
      ]
    },
    {
      "cell_type": "markdown",
      "metadata": {
        "id": "JyE0oTz7iCGG",
        "colab_type": "text"
      },
      "source": [
        "---\n",
        "### LSTM Inputs/Outputs\n",
        "\n",
        "You can create a basic [LSTM layer](https://pytorch.org/docs/stable/nn.html#lstm) as follows\n",
        "\n",
        "```python\n",
        "self.lstm = nn.LSTM(input_size, n_hidden, n_layers, \n",
        "                            dropout=drop_prob, batch_first=True)\n",
        "```\n",
        "\n",
        "where `input_size` is the number of characters this cell expects to see as sequential input, and `n_hidden` is the number of units in the hidden layers in the cell. And we can add dropout by adding a dropout parameter with a specified probability; this will automatically add dropout to the inputs or outputs. Finally, in the `forward` function, we can stack up the LSTM cells into layers using `.view`. With this, you pass in a list of cells and it will send the output of one cell into the next cell.\n",
        "\n",
        "We also need to create an initial hidden state of all zeros. This is done like so\n",
        "\n",
        "```python\n",
        "self.init_hidden()\n",
        "```"
      ]
    },
    {
      "cell_type": "code",
      "metadata": {
        "id": "ojD5maGCiCGH",
        "colab_type": "code",
        "outputId": "f0f855ce-7447-48cb-c972-68b72389a79b",
        "colab": {
          "base_uri": "https://localhost:8080/",
          "height": 34
        }
      },
      "source": [
        "# check if GPU is available\n",
        "train_on_gpu = torch.cuda.is_available()\n",
        "if(train_on_gpu):\n",
        "    print('Training on GPU!')\n",
        "else: \n",
        "    print('No GPU available, training on CPU; consider making n_epochs very small.')"
      ],
      "execution_count": 15,
      "outputs": [
        {
          "output_type": "stream",
          "text": [
            "Training on GPU!\n"
          ],
          "name": "stdout"
        }
      ]
    },
    {
      "cell_type": "code",
      "metadata": {
        "id": "FNBpsAD8iCGJ",
        "colab_type": "code",
        "colab": {}
      },
      "source": [
        "class CharRNN(nn.Module):\n",
        "    \n",
        "    def __init__(self, tokens, n_hidden=256, n_layers=2,\n",
        "                               drop_prob=0.5, lr=0.001):\n",
        "        super().__init__()\n",
        "        self.drop_prob = drop_prob\n",
        "        self.n_layers = n_layers\n",
        "        self.n_hidden = n_hidden\n",
        "        self.lr = lr\n",
        "        \n",
        "        # creating character dictionaries\n",
        "        self.chars = tokens\n",
        "        self.int2char = dict(enumerate(self.chars))\n",
        "        self.char2int = {ch: ii for ii, ch in self.int2char.items()}\n",
        "        \n",
        "        ## TODO: define the layers of the model\n",
        "        #define the LSTM\n",
        "        self.lstm = nn.LSTM(len(self.chars), n_hidden, n_layers,\n",
        "                            dropout=drop_prob, batch_first=True)\n",
        "        \n",
        "        #define a dropout layer\n",
        "        self.dropout = nn.Dropout(drop_prob)\n",
        "        \n",
        "        #defne the final, fully connected output layer\n",
        "        self.fc = nn.Linear(n_hidden, len(self.chars))\n",
        "      \n",
        "    \n",
        "    def forward(self, x, hidden):\n",
        "        ''' Forward pass through the network. \n",
        "            These inputs are x, and the hidden/cell state `hidden`. '''\n",
        "                \n",
        "        ## TODO: Get the outputs and the new hidden state from the lstm\n",
        "        r_output, hidden = self.lstm(x, hidden)\n",
        "\n",
        "        #pass through a dropout layer\n",
        "        out = self.dropout(r_output)\n",
        "\n",
        "        #Stack up LSTM outputs using view\n",
        "        out = out.view(-1, self.n_hidden)\n",
        "\n",
        "        #put x through the fully-connected layer\n",
        "        out = self.fc(out)\n",
        "        # return the final output and the hidden state\n",
        "        return out, hidden\n",
        "    \n",
        "    \n",
        "    def init_hidden(self, batch_size):\n",
        "        ''' Initializes hidden state '''\n",
        "        # Create two new tensors with sizes n_layers x batch_size x n_hidden,\n",
        "        # initialized to zero, for hidden state and cell state of LSTM\n",
        "        weight = next(self.parameters()).data\n",
        "        \n",
        "        if (train_on_gpu):\n",
        "            hidden = (weight.new(self.n_layers, batch_size, self.n_hidden).zero_().cuda(),\n",
        "                  weight.new(self.n_layers, batch_size, self.n_hidden).zero_().cuda())\n",
        "        else:\n",
        "            hidden = (weight.new(self.n_layers, batch_size, self.n_hidden).zero_(),\n",
        "                      weight.new(self.n_layers, batch_size, self.n_hidden).zero_())\n",
        "        \n",
        "        return hidden\n",
        "        "
      ],
      "execution_count": 0,
      "outputs": []
    },
    {
      "cell_type": "markdown",
      "metadata": {
        "id": "u_Wf4XnCiCGL",
        "colab_type": "text"
      },
      "source": [
        "## Time to train\n",
        "\n",
        "The train function gives us the ability to set the number of epochs, the learning rate, and other parameters.\n",
        "\n",
        "Below we're using an Adam optimizer and cross entropy loss since we are looking at character class scores as output. We calculate the loss and perform backpropagation, as usual!\n",
        "\n",
        "A couple of details about training: \n",
        ">* Within the batch loop, we detach the hidden state from its history; this time setting it equal to a new *tuple* variable because an LSTM has a hidden state that is a tuple of the hidden and cell states.\n",
        "* We use [`clip_grad_norm_`](https://pytorch.org/docs/stable/_modules/torch/nn/utils/clip_grad.html) to help prevent exploding gradients."
      ]
    },
    {
      "cell_type": "code",
      "metadata": {
        "id": "8y_1pzwyiCGM",
        "colab_type": "code",
        "colab": {}
      },
      "source": [
        "def train(net, data, epochs=10, batch_size=10, seq_length=50, lr=0.001, clip=5, val_frac=0.1, print_every=10):\n",
        "    ''' Training a network \n",
        "    \n",
        "        Arguments\n",
        "        ---------\n",
        "        \n",
        "        net: CharRNN network\n",
        "        data: text data to train the network\n",
        "        epochs: Number of epochs to train\n",
        "        batch_size: Number of mini-sequences per mini-batch, aka batch size\n",
        "        seq_length: Number of character steps per mini-batch\n",
        "        lr: learning rate\n",
        "        clip: gradient clipping\n",
        "        val_frac: Fraction of data to hold out for validation\n",
        "        print_every: Number of steps for printing training and validation loss\n",
        "    \n",
        "    '''\n",
        "    #net.train()\n",
        "    \n",
        "    opt = torch.optim.Adam(net.parameters(), lr=lr)\n",
        "    criterion = nn.CrossEntropyLoss()\n",
        "    \n",
        "    # create training and validation data\n",
        "    val_idx = int(len(data)*(1-val_frac))\n",
        "    data, val_data = data[:val_idx], data[val_idx:]\n",
        "    \n",
        "    if(train_on_gpu):\n",
        "        net.cuda()\n",
        "    \n",
        "    counter = 0\n",
        "    n_chars = len(net.chars)\n",
        "    for e in range(epochs):\n",
        "        # initialize hidden state\n",
        "        h = net.init_hidden(batch_size)\n",
        "        \n",
        "        for x, y in get_batches(data, batch_size, seq_length):\n",
        "            counter += 1\n",
        "            \n",
        "            # One-hot encode our data and make them Torch tensors\n",
        "            x = one_hot_encode(x, n_chars)\n",
        "            inputs, targets = torch.from_numpy(x), torch.from_numpy(y)\n",
        "            \n",
        "            if(train_on_gpu):\n",
        "                inputs, targets = inputs.cuda(), targets.cuda()\n",
        "\n",
        "            # Creating new variables for the hidden state, otherwise\n",
        "            # we'd backprop through the entire training history\n",
        "            h = tuple([each.data for each in h])\n",
        "\n",
        "            # zero accumulated gradients\n",
        "            net.zero_grad()\n",
        "            \n",
        "            # get the output from the model\n",
        "            output, h = net(inputs, h)\n",
        "            \n",
        "            # calculate the loss and perform backprop\n",
        "            loss = criterion(output, targets.view(batch_size*seq_length).long())\n",
        "            loss.backward()\n",
        "            # `clip_grad_norm` helps prevent the exploding gradient problem in RNNs / LSTMs.\n",
        "            nn.utils.clip_grad_norm_(net.parameters(), clip)\n",
        "            opt.step()\n",
        "            \n",
        "            # loss stats\n",
        "            if counter % print_every == 0:\n",
        "                # Get validation loss\n",
        "                val_h = net.init_hidden(batch_size)\n",
        "                val_losses = []\n",
        "                #net.eval()\n",
        "                for x, y in get_batches(val_data, batch_size, seq_length):\n",
        "                    # One-hot encode our data and make them Torch tensors\n",
        "                    x = one_hot_encode(x, n_chars)\n",
        "                    x, y = torch.from_numpy(x), torch.from_numpy(y)\n",
        "                    \n",
        "                    # Creating new variables for the hidden state, otherwise\n",
        "                    # we'd backprop through the entire training history\n",
        "                    val_h = tuple([each.data for each in val_h])\n",
        "                    \n",
        "                    inputs, targets = x, y\n",
        "                    if(train_on_gpu):\n",
        "                        inputs, targets = inputs.cuda(), targets.cuda()\n",
        "\n",
        "                    output, val_h = net(inputs, val_h)\n",
        "                    val_loss = criterion(output, targets.view(batch_size*seq_length).long())\n",
        "                \n",
        "                    val_losses.append(val_loss.item())\n",
        "                \n",
        "                net.train() # reset to train mode after iterationg through validation data\n",
        "                \n",
        "                print(\"Epoch: {}/{}...\".format(e+1, epochs),\n",
        "                      \"Step: {}...\".format(counter),\n",
        "                      \"Loss: {:.4f}...\".format(loss.item()),\n",
        "                      \"Val Loss: {:.4f}\".format(np.mean(val_losses)))"
      ],
      "execution_count": 0,
      "outputs": []
    },
    {
      "cell_type": "markdown",
      "metadata": {
        "id": "2hDU8m4aiCGO",
        "colab_type": "text"
      },
      "source": [
        "## Instantiating the model\n",
        "\n",
        "Now we can actually train the network. First we'll create the network itself, with some given hyperparameters. Then, define the mini-batches sizes, and start training!"
      ]
    },
    {
      "cell_type": "code",
      "metadata": {
        "id": "9LNV_NCaiCGP",
        "colab_type": "code",
        "outputId": "f2e3c209-9c5f-4d92-c762-fa1304b883ed",
        "colab": {
          "base_uri": "https://localhost:8080/",
          "height": 102
        }
      },
      "source": [
        "## TODO: set your model hyperparameters\n",
        "# define and print the net\n",
        "n_hidden=512\n",
        "n_layers=2\n",
        "\n",
        "net = CharRNN(chars, n_hidden, n_layers)\n",
        "print(net)"
      ],
      "execution_count": 18,
      "outputs": [
        {
          "output_type": "stream",
          "text": [
            "CharRNN(\n",
            "  (lstm): LSTM(83, 512, num_layers=2, batch_first=True, dropout=0.5)\n",
            "  (dropout): Dropout(p=0.5, inplace=False)\n",
            "  (fc): Linear(in_features=512, out_features=83, bias=True)\n",
            ")\n"
          ],
          "name": "stdout"
        }
      ]
    },
    {
      "cell_type": "markdown",
      "metadata": {
        "id": "eUFuN0N1iCGR",
        "colab_type": "text"
      },
      "source": [
        "### Set your training hyperparameters!"
      ]
    },
    {
      "cell_type": "code",
      "metadata": {
        "scrolled": true,
        "id": "7cBqhSPIiCGS",
        "colab_type": "code",
        "outputId": "ee2bce69-a191-4c6c-9435-fa807ab49fe8",
        "colab": {
          "base_uri": "https://localhost:8080/",
          "height": 1000
        }
      },
      "source": [
        "batch_size = 128\n",
        "seq_length = 100\n",
        "n_epochs = 20 # start small if you are just testing initial behavior\n",
        "\n",
        "# train the model\n",
        "train(net, encoded, epochs=n_epochs, batch_size=batch_size, seq_length=seq_length, lr=0.001, print_every=10)"
      ],
      "execution_count": 0,
      "outputs": [
        {
          "output_type": "stream",
          "text": [
            "Epoch: 1/20... Step: 10... Loss: 3.2535... Val Loss: 3.2669\n",
            "Epoch: 1/20... Step: 20... Loss: 3.1489... Val Loss: 3.1823\n",
            "Epoch: 1/20... Step: 30... Loss: 3.1435... Val Loss: 3.1571\n",
            "Epoch: 1/20... Step: 40... Loss: 3.1151... Val Loss: 3.1448\n",
            "Epoch: 1/20... Step: 50... Loss: 3.1432... Val Loss: 3.1384\n",
            "Epoch: 1/20... Step: 60... Loss: 3.1197... Val Loss: 3.1339\n",
            "Epoch: 1/20... Step: 70... Loss: 3.1069... Val Loss: 3.1312\n",
            "Epoch: 1/20... Step: 80... Loss: 3.1231... Val Loss: 3.1249\n",
            "Epoch: 1/20... Step: 90... Loss: 3.1153... Val Loss: 3.1136\n",
            "Epoch: 1/20... Step: 100... Loss: 3.0857... Val Loss: 3.0870\n",
            "Epoch: 1/20... Step: 110... Loss: 3.0884... Val Loss: 3.0904\n",
            "Epoch: 1/20... Step: 120... Loss: 3.0131... Val Loss: 3.0215\n",
            "Epoch: 1/20... Step: 130... Loss: 2.9281... Val Loss: 2.9210\n",
            "Epoch: 2/20... Step: 140... Loss: 2.8747... Val Loss: 2.8557\n",
            "Epoch: 2/20... Step: 150... Loss: 2.7720... Val Loss: 2.7646\n",
            "Epoch: 2/20... Step: 160... Loss: 2.6630... Val Loss: 2.6786\n",
            "Epoch: 2/20... Step: 170... Loss: 2.5540... Val Loss: 2.5861\n",
            "Epoch: 2/20... Step: 180... Loss: 2.5170... Val Loss: 2.5372\n",
            "Epoch: 2/20... Step: 190... Loss: 2.4566... Val Loss: 2.4935\n",
            "Epoch: 2/20... Step: 200... Loss: 2.4436... Val Loss: 2.4834\n",
            "Epoch: 2/20... Step: 210... Loss: 2.4117... Val Loss: 2.4441\n",
            "Epoch: 2/20... Step: 220... Loss: 2.3772... Val Loss: 2.4109\n",
            "Epoch: 2/20... Step: 230... Loss: 2.3552... Val Loss: 2.3836\n",
            "Epoch: 2/20... Step: 240... Loss: 2.3361... Val Loss: 2.3609\n",
            "Epoch: 2/20... Step: 250... Loss: 2.2756... Val Loss: 2.3383\n",
            "Epoch: 2/20... Step: 260... Loss: 2.2542... Val Loss: 2.3196\n",
            "Epoch: 2/20... Step: 270... Loss: 2.2494... Val Loss: 2.2921\n",
            "Epoch: 3/20... Step: 280... Loss: 2.2615... Val Loss: 2.2724\n",
            "Epoch: 3/20... Step: 290... Loss: 2.2073... Val Loss: 2.2496\n",
            "Epoch: 3/20... Step: 300... Loss: 2.1913... Val Loss: 2.2281\n",
            "Epoch: 3/20... Step: 310... Loss: 2.1658... Val Loss: 2.2119\n",
            "Epoch: 3/20... Step: 320... Loss: 2.1304... Val Loss: 2.1950\n",
            "Epoch: 3/20... Step: 330... Loss: 2.1075... Val Loss: 2.1789\n",
            "Epoch: 3/20... Step: 340... Loss: 2.1196... Val Loss: 2.1612\n",
            "Epoch: 3/20... Step: 350... Loss: 2.1034... Val Loss: 2.1427\n",
            "Epoch: 3/20... Step: 360... Loss: 2.0301... Val Loss: 2.1236\n",
            "Epoch: 3/20... Step: 370... Loss: 2.0564... Val Loss: 2.1081\n",
            "Epoch: 3/20... Step: 380... Loss: 2.0315... Val Loss: 2.0930\n",
            "Epoch: 3/20... Step: 390... Loss: 2.0123... Val Loss: 2.0777\n",
            "Epoch: 3/20... Step: 400... Loss: 1.9733... Val Loss: 2.0677\n",
            "Epoch: 3/20... Step: 410... Loss: 1.9850... Val Loss: 2.0496\n",
            "Epoch: 4/20... Step: 420... Loss: 1.9829... Val Loss: 2.0427\n",
            "Epoch: 4/20... Step: 430... Loss: 1.9675... Val Loss: 2.0251\n",
            "Epoch: 4/20... Step: 440... Loss: 1.9464... Val Loss: 2.0154\n",
            "Epoch: 4/20... Step: 450... Loss: 1.8915... Val Loss: 2.0035\n",
            "Epoch: 4/20... Step: 460... Loss: 1.8740... Val Loss: 1.9914\n",
            "Epoch: 4/20... Step: 470... Loss: 1.9113... Val Loss: 1.9841\n",
            "Epoch: 4/20... Step: 480... Loss: 1.8908... Val Loss: 1.9705\n",
            "Epoch: 4/20... Step: 490... Loss: 1.8921... Val Loss: 1.9626\n",
            "Epoch: 4/20... Step: 500... Loss: 1.8908... Val Loss: 1.9485\n",
            "Epoch: 4/20... Step: 510... Loss: 1.8705... Val Loss: 1.9425\n",
            "Epoch: 4/20... Step: 520... Loss: 1.8801... Val Loss: 1.9363\n",
            "Epoch: 4/20... Step: 530... Loss: 1.8417... Val Loss: 1.9216\n",
            "Epoch: 4/20... Step: 540... Loss: 1.8054... Val Loss: 1.9126\n",
            "Epoch: 4/20... Step: 550... Loss: 1.8350... Val Loss: 1.9043\n",
            "Epoch: 5/20... Step: 560... Loss: 1.8137... Val Loss: 1.8944\n",
            "Epoch: 5/20... Step: 570... Loss: 1.8009... Val Loss: 1.8827\n",
            "Epoch: 5/20... Step: 580... Loss: 1.7722... Val Loss: 1.8753\n",
            "Epoch: 5/20... Step: 590... Loss: 1.7778... Val Loss: 1.8707\n",
            "Epoch: 5/20... Step: 600... Loss: 1.7603... Val Loss: 1.8628\n",
            "Epoch: 5/20... Step: 610... Loss: 1.7498... Val Loss: 1.8518\n",
            "Epoch: 5/20... Step: 620... Loss: 1.7577... Val Loss: 1.8489\n",
            "Epoch: 5/20... Step: 630... Loss: 1.7654... Val Loss: 1.8426\n",
            "Epoch: 5/20... Step: 640... Loss: 1.7311... Val Loss: 1.8346\n",
            "Epoch: 5/20... Step: 650... Loss: 1.7174... Val Loss: 1.8221\n",
            "Epoch: 5/20... Step: 660... Loss: 1.6975... Val Loss: 1.8220\n",
            "Epoch: 5/20... Step: 670... Loss: 1.7243... Val Loss: 1.8138\n",
            "Epoch: 5/20... Step: 680... Loss: 1.7273... Val Loss: 1.8049\n",
            "Epoch: 5/20... Step: 690... Loss: 1.7023... Val Loss: 1.8005\n",
            "Epoch: 6/20... Step: 700... Loss: 1.7055... Val Loss: 1.7943\n",
            "Epoch: 6/20... Step: 710... Loss: 1.6971... Val Loss: 1.7899\n",
            "Epoch: 6/20... Step: 720... Loss: 1.6709... Val Loss: 1.7854\n",
            "Epoch: 6/20... Step: 730... Loss: 1.6968... Val Loss: 1.7746\n",
            "Epoch: 6/20... Step: 740... Loss: 1.6613... Val Loss: 1.7717\n",
            "Epoch: 6/20... Step: 750... Loss: 1.6354... Val Loss: 1.7674\n",
            "Epoch: 6/20... Step: 760... Loss: 1.6656... Val Loss: 1.7637\n",
            "Epoch: 6/20... Step: 770... Loss: 1.6516... Val Loss: 1.7576\n",
            "Epoch: 6/20... Step: 780... Loss: 1.6331... Val Loss: 1.7531\n",
            "Epoch: 6/20... Step: 790... Loss: 1.6262... Val Loss: 1.7484\n",
            "Epoch: 6/20... Step: 800... Loss: 1.6389... Val Loss: 1.7447\n",
            "Epoch: 6/20... Step: 810... Loss: 1.6404... Val Loss: 1.7386\n",
            "Epoch: 6/20... Step: 820... Loss: 1.5907... Val Loss: 1.7327\n",
            "Epoch: 6/20... Step: 830... Loss: 1.6375... Val Loss: 1.7296\n",
            "Epoch: 7/20... Step: 840... Loss: 1.5935... Val Loss: 1.7294\n",
            "Epoch: 7/20... Step: 850... Loss: 1.6193... Val Loss: 1.7219\n",
            "Epoch: 7/20... Step: 860... Loss: 1.5937... Val Loss: 1.7211\n",
            "Epoch: 7/20... Step: 870... Loss: 1.6025... Val Loss: 1.7119\n",
            "Epoch: 7/20... Step: 880... Loss: 1.6051... Val Loss: 1.7109\n",
            "Epoch: 7/20... Step: 890... Loss: 1.5947... Val Loss: 1.7063\n",
            "Epoch: 7/20... Step: 900... Loss: 1.5848... Val Loss: 1.7000\n",
            "Epoch: 7/20... Step: 910... Loss: 1.5522... Val Loss: 1.6955\n",
            "Epoch: 7/20... Step: 920... Loss: 1.5836... Val Loss: 1.6911\n",
            "Epoch: 7/20... Step: 930... Loss: 1.5608... Val Loss: 1.6907\n",
            "Epoch: 7/20... Step: 940... Loss: 1.5655... Val Loss: 1.6839\n",
            "Epoch: 7/20... Step: 950... Loss: 1.5757... Val Loss: 1.6772\n",
            "Epoch: 7/20... Step: 960... Loss: 1.5685... Val Loss: 1.6752\n",
            "Epoch: 7/20... Step: 970... Loss: 1.5820... Val Loss: 1.6719\n",
            "Epoch: 8/20... Step: 980... Loss: 1.5565... Val Loss: 1.6697\n",
            "Epoch: 8/20... Step: 990... Loss: 1.5489... Val Loss: 1.6646\n",
            "Epoch: 8/20... Step: 1000... Loss: 1.5386... Val Loss: 1.6589\n",
            "Epoch: 8/20... Step: 1010... Loss: 1.5815... Val Loss: 1.6571\n",
            "Epoch: 8/20... Step: 1020... Loss: 1.5513... Val Loss: 1.6550\n",
            "Epoch: 8/20... Step: 1030... Loss: 1.5332... Val Loss: 1.6530\n",
            "Epoch: 8/20... Step: 1040... Loss: 1.5390... Val Loss: 1.6509\n",
            "Epoch: 8/20... Step: 1050... Loss: 1.5174... Val Loss: 1.6459\n",
            "Epoch: 8/20... Step: 1060... Loss: 1.5269... Val Loss: 1.6486\n",
            "Epoch: 8/20... Step: 1070... Loss: 1.5400... Val Loss: 1.6415\n",
            "Epoch: 8/20... Step: 1080... Loss: 1.5242... Val Loss: 1.6411\n",
            "Epoch: 8/20... Step: 1090... Loss: 1.5102... Val Loss: 1.6348\n",
            "Epoch: 8/20... Step: 1100... Loss: 1.5025... Val Loss: 1.6270\n",
            "Epoch: 8/20... Step: 1110... Loss: 1.5146... Val Loss: 1.6241\n",
            "Epoch: 9/20... Step: 1120... Loss: 1.5192... Val Loss: 1.6207\n",
            "Epoch: 9/20... Step: 1130... Loss: 1.5061... Val Loss: 1.6201\n",
            "Epoch: 9/20... Step: 1140... Loss: 1.5052... Val Loss: 1.6181\n",
            "Epoch: 9/20... Step: 1150... Loss: 1.5246... Val Loss: 1.6175\n",
            "Epoch: 9/20... Step: 1160... Loss: 1.4677... Val Loss: 1.6155\n",
            "Epoch: 9/20... Step: 1170... Loss: 1.4892... Val Loss: 1.6112\n",
            "Epoch: 9/20... Step: 1180... Loss: 1.4901... Val Loss: 1.6100\n",
            "Epoch: 9/20... Step: 1190... Loss: 1.5116... Val Loss: 1.6075\n",
            "Epoch: 9/20... Step: 1200... Loss: 1.4628... Val Loss: 1.6046\n",
            "Epoch: 9/20... Step: 1210... Loss: 1.4835... Val Loss: 1.6028\n",
            "Epoch: 9/20... Step: 1220... Loss: 1.4683... Val Loss: 1.5977\n",
            "Epoch: 9/20... Step: 1230... Loss: 1.4521... Val Loss: 1.5930\n",
            "Epoch: 9/20... Step: 1240... Loss: 1.4600... Val Loss: 1.5927\n",
            "Epoch: 9/20... Step: 1250... Loss: 1.4687... Val Loss: 1.5887\n",
            "Epoch: 10/20... Step: 1260... Loss: 1.4727... Val Loss: 1.5839\n",
            "Epoch: 10/20... Step: 1270... Loss: 1.4665... Val Loss: 1.5837\n",
            "Epoch: 10/20... Step: 1280... Loss: 1.4775... Val Loss: 1.5811\n",
            "Epoch: 10/20... Step: 1290... Loss: 1.4689... Val Loss: 1.5794\n",
            "Epoch: 10/20... Step: 1300... Loss: 1.4546... Val Loss: 1.5787\n",
            "Epoch: 10/20... Step: 1310... Loss: 1.4623... Val Loss: 1.5763\n",
            "Epoch: 10/20... Step: 1320... Loss: 1.4372... Val Loss: 1.5781\n",
            "Epoch: 10/20... Step: 1330... Loss: 1.4427... Val Loss: 1.5769\n",
            "Epoch: 10/20... Step: 1340... Loss: 1.4377... Val Loss: 1.5706\n",
            "Epoch: 10/20... Step: 1350... Loss: 1.4154... Val Loss: 1.5720\n",
            "Epoch: 10/20... Step: 1360... Loss: 1.4257... Val Loss: 1.5654\n",
            "Epoch: 10/20... Step: 1370... Loss: 1.4158... Val Loss: 1.5688\n",
            "Epoch: 10/20... Step: 1380... Loss: 1.4520... Val Loss: 1.5630\n",
            "Epoch: 10/20... Step: 1390... Loss: 1.4639... Val Loss: 1.5597\n",
            "Epoch: 11/20... Step: 1400... Loss: 1.4643... Val Loss: 1.5632\n",
            "Epoch: 11/20... Step: 1410... Loss: 1.4719... Val Loss: 1.5588\n",
            "Epoch: 11/20... Step: 1420... Loss: 1.4570... Val Loss: 1.5558\n",
            "Epoch: 11/20... Step: 1430... Loss: 1.4274... Val Loss: 1.5554\n",
            "Epoch: 11/20... Step: 1440... Loss: 1.4556... Val Loss: 1.5550\n",
            "Epoch: 11/20... Step: 1450... Loss: 1.3834... Val Loss: 1.5519\n",
            "Epoch: 11/20... Step: 1460... Loss: 1.4060... Val Loss: 1.5489\n",
            "Epoch: 11/20... Step: 1470... Loss: 1.3957... Val Loss: 1.5512\n",
            "Epoch: 11/20... Step: 1480... Loss: 1.4201... Val Loss: 1.5490\n",
            "Epoch: 11/20... Step: 1490... Loss: 1.4140... Val Loss: 1.5447\n",
            "Epoch: 11/20... Step: 1500... Loss: 1.3939... Val Loss: 1.5459\n",
            "Epoch: 11/20... Step: 1510... Loss: 1.3770... Val Loss: 1.5370\n",
            "Epoch: 11/20... Step: 1520... Loss: 1.4201... Val Loss: 1.5377\n",
            "Epoch: 12/20... Step: 1530... Loss: 1.4624... Val Loss: 1.5409\n",
            "Epoch: 12/20... Step: 1540... Loss: 1.4164... Val Loss: 1.5325\n",
            "Epoch: 12/20... Step: 1550... Loss: 1.4204... Val Loss: 1.5322\n",
            "Epoch: 12/20... Step: 1560... Loss: 1.4266... Val Loss: 1.5302\n",
            "Epoch: 12/20... Step: 1570... Loss: 1.3848... Val Loss: 1.5361\n",
            "Epoch: 12/20... Step: 1580... Loss: 1.3540... Val Loss: 1.5300\n",
            "Epoch: 12/20... Step: 1590... Loss: 1.3520... Val Loss: 1.5273\n",
            "Epoch: 12/20... Step: 1600... Loss: 1.3797... Val Loss: 1.5248\n",
            "Epoch: 12/20... Step: 1610... Loss: 1.3789... Val Loss: 1.5292\n",
            "Epoch: 12/20... Step: 1620... Loss: 1.3672... Val Loss: 1.5267\n",
            "Epoch: 12/20... Step: 1630... Loss: 1.3946... Val Loss: 1.5216\n",
            "Epoch: 12/20... Step: 1640... Loss: 1.3750... Val Loss: 1.5220\n",
            "Epoch: 12/20... Step: 1650... Loss: 1.3415... Val Loss: 1.5200\n",
            "Epoch: 12/20... Step: 1660... Loss: 1.4003... Val Loss: 1.5179\n",
            "Epoch: 13/20... Step: 1670... Loss: 1.3752... Val Loss: 1.5187\n",
            "Epoch: 13/20... Step: 1680... Loss: 1.3841... Val Loss: 1.5165\n",
            "Epoch: 13/20... Step: 1690... Loss: 1.3664... Val Loss: 1.5120\n",
            "Epoch: 13/20... Step: 1700... Loss: 1.3690... Val Loss: 1.5123\n",
            "Epoch: 13/20... Step: 1710... Loss: 1.3394... Val Loss: 1.5144\n",
            "Epoch: 13/20... Step: 1720... Loss: 1.3505... Val Loss: 1.5120\n",
            "Epoch: 13/20... Step: 1730... Loss: 1.3934... Val Loss: 1.5075\n",
            "Epoch: 13/20... Step: 1740... Loss: 1.3529... Val Loss: 1.5114\n",
            "Epoch: 13/20... Step: 1750... Loss: 1.3249... Val Loss: 1.5106\n",
            "Epoch: 13/20... Step: 1760... Loss: 1.3618... Val Loss: 1.5070\n",
            "Epoch: 13/20... Step: 1770... Loss: 1.3729... Val Loss: 1.5039\n",
            "Epoch: 13/20... Step: 1780... Loss: 1.3470... Val Loss: 1.5053\n",
            "Epoch: 13/20... Step: 1790... Loss: 1.3415... Val Loss: 1.5003\n",
            "Epoch: 13/20... Step: 1800... Loss: 1.3578... Val Loss: 1.4967\n",
            "Epoch: 14/20... Step: 1810... Loss: 1.3646... Val Loss: 1.5011\n",
            "Epoch: 14/20... Step: 1820... Loss: 1.3501... Val Loss: 1.4979\n",
            "Epoch: 14/20... Step: 1830... Loss: 1.3746... Val Loss: 1.4992\n",
            "Epoch: 14/20... Step: 1840... Loss: 1.3117... Val Loss: 1.4933\n",
            "Epoch: 14/20... Step: 1850... Loss: 1.2970... Val Loss: 1.4998\n",
            "Epoch: 14/20... Step: 1860... Loss: 1.3630... Val Loss: 1.4980\n",
            "Epoch: 14/20... Step: 1870... Loss: 1.3567... Val Loss: 1.4952\n",
            "Epoch: 14/20... Step: 1880... Loss: 1.3456... Val Loss: 1.4974\n",
            "Epoch: 14/20... Step: 1890... Loss: 1.3701... Val Loss: 1.4930\n",
            "Epoch: 14/20... Step: 1900... Loss: 1.3410... Val Loss: 1.4893\n",
            "Epoch: 14/20... Step: 1910... Loss: 1.3450... Val Loss: 1.4855\n",
            "Epoch: 14/20... Step: 1920... Loss: 1.3371... Val Loss: 1.4897\n",
            "Epoch: 14/20... Step: 1930... Loss: 1.3074... Val Loss: 1.4838\n",
            "Epoch: 14/20... Step: 1940... Loss: 1.3595... Val Loss: 1.4848\n",
            "Epoch: 15/20... Step: 1950... Loss: 1.3249... Val Loss: 1.4869\n",
            "Epoch: 15/20... Step: 1960... Loss: 1.3266... Val Loss: 1.4843\n",
            "Epoch: 15/20... Step: 1970... Loss: 1.3172... Val Loss: 1.4815\n",
            "Epoch: 15/20... Step: 1980... Loss: 1.3205... Val Loss: 1.4856\n",
            "Epoch: 15/20... Step: 1990... Loss: 1.3187... Val Loss: 1.4814\n",
            "Epoch: 15/20... Step: 2000... Loss: 1.3097... Val Loss: 1.4773\n",
            "Epoch: 15/20... Step: 2010... Loss: 1.3241... Val Loss: 1.4749\n",
            "Epoch: 15/20... Step: 2020... Loss: 1.3375... Val Loss: 1.4769\n",
            "Epoch: 15/20... Step: 2030... Loss: 1.3122... Val Loss: 1.4768\n",
            "Epoch: 15/20... Step: 2040... Loss: 1.3327... Val Loss: 1.4746\n",
            "Epoch: 15/20... Step: 2050... Loss: 1.3109... Val Loss: 1.4728\n",
            "Epoch: 15/20... Step: 2060... Loss: 1.3237... Val Loss: 1.4748\n",
            "Epoch: 15/20... Step: 2070... Loss: 1.3307... Val Loss: 1.4672\n",
            "Epoch: 15/20... Step: 2080... Loss: 1.3162... Val Loss: 1.4736\n",
            "Epoch: 16/20... Step: 2090... Loss: 1.3267... Val Loss: 1.4780\n",
            "Epoch: 16/20... Step: 2100... Loss: 1.3055... Val Loss: 1.4672\n",
            "Epoch: 16/20... Step: 2110... Loss: 1.2942... Val Loss: 1.4654\n",
            "Epoch: 16/20... Step: 2120... Loss: 1.3201... Val Loss: 1.4721\n",
            "Epoch: 16/20... Step: 2130... Loss: 1.3005... Val Loss: 1.4714\n",
            "Epoch: 16/20... Step: 2140... Loss: 1.2974... Val Loss: 1.4638\n",
            "Epoch: 16/20... Step: 2150... Loss: 1.3303... Val Loss: 1.4624\n",
            "Epoch: 16/20... Step: 2160... Loss: 1.2984... Val Loss: 1.4689\n",
            "Epoch: 16/20... Step: 2170... Loss: 1.2893... Val Loss: 1.4658\n",
            "Epoch: 16/20... Step: 2180... Loss: 1.2988... Val Loss: 1.4619\n",
            "Epoch: 16/20... Step: 2190... Loss: 1.3138... Val Loss: 1.4594\n",
            "Epoch: 16/20... Step: 2200... Loss: 1.2888... Val Loss: 1.4621\n",
            "Epoch: 16/20... Step: 2210... Loss: 1.2606... Val Loss: 1.4604\n",
            "Epoch: 16/20... Step: 2220... Loss: 1.3108... Val Loss: 1.4607\n",
            "Epoch: 17/20... Step: 2230... Loss: 1.2709... Val Loss: 1.4592\n",
            "Epoch: 17/20... Step: 2240... Loss: 1.2969... Val Loss: 1.4557\n",
            "Epoch: 17/20... Step: 2250... Loss: 1.2763... Val Loss: 1.4611\n",
            "Epoch: 17/20... Step: 2260... Loss: 1.2845... Val Loss: 1.4619\n",
            "Epoch: 17/20... Step: 2270... Loss: 1.2967... Val Loss: 1.4612\n",
            "Epoch: 17/20... Step: 2280... Loss: 1.2975... Val Loss: 1.4527\n",
            "Epoch: 17/20... Step: 2290... Loss: 1.2998... Val Loss: 1.4499\n",
            "Epoch: 17/20... Step: 2300... Loss: 1.2654... Val Loss: 1.4530\n",
            "Epoch: 17/20... Step: 2310... Loss: 1.2782... Val Loss: 1.4531\n",
            "Epoch: 17/20... Step: 2320... Loss: 1.2771... Val Loss: 1.4502\n",
            "Epoch: 17/20... Step: 2330... Loss: 1.2783... Val Loss: 1.4514\n",
            "Epoch: 17/20... Step: 2340... Loss: 1.2946... Val Loss: 1.4539\n",
            "Epoch: 17/20... Step: 2350... Loss: 1.2936... Val Loss: 1.4473\n",
            "Epoch: 17/20... Step: 2360... Loss: 1.3056... Val Loss: 1.4545\n",
            "Epoch: 18/20... Step: 2370... Loss: 1.2690... Val Loss: 1.4504\n",
            "Epoch: 18/20... Step: 2380... Loss: 1.2702... Val Loss: 1.4480\n",
            "Epoch: 18/20... Step: 2390... Loss: 1.2787... Val Loss: 1.4485\n",
            "Epoch: 18/20... Step: 2400... Loss: 1.3042... Val Loss: 1.4547\n",
            "Epoch: 18/20... Step: 2410... Loss: 1.3001... Val Loss: 1.4523\n",
            "Epoch: 18/20... Step: 2420... Loss: 1.2694... Val Loss: 1.4435\n",
            "Epoch: 18/20... Step: 2430... Loss: 1.2875... Val Loss: 1.4415\n",
            "Epoch: 18/20... Step: 2440... Loss: 1.2692... Val Loss: 1.4442\n",
            "Epoch: 18/20... Step: 2450... Loss: 1.2588... Val Loss: 1.4437\n",
            "Epoch: 18/20... Step: 2460... Loss: 1.2788... Val Loss: 1.4405\n",
            "Epoch: 18/20... Step: 2470... Loss: 1.2828... Val Loss: 1.4439\n",
            "Epoch: 18/20... Step: 2480... Loss: 1.2633... Val Loss: 1.4394\n",
            "Epoch: 18/20... Step: 2490... Loss: 1.2574... Val Loss: 1.4392\n",
            "Epoch: 18/20... Step: 2500... Loss: 1.2602... Val Loss: 1.4441\n",
            "Epoch: 19/20... Step: 2510... Loss: 1.2758... Val Loss: 1.4399\n",
            "Epoch: 19/20... Step: 2520... Loss: 1.2790... Val Loss: 1.4405\n",
            "Epoch: 19/20... Step: 2530... Loss: 1.2826... Val Loss: 1.4360\n",
            "Epoch: 19/20... Step: 2540... Loss: 1.2829... Val Loss: 1.4410\n",
            "Epoch: 19/20... Step: 2550... Loss: 1.2546... Val Loss: 1.4369\n",
            "Epoch: 19/20... Step: 2560... Loss: 1.2607... Val Loss: 1.4310\n",
            "Epoch: 19/20... Step: 2570... Loss: 1.2614... Val Loss: 1.4334\n",
            "Epoch: 19/20... Step: 2580... Loss: 1.2908... Val Loss: 1.4323\n",
            "Epoch: 19/20... Step: 2590... Loss: 1.2497... Val Loss: 1.4350\n",
            "Epoch: 19/20... Step: 2600... Loss: 1.2536... Val Loss: 1.4357\n",
            "Epoch: 19/20... Step: 2610... Loss: 1.2623... Val Loss: 1.4332\n",
            "Epoch: 19/20... Step: 2620... Loss: 1.2444... Val Loss: 1.4325\n",
            "Epoch: 19/20... Step: 2630... Loss: 1.2515... Val Loss: 1.4277\n",
            "Epoch: 19/20... Step: 2640... Loss: 1.2609... Val Loss: 1.4371\n",
            "Epoch: 20/20... Step: 2650... Loss: 1.2647... Val Loss: 1.4328\n",
            "Epoch: 20/20... Step: 2660... Loss: 1.2607... Val Loss: 1.4377\n",
            "Epoch: 20/20... Step: 2670... Loss: 1.2805... Val Loss: 1.4341\n",
            "Epoch: 20/20... Step: 2680... Loss: 1.2667... Val Loss: 1.4336\n",
            "Epoch: 20/20... Step: 2690... Loss: 1.2518... Val Loss: 1.4346\n",
            "Epoch: 20/20... Step: 2700... Loss: 1.2652... Val Loss: 1.4284\n",
            "Epoch: 20/20... Step: 2710... Loss: 1.2382... Val Loss: 1.4288\n",
            "Epoch: 20/20... Step: 2720... Loss: 1.2335... Val Loss: 1.4289\n",
            "Epoch: 20/20... Step: 2730... Loss: 1.2282... Val Loss: 1.4290\n",
            "Epoch: 20/20... Step: 2740... Loss: 1.2248... Val Loss: 1.4275\n",
            "Epoch: 20/20... Step: 2750... Loss: 1.2282... Val Loss: 1.4269\n",
            "Epoch: 20/20... Step: 2760... Loss: 1.2323... Val Loss: 1.4238\n",
            "Epoch: 20/20... Step: 2770... Loss: 1.2620... Val Loss: 1.4211\n",
            "Epoch: 20/20... Step: 2780... Loss: 1.2874... Val Loss: 1.4241\n"
          ],
          "name": "stdout"
        }
      ]
    },
    {
      "cell_type": "markdown",
      "metadata": {
        "id": "j3Q3Wh-DiCGW",
        "colab_type": "text"
      },
      "source": [
        "## Getting the best model\n",
        "\n",
        "To set your hyperparameters to get the best performance, you'll want to watch the training and validation losses. If your training loss is much lower than the validation loss, you're overfitting. Increase regularization (more dropout) or use a smaller network. If the training and validation losses are close, you're underfitting so you can increase the size of the network."
      ]
    },
    {
      "cell_type": "markdown",
      "metadata": {
        "id": "p2pU4wr-iCGX",
        "colab_type": "text"
      },
      "source": [
        "## Hyperparameters\n",
        "\n",
        "Here are the hyperparameters for the network.\n",
        "\n",
        "In defining the model:\n",
        "* `n_hidden` - The number of units in the hidden layers.\n",
        "* `n_layers` - Number of hidden LSTM layers to use.\n",
        "\n",
        "We assume that dropout probability and learning rate will be kept at the default, in this example.\n",
        "\n",
        "And in training:\n",
        "* `batch_size` - Number of sequences running through the network in one pass.\n",
        "* `seq_length` - Number of characters in the sequence the network is trained on. Larger is better typically, the network will learn more long range dependencies. But it takes longer to train. 100 is typically a good number here.\n",
        "* `lr` - Learning rate for training\n",
        "\n",
        "Here's some good advice from Andrej Karpathy on training the network. I'm going to copy it in here for your benefit, but also link to [where it originally came from](https://github.com/karpathy/char-rnn#tips-and-tricks).\n",
        "\n",
        "> ## Tips and Tricks\n",
        "\n",
        ">### Monitoring Validation Loss vs. Training Loss\n",
        ">If you're somewhat new to Machine Learning or Neural Networks it can take a bit of expertise to get good models. The most important quantity to keep track of is the difference between your training loss (printed during training) and the validation loss (printed once in a while when the RNN is run on the validation data (by default every 1000 iterations)). In particular:\n",
        "\n",
        "> - If your training loss is much lower than validation loss then this means the network might be **overfitting**. Solutions to this are to decrease your network size, or to increase dropout. For example you could try dropout of 0.5 and so on.\n",
        "> - If your training/validation loss are about equal then your model is **underfitting**. Increase the size of your model (either number of layers or the raw number of neurons per layer)\n",
        "\n",
        "> ### Approximate number of parameters\n",
        "\n",
        "> The two most important parameters that control the model are `n_hidden` and `n_layers`. I would advise that you always use `n_layers` of either 2/3. The `n_hidden` can be adjusted based on how much data you have. The two important quantities to keep track of here are:\n",
        "\n",
        "> - The number of parameters in your model. This is printed when you start training.\n",
        "> - The size of your dataset. 1MB file is approximately 1 million characters.\n",
        "\n",
        ">These two should be about the same order of magnitude. It's a little tricky to tell. Here are some examples:\n",
        "\n",
        "> - I have a 100MB dataset and I'm using the default parameter settings (which currently print 150K parameters). My data size is significantly larger (100 mil >> 0.15 mil), so I expect to heavily underfit. I am thinking I can comfortably afford to make `n_hidden` larger.\n",
        "> - I have a 10MB dataset and running a 10 million parameter model. I'm slightly nervous and I'm carefully monitoring my validation loss. If it's larger than my training loss then I may want to try to increase dropout a bit and see if that helps the validation loss.\n",
        "\n",
        "> ### Best models strategy\n",
        "\n",
        ">The winning strategy to obtaining very good models (if you have the compute time) is to always err on making the network larger (as large as you're willing to wait for it to compute) and then try different dropout values (between 0,1). Whatever model has the best validation performance (the loss, written in the checkpoint filename, low is good) is the one you should use in the end.\n",
        "\n",
        ">It is very common in deep learning to run many different models with many different hyperparameter settings, and in the end take whatever checkpoint gave the best validation performance.\n",
        "\n",
        ">By the way, the size of your training and validation splits are also parameters. Make sure you have a decent amount of data in your validation set or otherwise the validation performance will be noisy and not very informative."
      ]
    },
    {
      "cell_type": "markdown",
      "metadata": {
        "id": "Kh9fPEPoiCGX",
        "colab_type": "text"
      },
      "source": [
        "## Checkpoint\n",
        "\n",
        "After training, we'll save the model so we can load it again later if we need too. Here I'm saving the parameters needed to create the same architecture, the hidden layer hyperparameters and the text characters."
      ]
    },
    {
      "cell_type": "code",
      "metadata": {
        "id": "WcCN6dfeiCGZ",
        "colab_type": "code",
        "colab": {}
      },
      "source": [
        "# change the name, for saving multiple files\n",
        "model_name = 'rnn_x_epoch.net'\n",
        "\n",
        "checkpoint = {'n_hidden': net.n_hidden,\n",
        "              'n_layers': net.n_layers,\n",
        "              'state_dict': net.state_dict(),\n",
        "              'tokens': net.chars}\n",
        "\n",
        "with open(model_name, 'wb') as f:\n",
        "    torch.save(checkpoint, f)"
      ],
      "execution_count": 0,
      "outputs": []
    },
    {
      "cell_type": "markdown",
      "metadata": {
        "id": "LTslUDEuiCGc",
        "colab_type": "text"
      },
      "source": [
        "---\n",
        "## Making Predictions\n",
        "\n",
        "Now that the model is trained, we'll want to sample from it and make predictions about next characters! To sample, we pass in a character and have the network predict the next character. Then we take that character, pass it back in, and get another predicted character. Just keep doing this and you'll generate a bunch of text!\n",
        "\n",
        "### A note on the `predict`  function\n",
        "\n",
        "The output of our RNN is from a fully-connected layer and it outputs a **distribution of next-character scores**.\n",
        "\n",
        "> To actually get the next character, we apply a softmax function, which gives us a *probability* distribution that we can then sample to predict the next character.\n",
        "\n",
        "### Top K sampling\n",
        "\n",
        "Our predictions come from a categorical probability distribution over all the possible characters. We can make the sample text and make it more reasonable to handle (with less variables) by only considering some $K$ most probable characters. This will prevent the network from giving us completely absurd characters while allowing it to introduce some noise and randomness into the sampled text. Read more about [topk, here](https://pytorch.org/docs/stable/torch.html#torch.topk).\n"
      ]
    },
    {
      "cell_type": "code",
      "metadata": {
        "id": "BDImIIe4iCGc",
        "colab_type": "code",
        "colab": {}
      },
      "source": [
        "def predict(net, char, h=None, top_k=None):\n",
        "        ''' Given a character, predict the next character.\n",
        "            Returns the predicted character and the hidden state.\n",
        "        '''\n",
        "        \n",
        "        # tensor inputs\n",
        "        x = np.array([[net.char2int[char]]])\n",
        "        x = one_hot_encode(x, len(net.chars))\n",
        "        inputs = torch.from_numpy(x)\n",
        "        \n",
        "        if(train_on_gpu):\n",
        "            inputs = inputs.cuda()\n",
        "        \n",
        "        # detach hidden state from history\n",
        "        h = tuple([each.data for each in h])\n",
        "        # get the output of the model\n",
        "        out, h = net(inputs, h)\n",
        "\n",
        "        # get the character probabilities\n",
        "        p = F.softmax(out, dim=1).data\n",
        "        if(train_on_gpu):\n",
        "            p = p.cpu() # move to cpu\n",
        "        \n",
        "        # get top characters\n",
        "        if top_k is None:\n",
        "            top_ch = np.arange(len(net.chars))\n",
        "        else:\n",
        "            p, top_ch = p.topk(top_k)\n",
        "            top_ch = top_ch.numpy().squeeze()\n",
        "        \n",
        "        # select the likely next character with some element of randomness\n",
        "        p = p.numpy().squeeze()\n",
        "        char = np.random.choice(top_ch, p=p/p.sum())\n",
        "        \n",
        "        # return the encoded value of the predicted char and the hidden state\n",
        "        return net.int2char[char], h"
      ],
      "execution_count": 0,
      "outputs": []
    },
    {
      "cell_type": "markdown",
      "metadata": {
        "id": "Kcg9XOf-iCGf",
        "colab_type": "text"
      },
      "source": [
        "### Priming and generating text \n",
        "\n",
        "Typically you'll want to prime the network so you can build up a hidden state. Otherwise the network will start out generating characters at random. In general the first bunch of characters will be a little rough since it hasn't built up a long history of characters to predict from."
      ]
    },
    {
      "cell_type": "code",
      "metadata": {
        "id": "JyBuqG6GiCGf",
        "colab_type": "code",
        "colab": {}
      },
      "source": [
        "def sample(net, size, prime='The', top_k=None):\n",
        "        \n",
        "    if(train_on_gpu):\n",
        "        net.cuda()\n",
        "    else:\n",
        "        net.cpu()\n",
        "    \n",
        "    net.eval() # eval mode\n",
        "    \n",
        "    # First off, run through the prime characters\n",
        "    chars = [ch for ch in prime]\n",
        "    h = net.init_hidden(1)\n",
        "    for ch in prime:\n",
        "        char, h = predict(net, ch, h, top_k=top_k)\n",
        "\n",
        "    chars.append(char)\n",
        "    \n",
        "    # Now pass in the previous character and get a new one\n",
        "    for ii in range(size):\n",
        "        char, h = predict(net, chars[-1], h, top_k=top_k)\n",
        "        chars.append(char)\n",
        "\n",
        "    return ''.join(chars)"
      ],
      "execution_count": 0,
      "outputs": []
    },
    {
      "cell_type": "code",
      "metadata": {
        "id": "g3WAmtSeiCGj",
        "colab_type": "code",
        "outputId": "88da265c-07de-46de-ce4a-e84f71954b7f",
        "colab": {
          "base_uri": "https://localhost:8080/",
          "height": 54
        }
      },
      "source": [
        "print(sample(net, 1000, prime='Anna', top_k=5))"
      ],
      "execution_count": 22,
      "outputs": [
        {
          "output_type": "stream",
          "text": [
            "Anna((SII2A2I2p2ASISS(SA(A(S(SIAx(IAISI2A22AApSISSSISIIAASSSApII2IS22SISpSIxS(xA(xI22p22IpSSAIIA2Sp(A(ISS(AxASIIpSSAAp((AxxSI(xIxAIpAp(ISxAIpIxp(AASAppIIxxSIxI2ApSISpIxxIAp(IIA2I2App(IIAIAI2S2S2SSASppAA(SpIppIASSpp(IAAIA2p2SSSI((2I2Ap2I2IS2SA(I2AI22AAAIp2p2p(xS(SxSIII2S2SppIISAAIIIAIAISppIApxpSpA(SAASSSASASIIAI2pASpSIpASAp(SIIIxxS(SSII2IpA22Ip222AII22ASIS2pIpxAA(pSSSSAIIS2AIIAIAA2ASIpSpIx(xSxxI(x(xAx(ASIIAAAIp2SASAp(pppp(SAAISp((xIIA2pAA(S(A(App(((x((IA2AAIppAASp((SxA((AAIS(AIIAASSI(xSIApS(x(A(SSASF(ApSAApA(AAI2SISS((IAxSIIISxS(xSA(IxSxIAS((x((A(AIp(xA(A(AS(IIAS2SpIpSSS(xS(IISSSSS(AxSAISII2SASpASSpp(SA(ISIx(SSAIISASAAApSp((xSISxI2ApIS22II22pASIS(IAASSpSAI(II2Sp(AAI2ISppSpSApA(SA(I2IAAAAAI2p2ApA(I2222pSII2A2SIS2IpASS(SSI(SIAIppxpppAAIxISp(S(ASSIx8(SA(xApI(SSIxIAIAA2SpSIIIxIApSpIpx(S(SSIASAApASAS(S(Ax8A(S(I2I22pIAp2A2ppp(ISIASp(ISAI22IIApApIpx(xISSSxS(S(SIAxAI2S2Sp(A(A(xI22SISAAAISISSI(2ISIx2SpAA((IxIIxIISAIpx(xISIx(S(xSSASSI(SxSx8(AppAIIA2S2A2IpSISAAAIISIIASSSpISx8(SS((IA2pS(SIAIIpAAxpIppx(A\n"
          ],
          "name": "stdout"
        }
      ]
    },
    {
      "cell_type": "markdown",
      "metadata": {
        "id": "AYAwhBOZiCGm",
        "colab_type": "text"
      },
      "source": [
        "## Loading a checkpoint"
      ]
    },
    {
      "cell_type": "code",
      "metadata": {
        "id": "5ab32QLMiCGn",
        "colab_type": "code",
        "outputId": "4bf0ec34-a9c9-4fe6-dc44-d573ca4c8ffb",
        "colab": {
          "base_uri": "https://localhost:8080/",
          "height": 34
        }
      },
      "source": [
        "# Here we have loaded in a model that trained over 20 epochs `rnn_20_epoch.net`\n",
        "with open('rnn_x_epoch.net', 'rb') as f:\n",
        "    checkpoint = torch.load(f)\n",
        "    \n",
        "loaded = CharRNN(checkpoint['tokens'], n_hidden=checkpoint['n_hidden'], n_layers=checkpoint['n_layers'])\n",
        "loaded.load_state_dict(checkpoint['state_dict'])"
      ],
      "execution_count": 0,
      "outputs": [
        {
          "output_type": "execute_result",
          "data": {
            "text/plain": [
              "<All keys matched successfully>"
            ]
          },
          "metadata": {
            "tags": []
          },
          "execution_count": 33
        }
      ]
    },
    {
      "cell_type": "code",
      "metadata": {
        "id": "od7WdHIuiCGp",
        "colab_type": "code",
        "outputId": "d7eaf553-89fd-4751-82f0-2230a4458770",
        "colab": {
          "base_uri": "https://localhost:8080/",
          "height": 836
        }
      },
      "source": [
        "# Sample using a loaded model\n",
        "print(sample(loaded, 2000, top_k=5, prime=\"And Levin said\"))"
      ],
      "execution_count": 0,
      "outputs": [
        {
          "output_type": "stream",
          "text": [
            "And Levin said that he was the matter\n",
            "of the strugg which he had said: \"That's not serene and heart. The servants of her from her.\n",
            "\n",
            "\"I'm as me time you doubt about you, but there's no meaning of the carriage in her mother is the continual of mysickinisy, too,\" said Anna, and with his forest\n",
            "was sincerily. The\n",
            "party-she winter and toothing a chair, the face of\n",
            "a clear had already seen him with his brows,\n",
            "and to drive to him.\n",
            "\n",
            "\"And there's no concertions. I have as to be\n",
            "too.\n",
            "And\n",
            "word to meet him? What are I am saying the same time that you know you and\n",
            "that I don't believe that I saw that,\" he said well-alone. \"I've been a portaction of some man.\"\n",
            "\n",
            "\"Yes, there won't be something of any one of any sears of a pleasant and too.....\"\n",
            "\n",
            "Alexey Alexandrovitch could not hive himself this thoughts, the\n",
            "suncersant family with the\n",
            "day and\n",
            "strong, but to all the sould of\n",
            "the peasant was taking haming in his hands in the stuped on the disagreeable ran was to go the\n",
            "brother. Sergey Ivanovitch at the marshal imstand of to be as something and stopped on the sense, at a conversation in the\n",
            "carpsion that the care in the crowd, he saw it were not at the cart.\n",
            "\n",
            "She sat drinking herself all the starss of her eyes and sorroom, he had all the\n",
            "first man, was not the fine horses.\n",
            "\n",
            "The\n",
            "force was saying at the praise, and he was attriving her\n",
            "there was nothing.\n",
            "\n",
            "\"I am to get all the mothing ourself on the most of the\n",
            "priest, when you will git out off his meaning of\n",
            "it.\n",
            "What are it is too to see you and then, I don't began to believe their children's things than I had to be torrore a sense.\"\n",
            "\n",
            "\"And when he's\n",
            "thinking of the country, yourself and\n",
            "say I see you and\n",
            "wanted for her in it, who were so\n",
            "much if it asked that you\n",
            "asked him to think, because it was a seet throom to be a long waited and an on the proposed on the man he has a corders, and all the thought of his brother. He's\n",
            "ansued her moting that the\n",
            "secondly say it seemed to me to\n",
            "be, and\n",
            "he's sent all me, and see it, I was saying that I can't say that\n"
          ],
          "name": "stdout"
        }
      ]
    },
    {
      "cell_type": "code",
      "metadata": {
        "id": "W8J05n1biCGr",
        "colab_type": "code",
        "colab": {}
      },
      "source": [
        ""
      ],
      "execution_count": 0,
      "outputs": []
    }
  ]
}