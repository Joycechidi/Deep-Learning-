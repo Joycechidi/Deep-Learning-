{
 "cells": [
  {
   "cell_type": "code",
   "execution_count": 3,
   "metadata": {},
   "outputs": [],
   "source": [
    "import keras\n",
    "from keras.datasets import cifar10\n",
    "from keras.models import Sequential\n",
    "from keras.layers import Dense, Dropout, Flatten, Conv2D, MaxPooling2D"
   ]
  },
  {
   "cell_type": "code",
   "execution_count": 4,
   "metadata": {},
   "outputs": [],
   "source": [
    "# Load data set\n",
    "(x_train, y_train), (x_test, y_test) = cifar10.load_data()"
   ]
  },
  {
   "cell_type": "code",
   "execution_count": 5,
   "metadata": {},
   "outputs": [],
   "source": [
    "# Normalize data set to 0-to-1 range\n",
    "x_train = x_train.astype('float32')\n",
    "x_test = x_test.astype('float32')\n",
    "x_train /= 255\n",
    "x_test /= 255"
   ]
  },
  {
   "cell_type": "code",
   "execution_count": 6,
   "metadata": {},
   "outputs": [],
   "source": [
    "# Convert class vectors to binary class matrices\n",
    "y_train = keras.utils.to_categorical(y_train, 10)\n",
    "y_test = keras.utils.to_categorical(y_test, 10)"
   ]
  },
  {
   "cell_type": "code",
   "execution_count": 7,
   "metadata": {},
   "outputs": [],
   "source": [
    "# Create a model and add layers\n",
    "model = Sequential()"
   ]
  },
  {
   "cell_type": "code",
   "execution_count": 8,
   "metadata": {},
   "outputs": [],
   "source": [
    "model.add(Conv2D(32, (3, 3), padding='same', input_shape=(32, 32, 3), activation=\"relu\"))\n",
    "model.add(Conv2D(32, (3, 3), activation=\"relu\"))\n",
    "model.add(MaxPooling2D(pool_size=(2, 2)))\n",
    "model.add(Dropout(0.25))"
   ]
  },
  {
   "cell_type": "code",
   "execution_count": 9,
   "metadata": {},
   "outputs": [],
   "source": [
    "model.add(Conv2D(64, (3, 3), padding='same', activation=\"relu\"))\n",
    "model.add(Conv2D(64, (3, 3), activation=\"relu\"))\n",
    "model.add(MaxPooling2D(pool_size=(2, 2)))\n",
    "model.add(Dropout(0.25))"
   ]
  },
  {
   "cell_type": "code",
   "execution_count": 10,
   "metadata": {},
   "outputs": [],
   "source": [
    "model.add(Flatten())\n",
    "model.add(Dense(512, activation=\"relu\"))\n",
    "model.add(Dropout(0.5))\n",
    "model.add(Dense(10, activation=\"softmax\"))"
   ]
  },
  {
   "cell_type": "code",
   "execution_count": 11,
   "metadata": {},
   "outputs": [],
   "source": [
    "# Compile the model\n",
    "model.compile(\n",
    "    loss='categorical_crossentropy',\n",
    "    optimizer=\"adam\",\n",
    "    metrics=['accuracy']\n",
    ")"
   ]
  },
  {
   "cell_type": "code",
   "execution_count": 12,
   "metadata": {},
   "outputs": [
    {
     "name": "stdout",
     "output_type": "stream",
     "text": [
      "Train on 50000 samples, validate on 10000 samples\n",
      "Epoch 1/30\n",
      "50000/50000 [==============================] - 156s 3ms/step - loss: 1.5076 - acc: 0.4477 - val_loss: 1.1557 - val_acc: 0.5900\n",
      "Epoch 2/30\n",
      "50000/50000 [==============================] - 154s 3ms/step - loss: 1.1020 - acc: 0.6073 - val_loss: 0.9213 - val_acc: 0.6766\n",
      "Epoch 3/30\n",
      "50000/50000 [==============================] - 156s 3ms/step - loss: 0.9626 - acc: 0.6581 - val_loss: 0.8377 - val_acc: 0.7077\n",
      "Epoch 4/30\n",
      "50000/50000 [==============================] - 158s 3ms/step - loss: 0.8694 - acc: 0.6948 - val_loss: 0.7846 - val_acc: 0.7268\n",
      "Epoch 5/30\n",
      "50000/50000 [==============================] - 154s 3ms/step - loss: 0.8075 - acc: 0.7138 - val_loss: 0.7659 - val_acc: 0.7342\n",
      "Epoch 6/30\n",
      "50000/50000 [==============================] - 154s 3ms/step - loss: 0.7557 - acc: 0.7335 - val_loss: 0.7432 - val_acc: 0.7381\n",
      "Epoch 7/30\n",
      "50000/50000 [==============================] - 149s 3ms/step - loss: 0.7189 - acc: 0.7468 - val_loss: 0.7291 - val_acc: 0.7513\n",
      "Epoch 8/30\n",
      "50000/50000 [==============================] - 149s 3ms/step - loss: 0.6857 - acc: 0.7571 - val_loss: 0.6988 - val_acc: 0.7553\n",
      "Epoch 9/30\n",
      "50000/50000 [==============================] - 149s 3ms/step - loss: 0.6506 - acc: 0.7694 - val_loss: 0.6912 - val_acc: 0.7586\n",
      "Epoch 10/30\n",
      "50000/50000 [==============================] - 149s 3ms/step - loss: 0.6283 - acc: 0.7792 - val_loss: 0.6700 - val_acc: 0.7709\n",
      "Epoch 11/30\n",
      "50000/50000 [==============================] - 148s 3ms/step - loss: 0.6211 - acc: 0.7813 - val_loss: 0.6613 - val_acc: 0.7742\n",
      "Epoch 12/30\n",
      "50000/50000 [==============================] - 147s 3ms/step - loss: 0.5992 - acc: 0.7875 - val_loss: 0.6697 - val_acc: 0.7721\n",
      "Epoch 13/30\n",
      "50000/50000 [==============================] - 147s 3ms/step - loss: 0.5842 - acc: 0.7960 - val_loss: 0.6519 - val_acc: 0.7805\n",
      "Epoch 14/30\n",
      "50000/50000 [==============================] - 148s 3ms/step - loss: 0.5672 - acc: 0.7989 - val_loss: 0.6731 - val_acc: 0.7734\n",
      "Epoch 15/30\n",
      "50000/50000 [==============================] - 149s 3ms/step - loss: 0.5490 - acc: 0.8065 - val_loss: 0.6712 - val_acc: 0.7774\n",
      "Epoch 16/30\n",
      "50000/50000 [==============================] - 149s 3ms/step - loss: 0.5371 - acc: 0.8107 - val_loss: 0.6493 - val_acc: 0.7811\n",
      "Epoch 17/30\n",
      "50000/50000 [==============================] - 149s 3ms/step - loss: 0.5254 - acc: 0.8150 - val_loss: 0.6716 - val_acc: 0.7728\n",
      "Epoch 18/30\n",
      "50000/50000 [==============================] - 147s 3ms/step - loss: 0.5199 - acc: 0.8163 - val_loss: 0.6869 - val_acc: 0.7772\n",
      "Epoch 19/30\n",
      "50000/50000 [==============================] - 147s 3ms/step - loss: 0.5109 - acc: 0.8197 - val_loss: 0.6565 - val_acc: 0.7848\n",
      "Epoch 20/30\n",
      "50000/50000 [==============================] - 147s 3ms/step - loss: 0.4957 - acc: 0.8259 - val_loss: 0.6497 - val_acc: 0.7821\n",
      "Epoch 21/30\n",
      "50000/50000 [==============================] - 148s 3ms/step - loss: 0.4915 - acc: 0.8282 - val_loss: 0.6478 - val_acc: 0.7877\n",
      "Epoch 22/30\n",
      "50000/50000 [==============================] - 147s 3ms/step - loss: 0.4847 - acc: 0.8287 - val_loss: 0.6425 - val_acc: 0.7923\n",
      "Epoch 23/30\n",
      "50000/50000 [==============================] - 147s 3ms/step - loss: 0.4823 - acc: 0.8320 - val_loss: 0.6639 - val_acc: 0.7863\n",
      "Epoch 24/30\n",
      "50000/50000 [==============================] - 147s 3ms/step - loss: 0.4630 - acc: 0.8372 - val_loss: 0.6665 - val_acc: 0.7895\n",
      "Epoch 25/30\n",
      "50000/50000 [==============================] - 147s 3ms/step - loss: 0.4659 - acc: 0.8365 - val_loss: 0.6754 - val_acc: 0.7864\n",
      "Epoch 26/30\n",
      "50000/50000 [==============================] - 148s 3ms/step - loss: 0.4615 - acc: 0.8389 - val_loss: 0.7059 - val_acc: 0.7795\n",
      "Epoch 27/30\n",
      "50000/50000 [==============================] - 148s 3ms/step - loss: 0.4533 - acc: 0.8414 - val_loss: 0.6675 - val_acc: 0.7785\n",
      "Epoch 28/30\n",
      "50000/50000 [==============================] - 147s 3ms/step - loss: 0.4467 - acc: 0.8441 - val_loss: 0.6361 - val_acc: 0.7982\n",
      "Epoch 29/30\n",
      "50000/50000 [==============================] - 149s 3ms/step - loss: 0.4391 - acc: 0.8466 - val_loss: 0.6671 - val_acc: 0.7933\n",
      "Epoch 30/30\n",
      "50000/50000 [==============================] - 148s 3ms/step - loss: 0.4449 - acc: 0.8444 - val_loss: 0.6568 - val_acc: 0.7860\n"
     ]
    },
    {
     "data": {
      "text/plain": [
       "<keras.callbacks.History at 0x1bdcad50e80>"
      ]
     },
     "execution_count": 12,
     "metadata": {},
     "output_type": "execute_result"
    }
   ],
   "source": [
    "# Train the model\n",
    "model.fit(\n",
    "    x_train,\n",
    "    y_train,\n",
    "    batch_size=32,\n",
    "    epochs=30,\n",
    "    validation_data=(x_test, y_test),\n",
    "    shuffle=True\n",
    ")"
   ]
  },
  {
   "cell_type": "code",
   "execution_count": 13,
   "metadata": {},
   "outputs": [
    {
     "ename": "NameError",
     "evalue": "name 'Path' is not defined",
     "output_type": "error",
     "traceback": [
      "\u001b[1;31m---------------------------------------------------------------------------\u001b[0m",
      "\u001b[1;31mNameError\u001b[0m                                 Traceback (most recent call last)",
      "\u001b[1;32m<ipython-input-13-bfd546e4afa5>\u001b[0m in \u001b[0;36m<module>\u001b[1;34m\u001b[0m\n\u001b[0;32m      2\u001b[0m \u001b[1;31m#Let's write the network structure into a file we can reuse later\u001b[0m\u001b[1;33m\u001b[0m\u001b[1;33m\u001b[0m\u001b[0m\n\u001b[0;32m      3\u001b[0m \u001b[0mmy_model_structure\u001b[0m \u001b[1;33m=\u001b[0m \u001b[0mmodel\u001b[0m\u001b[1;33m.\u001b[0m\u001b[0mto_json\u001b[0m\u001b[1;33m(\u001b[0m\u001b[1;33m)\u001b[0m\u001b[1;33m\u001b[0m\u001b[0m\n\u001b[1;32m----> 4\u001b[1;33m \u001b[0mf\u001b[0m \u001b[1;33m=\u001b[0m \u001b[0mPath\u001b[0m\u001b[1;33m(\u001b[0m\u001b[1;34m\"my_model_structure.json\"\u001b[0m\u001b[1;33m)\u001b[0m\u001b[1;33m\u001b[0m\u001b[0m\n\u001b[0m\u001b[0;32m      5\u001b[0m \u001b[0mf\u001b[0m\u001b[1;33m.\u001b[0m\u001b[0mwrite_text\u001b[0m\u001b[1;33m(\u001b[0m\u001b[0mmy_model_structure\u001b[0m\u001b[1;33m)\u001b[0m\u001b[1;33m\u001b[0m\u001b[0m\n",
      "\u001b[1;31mNameError\u001b[0m: name 'Path' is not defined"
     ]
    }
   ],
   "source": [
    "# Save neural network structure\n",
    "#Let's write the network structure into a file we can reuse later\n",
    "my_model_structure = model.to_json()\n",
    "f = Path(\"my_model_structure.json\")\n",
    "f.write_text(my_model_structure)"
   ]
  },
  {
   "cell_type": "code",
   "execution_count": null,
   "metadata": {},
   "outputs": [],
   "source": [
    "# Save neural network's trained weights\n",
    "#.h5 (which is a HDf5 format file) is used for saving and loading large binary files efficiently\n",
    "model.sample_weights(\"model_weights.h5\")\n"
   ]
  }
 ],
 "metadata": {
  "kernelspec": {
   "display_name": "Python 3",
   "language": "python",
   "name": "python3"
  },
  "language_info": {
   "codemirror_mode": {
    "name": "ipython",
    "version": 3
   },
   "file_extension": ".py",
   "mimetype": "text/x-python",
   "name": "python",
   "nbconvert_exporter": "python",
   "pygments_lexer": "ipython3",
   "version": "3.6.6"
  }
 },
 "nbformat": 4,
 "nbformat_minor": 2
}
