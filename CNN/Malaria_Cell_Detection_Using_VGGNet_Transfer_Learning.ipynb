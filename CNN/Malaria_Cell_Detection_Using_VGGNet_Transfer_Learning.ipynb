{
  "nbformat": 4,
  "nbformat_minor": 0,
  "metadata": {
    "colab": {
      "name": "Malaria_Cell_Detection_Using_VGGNet_Transfer_Learning.ipynb",
      "provenance": [],
      "collapsed_sections": [],
      "include_colab_link": true
    },
    "kernelspec": {
      "name": "python3",
      "display_name": "Python 3"
    },
    "accelerator": "GPU"
  },
  "cells": [
    {
      "cell_type": "markdown",
      "metadata": {
        "id": "view-in-github",
        "colab_type": "text"
      },
      "source": [
        "<a href=\"https://colab.research.google.com/github/Joycechidi/Deep-Learning-/blob/master/CNN/Malaria_Cell_Detection_Using_VGGNet_Transfer_Learning.ipynb\" target=\"_parent\"><img src=\"https://colab.research.google.com/assets/colab-badge.svg\" alt=\"Open In Colab\"/></a>"
      ]
    },
    {
      "cell_type": "code",
      "metadata": {
        "id": "bm9zjYHW4e4B",
        "colab_type": "code",
        "outputId": "960fa065-3e8a-4415-e65e-f088757785b0",
        "colab": {
          "base_uri": "https://localhost:8080/",
          "height": 34
        }
      },
      "source": [
        "from google.colab import drive\n",
        "drive.mount('/content/gdrive')"
      ],
      "execution_count": 1,
      "outputs": [
        {
          "output_type": "stream",
          "text": [
            "Mounted at /content/gdrive\n"
          ],
          "name": "stdout"
        }
      ]
    },
    {
      "cell_type": "markdown",
      "metadata": {
        "id": "vOHRV4yv6c6R",
        "colab_type": "text"
      },
      "source": [
        "## Transfer Learning\n",
        "In this notebook, I'll be using VGGNet trained on the ImageNet dataset as a feature extractor. \n",
        "\n",
        "I'm using VGGNet because it's simple and has great performance, coming in second in the ImageNet competition. \n",
        "\n",
        "All the convolutional layers will be kept but I will replace the final fully-connected layer with my own classifier. This way I can use VGGNet as a fixed feature extractor for my images then easily train a simple classifier on top of that.\n",
        "\n",
        "*   Use all but the last fully-connected layer as a fixed feature extractor.\n",
        "*   Define a new, final classification layer and apply it to a task of our choice!\n",
        "\n",
        "I am trying to use the dataset containing infected and uninfected malaria cell images. Downloaded from Kaggle here [https://www.kaggle.com/iarunava/cell-images-for-detecting-malaria/download]\n",
        "\n",
        "### Objective\n",
        "Build a convolutional neural network that can detect the presence of malaria parasite in blood cells.\n",
        "\n",
        "After training this dataset with VGGNet, I will also train with ResNet pre-trained model and then compare the performance between the two models."
      ]
    },
    {
      "cell_type": "code",
      "metadata": {
        "id": "1-qJ0FyEDG9T",
        "colab_type": "code",
        "colab": {
          "base_uri": "https://localhost:8080/",
          "height": 717
        },
        "outputId": "ae69a813-90fb-4c31-e18c-cf8d66193cdb"
      },
      "source": [
        "!pip install jupyter_contrib_nbextensions"
      ],
      "execution_count": 2,
      "outputs": [
        {
          "output_type": "stream",
          "text": [
            "Requirement already satisfied: jupyter_contrib_nbextensions in /usr/local/lib/python3.6/dist-packages (0.5.1)\n",
            "Requirement already satisfied: nbconvert>=4.2 in /usr/local/lib/python3.6/dist-packages (from jupyter_contrib_nbextensions) (5.6.1)\n",
            "Requirement already satisfied: lxml in /usr/local/lib/python3.6/dist-packages (from jupyter_contrib_nbextensions) (4.2.6)\n",
            "Requirement already satisfied: jupyter-nbextensions-configurator>=0.4.0 in /usr/local/lib/python3.6/dist-packages (from jupyter_contrib_nbextensions) (0.4.1)\n",
            "Requirement already satisfied: traitlets>=4.1 in /usr/local/lib/python3.6/dist-packages (from jupyter_contrib_nbextensions) (4.3.3)\n",
            "Requirement already satisfied: jupyter-core in /usr/local/lib/python3.6/dist-packages (from jupyter_contrib_nbextensions) (4.6.1)\n",
            "Requirement already satisfied: jupyter-highlight-selected-word>=0.1.1 in /usr/local/lib/python3.6/dist-packages (from jupyter_contrib_nbextensions) (0.2.0)\n",
            "Requirement already satisfied: jupyter-contrib-core>=0.3.3 in /usr/local/lib/python3.6/dist-packages (from jupyter_contrib_nbextensions) (0.3.3)\n",
            "Requirement already satisfied: ipython-genutils in /usr/local/lib/python3.6/dist-packages (from jupyter_contrib_nbextensions) (0.2.0)\n",
            "Requirement already satisfied: notebook>=4.0 in /usr/local/lib/python3.6/dist-packages (from jupyter_contrib_nbextensions) (5.2.2)\n",
            "Requirement already satisfied: jupyter-latex-envs>=1.3.8 in /usr/local/lib/python3.6/dist-packages (from jupyter_contrib_nbextensions) (1.4.6)\n",
            "Requirement already satisfied: pyyaml in /usr/local/lib/python3.6/dist-packages (from jupyter_contrib_nbextensions) (3.13)\n",
            "Requirement already satisfied: tornado in /usr/local/lib/python3.6/dist-packages (from jupyter_contrib_nbextensions) (4.5.3)\n",
            "Requirement already satisfied: defusedxml in /usr/local/lib/python3.6/dist-packages (from nbconvert>=4.2->jupyter_contrib_nbextensions) (0.6.0)\n",
            "Requirement already satisfied: nbformat>=4.4 in /usr/local/lib/python3.6/dist-packages (from nbconvert>=4.2->jupyter_contrib_nbextensions) (4.4.0)\n",
            "Requirement already satisfied: pandocfilters>=1.4.1 in /usr/local/lib/python3.6/dist-packages (from nbconvert>=4.2->jupyter_contrib_nbextensions) (1.4.2)\n",
            "Requirement already satisfied: pygments in /usr/local/lib/python3.6/dist-packages (from nbconvert>=4.2->jupyter_contrib_nbextensions) (2.1.3)\n",
            "Requirement already satisfied: bleach in /usr/local/lib/python3.6/dist-packages (from nbconvert>=4.2->jupyter_contrib_nbextensions) (3.1.0)\n",
            "Requirement already satisfied: jinja2>=2.4 in /usr/local/lib/python3.6/dist-packages (from nbconvert>=4.2->jupyter_contrib_nbextensions) (2.10.3)\n",
            "Requirement already satisfied: mistune<2,>=0.8.1 in /usr/local/lib/python3.6/dist-packages (from nbconvert>=4.2->jupyter_contrib_nbextensions) (0.8.4)\n",
            "Requirement already satisfied: entrypoints>=0.2.2 in /usr/local/lib/python3.6/dist-packages (from nbconvert>=4.2->jupyter_contrib_nbextensions) (0.3)\n",
            "Requirement already satisfied: testpath in /usr/local/lib/python3.6/dist-packages (from nbconvert>=4.2->jupyter_contrib_nbextensions) (0.4.2)\n",
            "Requirement already satisfied: six in /usr/local/lib/python3.6/dist-packages (from traitlets>=4.1->jupyter_contrib_nbextensions) (1.12.0)\n",
            "Requirement already satisfied: decorator in /usr/local/lib/python3.6/dist-packages (from traitlets>=4.1->jupyter_contrib_nbextensions) (4.4.0)\n",
            "Requirement already satisfied: setuptools in /usr/local/lib/python3.6/dist-packages (from jupyter-contrib-core>=0.3.3->jupyter_contrib_nbextensions) (41.4.0)\n",
            "Requirement already satisfied: jupyter-client in /usr/local/lib/python3.6/dist-packages (from notebook>=4.0->jupyter_contrib_nbextensions) (5.3.4)\n",
            "Requirement already satisfied: terminado>=0.3.3; sys_platform != \"win32\" in /usr/local/lib/python3.6/dist-packages (from notebook>=4.0->jupyter_contrib_nbextensions) (0.8.2)\n",
            "Requirement already satisfied: ipykernel in /usr/local/lib/python3.6/dist-packages (from notebook>=4.0->jupyter_contrib_nbextensions) (4.6.1)\n",
            "Requirement already satisfied: ipython in /usr/local/lib/python3.6/dist-packages (from jupyter-latex-envs>=1.3.8->jupyter_contrib_nbextensions) (5.5.0)\n",
            "Requirement already satisfied: jsonschema!=2.5.0,>=2.4 in /usr/local/lib/python3.6/dist-packages (from nbformat>=4.4->nbconvert>=4.2->jupyter_contrib_nbextensions) (2.6.0)\n",
            "Requirement already satisfied: webencodings in /usr/local/lib/python3.6/dist-packages (from bleach->nbconvert>=4.2->jupyter_contrib_nbextensions) (0.5.1)\n",
            "Requirement already satisfied: MarkupSafe>=0.23 in /usr/local/lib/python3.6/dist-packages (from jinja2>=2.4->nbconvert>=4.2->jupyter_contrib_nbextensions) (1.1.1)\n",
            "Requirement already satisfied: python-dateutil>=2.1 in /usr/local/lib/python3.6/dist-packages (from jupyter-client->notebook>=4.0->jupyter_contrib_nbextensions) (2.6.1)\n",
            "Requirement already satisfied: pyzmq>=13 in /usr/local/lib/python3.6/dist-packages (from jupyter-client->notebook>=4.0->jupyter_contrib_nbextensions) (17.0.0)\n",
            "Requirement already satisfied: ptyprocess; os_name != \"nt\" in /usr/local/lib/python3.6/dist-packages (from terminado>=0.3.3; sys_platform != \"win32\"->notebook>=4.0->jupyter_contrib_nbextensions) (0.6.0)\n",
            "Requirement already satisfied: prompt-toolkit<2.0.0,>=1.0.4 in /usr/local/lib/python3.6/dist-packages (from ipython->jupyter-latex-envs>=1.3.8->jupyter_contrib_nbextensions) (1.0.18)\n",
            "Requirement already satisfied: pexpect; sys_platform != \"win32\" in /usr/local/lib/python3.6/dist-packages (from ipython->jupyter-latex-envs>=1.3.8->jupyter_contrib_nbextensions) (4.7.0)\n",
            "Requirement already satisfied: pickleshare in /usr/local/lib/python3.6/dist-packages (from ipython->jupyter-latex-envs>=1.3.8->jupyter_contrib_nbextensions) (0.7.5)\n",
            "Requirement already satisfied: simplegeneric>0.8 in /usr/local/lib/python3.6/dist-packages (from ipython->jupyter-latex-envs>=1.3.8->jupyter_contrib_nbextensions) (0.8.1)\n",
            "Requirement already satisfied: wcwidth in /usr/local/lib/python3.6/dist-packages (from prompt-toolkit<2.0.0,>=1.0.4->ipython->jupyter-latex-envs>=1.3.8->jupyter_contrib_nbextensions) (0.1.7)\n"
          ],
          "name": "stdout"
        }
      ]
    },
    {
      "cell_type": "code",
      "metadata": {
        "id": "vveGeppmDmOw",
        "colab_type": "code",
        "outputId": "f6df7c08-4468-4b46-dd1e-ebb6aee1b004",
        "colab": {
          "base_uri": "https://localhost:8080/",
          "height": 1000
        }
      },
      "source": [
        "!jupyter contrib nbextension install --user"
      ],
      "execution_count": 3,
      "outputs": [
        {
          "output_type": "stream",
          "text": [
            "\u001b[32m[I 03:05:05 InstallContribNbextensionsApp]\u001b[m jupyter contrib nbextension install --user\n",
            "\u001b[32m[I 03:05:05 InstallContribNbextensionsApp]\u001b[m Installing jupyter_contrib_nbextensions nbextension files to jupyter data directory\n",
            "\u001b[32m[I 03:05:05 InstallContribNbextensionsApp]\u001b[m Installing /usr/local/lib/python3.6/dist-packages/jupyter_contrib_nbextensions/nbextensions/freeze -> freeze\n",
            "\u001b[32m[I 03:05:05 InstallContribNbextensionsApp]\u001b[m Up to date: /root/.local/share/jupyter/nbextensions/freeze/icon.png\n",
            "\u001b[32m[I 03:05:05 InstallContribNbextensionsApp]\u001b[m Up to date: /root/.local/share/jupyter/nbextensions/freeze/main.js\n",
            "\u001b[32m[I 03:05:05 InstallContribNbextensionsApp]\u001b[m Up to date: /root/.local/share/jupyter/nbextensions/freeze/readme.md\n",
            "\u001b[32m[I 03:05:05 InstallContribNbextensionsApp]\u001b[m Up to date: /root/.local/share/jupyter/nbextensions/freeze/config.yaml\n",
            "\u001b[32m[I 03:05:05 InstallContribNbextensionsApp]\u001b[m - Validating: \u001b[32mOK\u001b[0m\n",
            "\u001b[32m[I 03:05:05 InstallContribNbextensionsApp]\u001b[m Installing /usr/local/lib/python3.6/dist-packages/jupyter_contrib_nbextensions/nbextensions/toc2 -> toc2\n",
            "\u001b[32m[I 03:05:05 InstallContribNbextensionsApp]\u001b[m Up to date: /root/.local/share/jupyter/nbextensions/toc2/README.md\n",
            "\u001b[32m[I 03:05:05 InstallContribNbextensionsApp]\u001b[m Up to date: /root/.local/share/jupyter/nbextensions/toc2/icon.png\n",
            "\u001b[32m[I 03:05:05 InstallContribNbextensionsApp]\u001b[m Up to date: /root/.local/share/jupyter/nbextensions/toc2/main.js\n",
            "\u001b[32m[I 03:05:05 InstallContribNbextensionsApp]\u001b[m Up to date: /root/.local/share/jupyter/nbextensions/toc2/demo3.gif\n",
            "\u001b[32m[I 03:05:05 InstallContribNbextensionsApp]\u001b[m Up to date: /root/.local/share/jupyter/nbextensions/toc2/demo_dark.png\n",
            "\u001b[32m[I 03:05:05 InstallContribNbextensionsApp]\u001b[m Up to date: /root/.local/share/jupyter/nbextensions/toc2/image.png\n",
            "\u001b[32m[I 03:05:05 InstallContribNbextensionsApp]\u001b[m Up to date: /root/.local/share/jupyter/nbextensions/toc2/demo2.gif\n",
            "\u001b[32m[I 03:05:05 InstallContribNbextensionsApp]\u001b[m Up to date: /root/.local/share/jupyter/nbextensions/toc2/toc2.yaml\n",
            "\u001b[32m[I 03:05:05 InstallContribNbextensionsApp]\u001b[m Up to date: /root/.local/share/jupyter/nbextensions/toc2/toc2.js\n",
            "\u001b[32m[I 03:05:05 InstallContribNbextensionsApp]\u001b[m Up to date: /root/.local/share/jupyter/nbextensions/toc2/main.css\n",
            "\u001b[32m[I 03:05:05 InstallContribNbextensionsApp]\u001b[m Up to date: /root/.local/share/jupyter/nbextensions/toc2/demo.gif\n",
            "\u001b[32m[I 03:05:05 InstallContribNbextensionsApp]\u001b[m - Validating: \u001b[32mOK\u001b[0m\n",
            "\u001b[32m[I 03:05:05 InstallContribNbextensionsApp]\u001b[m Installing /usr/local/lib/python3.6/dist-packages/jupyter_contrib_nbextensions/nbextensions/hinterland -> hinterland\n",
            "\u001b[32m[I 03:05:05 InstallContribNbextensionsApp]\u001b[m Up to date: /root/.local/share/jupyter/nbextensions/hinterland/README.md\n",
            "\u001b[32m[I 03:05:05 InstallContribNbextensionsApp]\u001b[m Up to date: /root/.local/share/jupyter/nbextensions/hinterland/hinterland.js\n",
            "\u001b[32m[I 03:05:05 InstallContribNbextensionsApp]\u001b[m Up to date: /root/.local/share/jupyter/nbextensions/hinterland/hinterland.yaml\n",
            "\u001b[32m[I 03:05:05 InstallContribNbextensionsApp]\u001b[m - Validating: \u001b[32mOK\u001b[0m\n",
            "\u001b[32m[I 03:05:05 InstallContribNbextensionsApp]\u001b[m Installing /usr/local/lib/python3.6/dist-packages/jupyter_contrib_nbextensions/nbextensions/autoscroll -> autoscroll\n",
            "\u001b[32m[I 03:05:05 InstallContribNbextensionsApp]\u001b[m Up to date: /root/.local/share/jupyter/nbextensions/autoscroll/README.md\n",
            "\u001b[32m[I 03:05:05 InstallContribNbextensionsApp]\u001b[m Up to date: /root/.local/share/jupyter/nbextensions/autoscroll/icon.png\n",
            "\u001b[32m[I 03:05:05 InstallContribNbextensionsApp]\u001b[m Up to date: /root/.local/share/jupyter/nbextensions/autoscroll/main.js\n",
            "\u001b[32m[I 03:05:05 InstallContribNbextensionsApp]\u001b[m Up to date: /root/.local/share/jupyter/nbextensions/autoscroll/autoscroll.yaml\n",
            "\u001b[32m[I 03:05:05 InstallContribNbextensionsApp]\u001b[m - Validating: \u001b[32mOK\u001b[0m\n",
            "\u001b[32m[I 03:05:05 InstallContribNbextensionsApp]\u001b[m Installing /usr/local/lib/python3.6/dist-packages/jupyter_contrib_nbextensions/nbextensions/highlighter -> highlighter\n",
            "\u001b[32m[I 03:05:05 InstallContribNbextensionsApp]\u001b[m Up to date: /root/.local/share/jupyter/nbextensions/highlighter/icon.png\n",
            "\u001b[32m[I 03:05:05 InstallContribNbextensionsApp]\u001b[m Up to date: /root/.local/share/jupyter/nbextensions/highlighter/export_highlights.ipynb\n",
            "\u001b[32m[I 03:05:05 InstallContribNbextensionsApp]\u001b[m Up to date: /root/.local/share/jupyter/nbextensions/highlighter/demo_highlighter.html\n",
            "\u001b[32m[I 03:05:05 InstallContribNbextensionsApp]\u001b[m Up to date: /root/.local/share/jupyter/nbextensions/highlighter/tst_highlights.html\n",
            "\u001b[32m[I 03:05:05 InstallContribNbextensionsApp]\u001b[m Up to date: /root/.local/share/jupyter/nbextensions/highlighter/tst_highlights.ipynb\n",
            "\u001b[32m[I 03:05:05 InstallContribNbextensionsApp]\u001b[m Up to date: /root/.local/share/jupyter/nbextensions/highlighter/highlighter.yaml\n",
            "\u001b[32m[I 03:05:05 InstallContribNbextensionsApp]\u001b[m Up to date: /root/.local/share/jupyter/nbextensions/highlighter/export_highlights.pdf\n",
            "\u001b[32m[I 03:05:05 InstallContribNbextensionsApp]\u001b[m Up to date: /root/.local/share/jupyter/nbextensions/highlighter/export_highlights.html\n",
            "\u001b[32m[I 03:05:05 InstallContribNbextensionsApp]\u001b[m Up to date: /root/.local/share/jupyter/nbextensions/highlighter/tst_highlights.tex\n",
            "\u001b[32m[I 03:05:05 InstallContribNbextensionsApp]\u001b[m Up to date: /root/.local/share/jupyter/nbextensions/highlighter/highlighter.css\n",
            "\u001b[32m[I 03:05:05 InstallContribNbextensionsApp]\u001b[m Up to date: /root/.local/share/jupyter/nbextensions/highlighter/image.gif\n",
            "\u001b[32m[I 03:05:05 InstallContribNbextensionsApp]\u001b[m Up to date: /root/.local/share/jupyter/nbextensions/highlighter/readme.md\n",
            "\u001b[32m[I 03:05:05 InstallContribNbextensionsApp]\u001b[m Up to date: /root/.local/share/jupyter/nbextensions/highlighter/highlighter.js\n",
            "\u001b[32m[I 03:05:05 InstallContribNbextensionsApp]\u001b[m Up to date: /root/.local/share/jupyter/nbextensions/highlighter/tst_highlights.pdf\n",
            "\u001b[32m[I 03:05:05 InstallContribNbextensionsApp]\u001b[m Up to date: /root/.local/share/jupyter/nbextensions/highlighter/demo_highlighter.ipynb\n",
            "\u001b[32m[I 03:05:05 InstallContribNbextensionsApp]\u001b[m Up to date: /root/.local/share/jupyter/nbextensions/highlighter/export_highlights.tex\n",
            "\u001b[32m[I 03:05:05 InstallContribNbextensionsApp]\u001b[m - Validating: \u001b[32mOK\u001b[0m\n",
            "\u001b[32m[I 03:05:05 InstallContribNbextensionsApp]\u001b[m Installing /usr/local/lib/python3.6/dist-packages/jupyter_contrib_nbextensions/nbextensions/code_prettify -> code_prettify\n",
            "\u001b[32m[I 03:05:05 InstallContribNbextensionsApp]\u001b[m Up to date: /root/.local/share/jupyter/nbextensions/code_prettify/README.md\n",
            "\u001b[32m[I 03:05:05 InstallContribNbextensionsApp]\u001b[m Up to date: /root/.local/share/jupyter/nbextensions/code_prettify/README_autopep8.md\n",
            "\u001b[32m[I 03:05:05 InstallContribNbextensionsApp]\u001b[m Up to date: /root/.local/share/jupyter/nbextensions/code_prettify/README_isort.md\n",
            "\u001b[32m[I 03:05:05 InstallContribNbextensionsApp]\u001b[m Up to date: /root/.local/share/jupyter/nbextensions/code_prettify/autopep8.js\n",
            "\u001b[32m[I 03:05:05 InstallContribNbextensionsApp]\u001b[m Up to date: /root/.local/share/jupyter/nbextensions/code_prettify/kernel_exec_on_cell.js\n",
            "\u001b[32m[I 03:05:05 InstallContribNbextensionsApp]\u001b[m Up to date: /root/.local/share/jupyter/nbextensions/code_prettify/demo-jv.gif\n",
            "\u001b[32m[I 03:05:05 InstallContribNbextensionsApp]\u001b[m Up to date: /root/.local/share/jupyter/nbextensions/code_prettify/README_2to3.md\n",
            "\u001b[32m[I 03:05:05 InstallContribNbextensionsApp]\u001b[m Up to date: /root/.local/share/jupyter/nbextensions/code_prettify/autopep8.yaml\n",
            "\u001b[32m[I 03:05:05 InstallContribNbextensionsApp]\u001b[m Up to date: /root/.local/share/jupyter/nbextensions/code_prettify/isort.yaml\n",
            "\u001b[32m[I 03:05:05 InstallContribNbextensionsApp]\u001b[m Up to date: /root/.local/share/jupyter/nbextensions/code_prettify/2to3.js\n",
            "\u001b[32m[I 03:05:05 InstallContribNbextensionsApp]\u001b[m Up to date: /root/.local/share/jupyter/nbextensions/code_prettify/demo_2to3.gif\n",
            "\u001b[32m[I 03:05:05 InstallContribNbextensionsApp]\u001b[m Up to date: /root/.local/share/jupyter/nbextensions/code_prettify/README_code_prettify.md\n",
            "\u001b[32m[I 03:05:05 InstallContribNbextensionsApp]\u001b[m Up to date: /root/.local/share/jupyter/nbextensions/code_prettify/code_prettify.yaml\n",
            "\u001b[32m[I 03:05:05 InstallContribNbextensionsApp]\u001b[m Up to date: /root/.local/share/jupyter/nbextensions/code_prettify/code_prettify.js\n",
            "\u001b[32m[I 03:05:05 InstallContribNbextensionsApp]\u001b[m Up to date: /root/.local/share/jupyter/nbextensions/code_prettify/demo-R.gif\n",
            "\u001b[32m[I 03:05:05 InstallContribNbextensionsApp]\u001b[m Up to date: /root/.local/share/jupyter/nbextensions/code_prettify/demo-py.gif\n",
            "\u001b[32m[I 03:05:05 InstallContribNbextensionsApp]\u001b[m Up to date: /root/.local/share/jupyter/nbextensions/code_prettify/2to3.yaml\n",
            "\u001b[32m[I 03:05:05 InstallContribNbextensionsApp]\u001b[m Up to date: /root/.local/share/jupyter/nbextensions/code_prettify/isort.js\n",
            "\u001b[32m[I 03:05:05 InstallContribNbextensionsApp]\u001b[m - Validating: \u001b[32mOK\u001b[0m\n",
            "\u001b[32m[I 03:05:05 InstallContribNbextensionsApp]\u001b[m Installing /usr/local/lib/python3.6/dist-packages/jupyter_contrib_nbextensions/nbextensions/code_prettify -> code_prettify\n",
            "\u001b[32m[I 03:05:05 InstallContribNbextensionsApp]\u001b[m Up to date: /root/.local/share/jupyter/nbextensions/code_prettify/README.md\n",
            "\u001b[32m[I 03:05:05 InstallContribNbextensionsApp]\u001b[m Up to date: /root/.local/share/jupyter/nbextensions/code_prettify/README_autopep8.md\n",
            "\u001b[32m[I 03:05:05 InstallContribNbextensionsApp]\u001b[m Up to date: /root/.local/share/jupyter/nbextensions/code_prettify/README_isort.md\n",
            "\u001b[32m[I 03:05:05 InstallContribNbextensionsApp]\u001b[m Up to date: /root/.local/share/jupyter/nbextensions/code_prettify/autopep8.js\n",
            "\u001b[32m[I 03:05:05 InstallContribNbextensionsApp]\u001b[m Up to date: /root/.local/share/jupyter/nbextensions/code_prettify/kernel_exec_on_cell.js\n",
            "\u001b[32m[I 03:05:05 InstallContribNbextensionsApp]\u001b[m Up to date: /root/.local/share/jupyter/nbextensions/code_prettify/demo-jv.gif\n",
            "\u001b[32m[I 03:05:05 InstallContribNbextensionsApp]\u001b[m Up to date: /root/.local/share/jupyter/nbextensions/code_prettify/README_2to3.md\n",
            "\u001b[32m[I 03:05:05 InstallContribNbextensionsApp]\u001b[m Up to date: /root/.local/share/jupyter/nbextensions/code_prettify/autopep8.yaml\n",
            "\u001b[32m[I 03:05:05 InstallContribNbextensionsApp]\u001b[m Up to date: /root/.local/share/jupyter/nbextensions/code_prettify/isort.yaml\n",
            "\u001b[32m[I 03:05:05 InstallContribNbextensionsApp]\u001b[m Up to date: /root/.local/share/jupyter/nbextensions/code_prettify/2to3.js\n",
            "\u001b[32m[I 03:05:05 InstallContribNbextensionsApp]\u001b[m Up to date: /root/.local/share/jupyter/nbextensions/code_prettify/demo_2to3.gif\n",
            "\u001b[32m[I 03:05:05 InstallContribNbextensionsApp]\u001b[m Up to date: /root/.local/share/jupyter/nbextensions/code_prettify/README_code_prettify.md\n",
            "\u001b[32m[I 03:05:05 InstallContribNbextensionsApp]\u001b[m Up to date: /root/.local/share/jupyter/nbextensions/code_prettify/code_prettify.yaml\n",
            "\u001b[32m[I 03:05:05 InstallContribNbextensionsApp]\u001b[m Up to date: /root/.local/share/jupyter/nbextensions/code_prettify/code_prettify.js\n",
            "\u001b[32m[I 03:05:05 InstallContribNbextensionsApp]\u001b[m Up to date: /root/.local/share/jupyter/nbextensions/code_prettify/demo-R.gif\n",
            "\u001b[32m[I 03:05:05 InstallContribNbextensionsApp]\u001b[m Up to date: /root/.local/share/jupyter/nbextensions/code_prettify/demo-py.gif\n",
            "\u001b[32m[I 03:05:05 InstallContribNbextensionsApp]\u001b[m Up to date: /root/.local/share/jupyter/nbextensions/code_prettify/2to3.yaml\n",
            "\u001b[32m[I 03:05:05 InstallContribNbextensionsApp]\u001b[m Up to date: /root/.local/share/jupyter/nbextensions/code_prettify/isort.js\n",
            "\u001b[32m[I 03:05:05 InstallContribNbextensionsApp]\u001b[m - Validating: \u001b[32mOK\u001b[0m\n",
            "\u001b[32m[I 03:05:05 InstallContribNbextensionsApp]\u001b[m Installing /usr/local/lib/python3.6/dist-packages/jupyter_contrib_nbextensions/nbextensions/code_prettify -> code_prettify\n",
            "\u001b[32m[I 03:05:05 InstallContribNbextensionsApp]\u001b[m Up to date: /root/.local/share/jupyter/nbextensions/code_prettify/README.md\n",
            "\u001b[32m[I 03:05:05 InstallContribNbextensionsApp]\u001b[m Up to date: /root/.local/share/jupyter/nbextensions/code_prettify/README_autopep8.md\n",
            "\u001b[32m[I 03:05:05 InstallContribNbextensionsApp]\u001b[m Up to date: /root/.local/share/jupyter/nbextensions/code_prettify/README_isort.md\n",
            "\u001b[32m[I 03:05:05 InstallContribNbextensionsApp]\u001b[m Up to date: /root/.local/share/jupyter/nbextensions/code_prettify/autopep8.js\n",
            "\u001b[32m[I 03:05:05 InstallContribNbextensionsApp]\u001b[m Up to date: /root/.local/share/jupyter/nbextensions/code_prettify/kernel_exec_on_cell.js\n",
            "\u001b[32m[I 03:05:05 InstallContribNbextensionsApp]\u001b[m Up to date: /root/.local/share/jupyter/nbextensions/code_prettify/demo-jv.gif\n",
            "\u001b[32m[I 03:05:05 InstallContribNbextensionsApp]\u001b[m Up to date: /root/.local/share/jupyter/nbextensions/code_prettify/README_2to3.md\n",
            "\u001b[32m[I 03:05:05 InstallContribNbextensionsApp]\u001b[m Up to date: /root/.local/share/jupyter/nbextensions/code_prettify/autopep8.yaml\n",
            "\u001b[32m[I 03:05:05 InstallContribNbextensionsApp]\u001b[m Up to date: /root/.local/share/jupyter/nbextensions/code_prettify/isort.yaml\n",
            "\u001b[32m[I 03:05:05 InstallContribNbextensionsApp]\u001b[m Up to date: /root/.local/share/jupyter/nbextensions/code_prettify/2to3.js\n",
            "\u001b[32m[I 03:05:05 InstallContribNbextensionsApp]\u001b[m Up to date: /root/.local/share/jupyter/nbextensions/code_prettify/demo_2to3.gif\n",
            "\u001b[32m[I 03:05:05 InstallContribNbextensionsApp]\u001b[m Up to date: /root/.local/share/jupyter/nbextensions/code_prettify/README_code_prettify.md\n",
            "\u001b[32m[I 03:05:05 InstallContribNbextensionsApp]\u001b[m Up to date: /root/.local/share/jupyter/nbextensions/code_prettify/code_prettify.yaml\n",
            "\u001b[32m[I 03:05:05 InstallContribNbextensionsApp]\u001b[m Up to date: /root/.local/share/jupyter/nbextensions/code_prettify/code_prettify.js\n",
            "\u001b[32m[I 03:05:05 InstallContribNbextensionsApp]\u001b[m Up to date: /root/.local/share/jupyter/nbextensions/code_prettify/demo-R.gif\n",
            "\u001b[32m[I 03:05:05 InstallContribNbextensionsApp]\u001b[m Up to date: /root/.local/share/jupyter/nbextensions/code_prettify/demo-py.gif\n",
            "\u001b[32m[I 03:05:05 InstallContribNbextensionsApp]\u001b[m Up to date: /root/.local/share/jupyter/nbextensions/code_prettify/2to3.yaml\n",
            "\u001b[32m[I 03:05:05 InstallContribNbextensionsApp]\u001b[m Up to date: /root/.local/share/jupyter/nbextensions/code_prettify/isort.js\n",
            "\u001b[32m[I 03:05:05 InstallContribNbextensionsApp]\u001b[m - Validating: \u001b[32mOK\u001b[0m\n",
            "\u001b[32m[I 03:05:05 InstallContribNbextensionsApp]\u001b[m Installing /usr/local/lib/python3.6/dist-packages/jupyter_contrib_nbextensions/nbextensions/code_prettify -> code_prettify\n",
            "\u001b[32m[I 03:05:05 InstallContribNbextensionsApp]\u001b[m Up to date: /root/.local/share/jupyter/nbextensions/code_prettify/README.md\n",
            "\u001b[32m[I 03:05:05 InstallContribNbextensionsApp]\u001b[m Up to date: /root/.local/share/jupyter/nbextensions/code_prettify/README_autopep8.md\n",
            "\u001b[32m[I 03:05:05 InstallContribNbextensionsApp]\u001b[m Up to date: /root/.local/share/jupyter/nbextensions/code_prettify/README_isort.md\n",
            "\u001b[32m[I 03:05:05 InstallContribNbextensionsApp]\u001b[m Up to date: /root/.local/share/jupyter/nbextensions/code_prettify/autopep8.js\n",
            "\u001b[32m[I 03:05:05 InstallContribNbextensionsApp]\u001b[m Up to date: /root/.local/share/jupyter/nbextensions/code_prettify/kernel_exec_on_cell.js\n",
            "\u001b[32m[I 03:05:05 InstallContribNbextensionsApp]\u001b[m Up to date: /root/.local/share/jupyter/nbextensions/code_prettify/demo-jv.gif\n",
            "\u001b[32m[I 03:05:05 InstallContribNbextensionsApp]\u001b[m Up to date: /root/.local/share/jupyter/nbextensions/code_prettify/README_2to3.md\n",
            "\u001b[32m[I 03:05:05 InstallContribNbextensionsApp]\u001b[m Up to date: /root/.local/share/jupyter/nbextensions/code_prettify/autopep8.yaml\n",
            "\u001b[32m[I 03:05:05 InstallContribNbextensionsApp]\u001b[m Up to date: /root/.local/share/jupyter/nbextensions/code_prettify/isort.yaml\n",
            "\u001b[32m[I 03:05:05 InstallContribNbextensionsApp]\u001b[m Up to date: /root/.local/share/jupyter/nbextensions/code_prettify/2to3.js\n",
            "\u001b[32m[I 03:05:05 InstallContribNbextensionsApp]\u001b[m Up to date: /root/.local/share/jupyter/nbextensions/code_prettify/demo_2to3.gif\n",
            "\u001b[32m[I 03:05:05 InstallContribNbextensionsApp]\u001b[m Up to date: /root/.local/share/jupyter/nbextensions/code_prettify/README_code_prettify.md\n",
            "\u001b[32m[I 03:05:05 InstallContribNbextensionsApp]\u001b[m Up to date: /root/.local/share/jupyter/nbextensions/code_prettify/code_prettify.yaml\n",
            "\u001b[32m[I 03:05:05 InstallContribNbextensionsApp]\u001b[m Up to date: /root/.local/share/jupyter/nbextensions/code_prettify/code_prettify.js\n",
            "\u001b[32m[I 03:05:05 InstallContribNbextensionsApp]\u001b[m Up to date: /root/.local/share/jupyter/nbextensions/code_prettify/demo-R.gif\n",
            "\u001b[32m[I 03:05:05 InstallContribNbextensionsApp]\u001b[m Up to date: /root/.local/share/jupyter/nbextensions/code_prettify/demo-py.gif\n",
            "\u001b[32m[I 03:05:05 InstallContribNbextensionsApp]\u001b[m Up to date: /root/.local/share/jupyter/nbextensions/code_prettify/2to3.yaml\n",
            "\u001b[32m[I 03:05:05 InstallContribNbextensionsApp]\u001b[m Up to date: /root/.local/share/jupyter/nbextensions/code_prettify/isort.js\n",
            "\u001b[32m[I 03:05:05 InstallContribNbextensionsApp]\u001b[m - Validating: \u001b[32mOK\u001b[0m\n",
            "\u001b[32m[I 03:05:05 InstallContribNbextensionsApp]\u001b[m Installing /usr/local/lib/python3.6/dist-packages/jupyter_contrib_nbextensions/nbextensions/autosavetime -> autosavetime\n",
            "\u001b[32m[I 03:05:05 InstallContribNbextensionsApp]\u001b[m Up to date: /root/.local/share/jupyter/nbextensions/autosavetime/README.md\n",
            "\u001b[32m[I 03:05:05 InstallContribNbextensionsApp]\u001b[m Up to date: /root/.local/share/jupyter/nbextensions/autosavetime/icon.png\n",
            "\u001b[32m[I 03:05:05 InstallContribNbextensionsApp]\u001b[m Up to date: /root/.local/share/jupyter/nbextensions/autosavetime/autosavetime.yaml\n",
            "\u001b[32m[I 03:05:05 InstallContribNbextensionsApp]\u001b[m Up to date: /root/.local/share/jupyter/nbextensions/autosavetime/main.js\n",
            "\u001b[32m[I 03:05:05 InstallContribNbextensionsApp]\u001b[m - Validating: \u001b[32mOK\u001b[0m\n",
            "\u001b[32m[I 03:05:05 InstallContribNbextensionsApp]\u001b[m Installing /usr/local/lib/python3.6/dist-packages/jupyter_contrib_nbextensions/nbextensions/hide_header -> hide_header\n",
            "\u001b[32m[I 03:05:05 InstallContribNbextensionsApp]\u001b[m Up to date: /root/.local/share/jupyter/nbextensions/hide_header/README.md\n",
            "\u001b[32m[I 03:05:05 InstallContribNbextensionsApp]\u001b[m Up to date: /root/.local/share/jupyter/nbextensions/hide_header/hide_header.yaml\n",
            "\u001b[32m[I 03:05:05 InstallContribNbextensionsApp]\u001b[m Up to date: /root/.local/share/jupyter/nbextensions/hide_header/main.js\n",
            "\u001b[32m[I 03:05:05 InstallContribNbextensionsApp]\u001b[m - Validating: \u001b[32mOK\u001b[0m\n",
            "\u001b[32m[I 03:05:05 InstallContribNbextensionsApp]\u001b[m Installing /usr/local/lib/python3.6/dist-packages/jupyter_contrib_nbextensions/nbextensions/load_tex_macros -> load_tex_macros\n",
            "\u001b[32m[I 03:05:05 InstallContribNbextensionsApp]\u001b[m Up to date: /root/.local/share/jupyter/nbextensions/load_tex_macros/icon.png\n",
            "\u001b[32m[I 03:05:05 InstallContribNbextensionsApp]\u001b[m Up to date: /root/.local/share/jupyter/nbextensions/load_tex_macros/main.js\n",
            "\u001b[32m[I 03:05:05 InstallContribNbextensionsApp]\u001b[m Up to date: /root/.local/share/jupyter/nbextensions/load_tex_macros/readme.md\n",
            "\u001b[32m[I 03:05:05 InstallContribNbextensionsApp]\u001b[m Up to date: /root/.local/share/jupyter/nbextensions/load_tex_macros/load_tex_macros.yaml\n",
            "\u001b[32m[I 03:05:05 InstallContribNbextensionsApp]\u001b[m - Validating: \u001b[32mOK\u001b[0m\n",
            "\u001b[32m[I 03:05:05 InstallContribNbextensionsApp]\u001b[m Installing /usr/local/lib/python3.6/dist-packages/jupyter_contrib_nbextensions/nbextensions/equation-numbering -> equation-numbering\n",
            "\u001b[32m[I 03:05:05 InstallContribNbextensionsApp]\u001b[m Up to date: /root/.local/share/jupyter/nbextensions/equation-numbering/icon.png\n",
            "\u001b[32m[I 03:05:05 InstallContribNbextensionsApp]\u001b[m Up to date: /root/.local/share/jupyter/nbextensions/equation-numbering/main.js\n",
            "\u001b[32m[I 03:05:05 InstallContribNbextensionsApp]\u001b[m Up to date: /root/.local/share/jupyter/nbextensions/equation-numbering/button.png\n",
            "\u001b[32m[I 03:05:05 InstallContribNbextensionsApp]\u001b[m Up to date: /root/.local/share/jupyter/nbextensions/equation-numbering/readme.md\n",
            "\u001b[32m[I 03:05:05 InstallContribNbextensionsApp]\u001b[m Up to date: /root/.local/share/jupyter/nbextensions/equation-numbering/info.yaml\n",
            "\u001b[32m[I 03:05:05 InstallContribNbextensionsApp]\u001b[m - Validating: \u001b[32mOK\u001b[0m\n",
            "\u001b[32m[I 03:05:05 InstallContribNbextensionsApp]\u001b[m Installing /usr/local/lib/python3.6/dist-packages/jupyter_contrib_nbextensions/nbextensions/export_embedded -> export_embedded\n",
            "\u001b[32m[I 03:05:05 InstallContribNbextensionsApp]\u001b[m Up to date: /root/.local/share/jupyter/nbextensions/export_embedded/icon.png\n",
            "\u001b[32m[I 03:05:05 InstallContribNbextensionsApp]\u001b[m Up to date: /root/.local/share/jupyter/nbextensions/export_embedded/main.js\n",
            "\u001b[32m[I 03:05:05 InstallContribNbextensionsApp]\u001b[m Up to date: /root/.local/share/jupyter/nbextensions/export_embedded/export_embedded.yaml\n",
            "\u001b[32m[I 03:05:05 InstallContribNbextensionsApp]\u001b[m Up to date: /root/.local/share/jupyter/nbextensions/export_embedded/readme.md\n",
            "\u001b[32m[I 03:05:05 InstallContribNbextensionsApp]\u001b[m - Validating: \u001b[32mOK\u001b[0m\n",
            "\u001b[32m[I 03:05:05 InstallContribNbextensionsApp]\u001b[m Installing /usr/local/lib/python3.6/dist-packages/jupyter_contrib_nbextensions/nbextensions/varInspector -> varInspector\n",
            "\u001b[32m[I 03:05:05 InstallContribNbextensionsApp]\u001b[m Up to date: /root/.local/share/jupyter/nbextensions/varInspector/README.md\n",
            "\u001b[32m[I 03:05:05 InstallContribNbextensionsApp]\u001b[m Up to date: /root/.local/share/jupyter/nbextensions/varInspector/icon.png\n",
            "\u001b[32m[I 03:05:05 InstallContribNbextensionsApp]\u001b[m Up to date: /root/.local/share/jupyter/nbextensions/varInspector/main.js\n",
            "\u001b[32m[I 03:05:05 InstallContribNbextensionsApp]\u001b[m Up to date: /root/.local/share/jupyter/nbextensions/varInspector/jquery.tablesorter.min.js\n",
            "\u001b[32m[I 03:05:05 InstallContribNbextensionsApp]\u001b[m Up to date: /root/.local/share/jupyter/nbextensions/varInspector/varInspector.yaml\n",
            "\u001b[32m[I 03:05:05 InstallContribNbextensionsApp]\u001b[m Up to date: /root/.local/share/jupyter/nbextensions/varInspector/var_list.r\n",
            "\u001b[32m[I 03:05:05 InstallContribNbextensionsApp]\u001b[m Up to date: /root/.local/share/jupyter/nbextensions/varInspector/tablesorter_LICENSE.txt\n",
            "\u001b[32m[I 03:05:05 InstallContribNbextensionsApp]\u001b[m Up to date: /root/.local/share/jupyter/nbextensions/varInspector/var_list.py\n",
            "\u001b[32m[I 03:05:05 InstallContribNbextensionsApp]\u001b[m Up to date: /root/.local/share/jupyter/nbextensions/varInspector/main.css\n",
            "\u001b[32m[I 03:05:05 InstallContribNbextensionsApp]\u001b[m Up to date: /root/.local/share/jupyter/nbextensions/varInspector/demo.gif\n",
            "\u001b[32m[I 03:05:05 InstallContribNbextensionsApp]\u001b[m Up to date: /root/.local/share/jupyter/nbextensions/varInspector/__pycache__/var_list.cpython-36.pyc\n",
            "\u001b[32m[I 03:05:05 InstallContribNbextensionsApp]\u001b[m - Validating: \u001b[32mOK\u001b[0m\n",
            "\u001b[32m[I 03:05:05 InstallContribNbextensionsApp]\u001b[m Installing /usr/local/lib/python3.6/dist-packages/jupyter_contrib_nbextensions/nbextensions/livemdpreview -> livemdpreview\n",
            "\u001b[32m[I 03:05:05 InstallContribNbextensionsApp]\u001b[m Up to date: /root/.local/share/jupyter/nbextensions/livemdpreview/livemdpreview.js\n",
            "\u001b[32m[I 03:05:05 InstallContribNbextensionsApp]\u001b[m Up to date: /root/.local/share/jupyter/nbextensions/livemdpreview/livemdpreview.yml\n",
            "\u001b[32m[I 03:05:05 InstallContribNbextensionsApp]\u001b[m - Validating: \u001b[32mOK\u001b[0m\n",
            "\u001b[32m[I 03:05:05 InstallContribNbextensionsApp]\u001b[m Installing /usr/local/lib/python3.6/dist-packages/jupyter_contrib_nbextensions/nbextensions/hide_input_all -> hide_input_all\n",
            "\u001b[32m[I 03:05:05 InstallContribNbextensionsApp]\u001b[m Up to date: /root/.local/share/jupyter/nbextensions/hide_input_all/icon.png\n",
            "\u001b[32m[I 03:05:05 InstallContribNbextensionsApp]\u001b[m Up to date: /root/.local/share/jupyter/nbextensions/hide_input_all/main.js\n",
            "\u001b[32m[I 03:05:05 InstallContribNbextensionsApp]\u001b[m Up to date: /root/.local/share/jupyter/nbextensions/hide_input_all/hide_input_all.yaml\n",
            "\u001b[32m[I 03:05:05 InstallContribNbextensionsApp]\u001b[m Up to date: /root/.local/share/jupyter/nbextensions/hide_input_all/readme.md\n",
            "\u001b[32m[I 03:05:05 InstallContribNbextensionsApp]\u001b[m Up to date: /root/.local/share/jupyter/nbextensions/hide_input_all/hide_input_all_hide.png\n",
            "\u001b[32m[I 03:05:05 InstallContribNbextensionsApp]\u001b[m Up to date: /root/.local/share/jupyter/nbextensions/hide_input_all/hide_input_all_show.png\n",
            "\u001b[32m[I 03:05:05 InstallContribNbextensionsApp]\u001b[m - Validating: \u001b[32mOK\u001b[0m\n",
            "\u001b[32m[I 03:05:05 InstallContribNbextensionsApp]\u001b[m Installing /usr/local/lib/python3.6/dist-packages/jupyter_contrib_nbextensions/nbextensions/gist_it -> gist_it\n",
            "\u001b[32m[I 03:05:05 InstallContribNbextensionsApp]\u001b[m Up to date: /root/.local/share/jupyter/nbextensions/gist_it/icon.png\n",
            "\u001b[32m[I 03:05:05 InstallContribNbextensionsApp]\u001b[m Up to date: /root/.local/share/jupyter/nbextensions/gist_it/main.js\n",
            "\u001b[32m[I 03:05:05 InstallContribNbextensionsApp]\u001b[m Up to date: /root/.local/share/jupyter/nbextensions/gist_it/gist_it.yaml\n",
            "\u001b[32m[I 03:05:05 InstallContribNbextensionsApp]\u001b[m Up to date: /root/.local/share/jupyter/nbextensions/gist_it/readme.md\n",
            "\u001b[32m[I 03:05:05 InstallContribNbextensionsApp]\u001b[m - Validating: \u001b[32mOK\u001b[0m\n",
            "\u001b[32m[I 03:05:05 InstallContribNbextensionsApp]\u001b[m Installing /usr/local/lib/python3.6/dist-packages/jupyter_contrib_nbextensions/nbextensions/cell_filter -> cell_filter\n",
            "\u001b[32m[I 03:05:05 InstallContribNbextensionsApp]\u001b[m Up to date: /root/.local/share/jupyter/nbextensions/cell_filter/README.md\n",
            "\u001b[32m[I 03:05:05 InstallContribNbextensionsApp]\u001b[m Up to date: /root/.local/share/jupyter/nbextensions/cell_filter/cell_filter.yml\n",
            "\u001b[32m[I 03:05:05 InstallContribNbextensionsApp]\u001b[m Up to date: /root/.local/share/jupyter/nbextensions/cell_filter/cell_filter.js\n",
            "\u001b[32m[I 03:05:05 InstallContribNbextensionsApp]\u001b[m - Validating: \u001b[32mOK\u001b[0m\n",
            "\u001b[32m[I 03:05:05 InstallContribNbextensionsApp]\u001b[m Installing /usr/local/lib/python3.6/dist-packages/jupyter_contrib_nbextensions/nbextensions/execution_dependencies -> execution_dependencies\n",
            "\u001b[32m[I 03:05:05 InstallContribNbextensionsApp]\u001b[m Up to date: /root/.local/share/jupyter/nbextensions/execution_dependencies/README.md\n",
            "\u001b[32m[I 03:05:05 InstallContribNbextensionsApp]\u001b[m Up to date: /root/.local/share/jupyter/nbextensions/execution_dependencies/execution_dependencies.js\n",
            "\u001b[32m[I 03:05:05 InstallContribNbextensionsApp]\u001b[m Up to date: /root/.local/share/jupyter/nbextensions/execution_dependencies/execution_dependencies.yml\n",
            "\u001b[32m[I 03:05:05 InstallContribNbextensionsApp]\u001b[m - Validating: \u001b[32mOK\u001b[0m\n",
            "\u001b[32m[I 03:05:05 InstallContribNbextensionsApp]\u001b[m Installing /usr/local/lib/python3.6/dist-packages/jupyter_contrib_nbextensions/nbextensions/help_panel -> help_panel\n",
            "\u001b[32m[I 03:05:05 InstallContribNbextensionsApp]\u001b[m Up to date: /root/.local/share/jupyter/nbextensions/help_panel/icon.png\n",
            "\u001b[32m[I 03:05:05 InstallContribNbextensionsApp]\u001b[m Up to date: /root/.local/share/jupyter/nbextensions/help_panel/help_panel_ext_fullscreen.png\n",
            "\u001b[32m[I 03:05:05 InstallContribNbextensionsApp]\u001b[m Up to date: /root/.local/share/jupyter/nbextensions/help_panel/help_panel_ext.png\n",
            "\u001b[32m[I 03:05:05 InstallContribNbextensionsApp]\u001b[m Up to date: /root/.local/share/jupyter/nbextensions/help_panel/help_panel.js\n",
            "\u001b[32m[I 03:05:05 InstallContribNbextensionsApp]\u001b[m Up to date: /root/.local/share/jupyter/nbextensions/help_panel/readme.md\n",
            "\u001b[32m[I 03:05:05 InstallContribNbextensionsApp]\u001b[m Up to date: /root/.local/share/jupyter/nbextensions/help_panel/help_panel.yaml\n",
            "\u001b[32m[I 03:05:05 InstallContribNbextensionsApp]\u001b[m Up to date: /root/.local/share/jupyter/nbextensions/help_panel/help_panel.css\n",
            "\u001b[32m[I 03:05:05 InstallContribNbextensionsApp]\u001b[m Up to date: /root/.local/share/jupyter/nbextensions/help_panel/img/handle-v.png\n",
            "\u001b[32m[I 03:05:05 InstallContribNbextensionsApp]\u001b[m - Validating: \u001b[32mOK\u001b[0m\n",
            "\u001b[32m[I 03:05:05 InstallContribNbextensionsApp]\u001b[m Installing /usr/local/lib/python3.6/dist-packages/jupyter_contrib_nbextensions/nbextensions/select_keymap -> select_keymap\n",
            "\u001b[32m[I 03:05:05 InstallContribNbextensionsApp]\u001b[m Up to date: /root/.local/share/jupyter/nbextensions/select_keymap/README.md\n",
            "\u001b[32m[I 03:05:05 InstallContribNbextensionsApp]\u001b[m Up to date: /root/.local/share/jupyter/nbextensions/select_keymap/main.js\n",
            "\u001b[32m[I 03:05:05 InstallContribNbextensionsApp]\u001b[m Up to date: /root/.local/share/jupyter/nbextensions/select_keymap/select_keymap.yaml\n",
            "\u001b[32m[I 03:05:05 InstallContribNbextensionsApp]\u001b[m Up to date: /root/.local/share/jupyter/nbextensions/select_keymap/select_keymap.png\n",
            "\u001b[32m[I 03:05:05 InstallContribNbextensionsApp]\u001b[m - Validating: \u001b[32mOK\u001b[0m\n",
            "\u001b[32m[I 03:05:05 InstallContribNbextensionsApp]\u001b[m Installing /usr/local/lib/python3.6/dist-packages/jupyter_contrib_nbextensions/nbextensions/scroll_down -> scroll_down\n",
            "\u001b[32m[I 03:05:05 InstallContribNbextensionsApp]\u001b[m Up to date: /root/.local/share/jupyter/nbextensions/scroll_down/icon.png\n",
            "\u001b[32m[I 03:05:05 InstallContribNbextensionsApp]\u001b[m Up to date: /root/.local/share/jupyter/nbextensions/scroll_down/main.js\n",
            "\u001b[32m[I 03:05:05 InstallContribNbextensionsApp]\u001b[m Up to date: /root/.local/share/jupyter/nbextensions/scroll_down/readme.md\n",
            "\u001b[32m[I 03:05:05 InstallContribNbextensionsApp]\u001b[m Up to date: /root/.local/share/jupyter/nbextensions/scroll_down/config.yaml\n",
            "\u001b[32m[I 03:05:05 InstallContribNbextensionsApp]\u001b[m - Validating: \u001b[32mOK\u001b[0m\n",
            "\u001b[32m[I 03:05:05 InstallContribNbextensionsApp]\u001b[m Installing /usr/local/lib/python3.6/dist-packages/jupyter_contrib_nbextensions/nbextensions/code_font_size -> code_font_size\n",
            "\u001b[32m[I 03:05:05 InstallContribNbextensionsApp]\u001b[m Up to date: /root/.local/share/jupyter/nbextensions/code_font_size/README.md\n",
            "\u001b[32m[I 03:05:05 InstallContribNbextensionsApp]\u001b[m Up to date: /root/.local/share/jupyter/nbextensions/code_font_size/code_font_size.js\n",
            "\u001b[32m[I 03:05:05 InstallContribNbextensionsApp]\u001b[m Up to date: /root/.local/share/jupyter/nbextensions/code_font_size/code_font_size.yaml\n",
            "\u001b[32m[I 03:05:05 InstallContribNbextensionsApp]\u001b[m - Validating: \u001b[32mOK\u001b[0m\n",
            "\u001b[32m[I 03:05:05 InstallContribNbextensionsApp]\u001b[m Installing /usr/local/lib/python3.6/dist-packages/jupyter_contrib_nbextensions/nbextensions/runtools -> runtools\n",
            "\u001b[32m[I 03:05:05 InstallContribNbextensionsApp]\u001b[m Up to date: /root/.local/share/jupyter/nbextensions/runtools/icon.png\n",
            "\u001b[32m[I 03:05:05 InstallContribNbextensionsApp]\u001b[m Up to date: /root/.local/share/jupyter/nbextensions/runtools/main.js\n",
            "\u001b[32m[I 03:05:05 InstallContribNbextensionsApp]\u001b[m Up to date: /root/.local/share/jupyter/nbextensions/runtools/cellstate.js\n",
            "\u001b[32m[I 03:05:05 InstallContribNbextensionsApp]\u001b[m Up to date: /root/.local/share/jupyter/nbextensions/runtools/runtools_show_hide.png\n",
            "\u001b[32m[I 03:05:05 InstallContribNbextensionsApp]\u001b[m Up to date: /root/.local/share/jupyter/nbextensions/runtools/runtools_nb.png\n",
            "\u001b[32m[I 03:05:05 InstallContribNbextensionsApp]\u001b[m Up to date: /root/.local/share/jupyter/nbextensions/runtools/annotations.odg\n",
            "\u001b[32m[I 03:05:05 InstallContribNbextensionsApp]\u001b[m Up to date: /root/.local/share/jupyter/nbextensions/runtools/readme.md\n",
            "\u001b[32m[I 03:05:05 InstallContribNbextensionsApp]\u001b[m Up to date: /root/.local/share/jupyter/nbextensions/runtools/runtools.yaml\n",
            "\u001b[32m[I 03:05:05 InstallContribNbextensionsApp]\u001b[m Up to date: /root/.local/share/jupyter/nbextensions/runtools/runtools_lock.png\n",
            "\u001b[32m[I 03:05:05 InstallContribNbextensionsApp]\u001b[m Up to date: /root/.local/share/jupyter/nbextensions/runtools/runtools_marker.png\n",
            "\u001b[32m[I 03:05:05 InstallContribNbextensionsApp]\u001b[m Up to date: /root/.local/share/jupyter/nbextensions/runtools/main.css\n",
            "\u001b[32m[I 03:05:05 InstallContribNbextensionsApp]\u001b[m Up to date: /root/.local/share/jupyter/nbextensions/runtools/runtools_execute.png\n",
            "\u001b[32m[I 03:05:05 InstallContribNbextensionsApp]\u001b[m Up to date: /root/.local/share/jupyter/nbextensions/runtools/demo.gif\n",
            "\u001b[32m[I 03:05:05 InstallContribNbextensionsApp]\u001b[m Up to date: /root/.local/share/jupyter/nbextensions/runtools/gutter.css\n",
            "\u001b[32m[I 03:05:05 InstallContribNbextensionsApp]\u001b[m - Validating: \u001b[32mOK\u001b[0m\n",
            "\u001b[32m[I 03:05:05 InstallContribNbextensionsApp]\u001b[m Installing /usr/local/lib/python3.6/dist-packages/jupyter_contrib_nbextensions/nbextensions/execute_time -> execute_time\n",
            "\u001b[32m[I 03:05:05 InstallContribNbextensionsApp]\u001b[m Up to date: /root/.local/share/jupyter/nbextensions/execute_time/icon.png\n",
            "\u001b[32m[I 03:05:05 InstallContribNbextensionsApp]\u001b[m Up to date: /root/.local/share/jupyter/nbextensions/execute_time/ExecuteTime.js\n",
            "\u001b[32m[I 03:05:05 InstallContribNbextensionsApp]\u001b[m Up to date: /root/.local/share/jupyter/nbextensions/execute_time/ExecuteTime.yaml\n",
            "\u001b[32m[I 03:05:05 InstallContribNbextensionsApp]\u001b[m Up to date: /root/.local/share/jupyter/nbextensions/execute_time/execution-timings-menu.png\n",
            "\u001b[32m[I 03:05:05 InstallContribNbextensionsApp]\u001b[m Up to date: /root/.local/share/jupyter/nbextensions/execute_time/execution-timings-box.png\n",
            "\u001b[32m[I 03:05:05 InstallContribNbextensionsApp]\u001b[m Up to date: /root/.local/share/jupyter/nbextensions/execute_time/ExecuteTime.css\n",
            "\u001b[32m[I 03:05:05 InstallContribNbextensionsApp]\u001b[m Up to date: /root/.local/share/jupyter/nbextensions/execute_time/readme.md\n",
            "\u001b[32m[I 03:05:05 InstallContribNbextensionsApp]\u001b[m - Validating: \u001b[32mOK\u001b[0m\n",
            "\u001b[32m[I 03:05:05 InstallContribNbextensionsApp]\u001b[m Installing /usr/local/lib/python3.6/dist-packages/jupyter_contrib_nbextensions/nbextensions/keyboard_shortcut_editor -> keyboard_shortcut_editor\n",
            "\u001b[32m[I 03:05:05 InstallContribNbextensionsApp]\u001b[m Up to date: /root/.local/share/jupyter/nbextensions/keyboard_shortcut_editor/readme_undefined_key.png\n",
            "\u001b[32m[I 03:05:05 InstallContribNbextensionsApp]\u001b[m Up to date: /root/.local/share/jupyter/nbextensions/keyboard_shortcut_editor/README.md\n",
            "\u001b[32m[I 03:05:05 InstallContribNbextensionsApp]\u001b[m Up to date: /root/.local/share/jupyter/nbextensions/keyboard_shortcut_editor/icon.png\n",
            "\u001b[32m[I 03:05:05 InstallContribNbextensionsApp]\u001b[m Up to date: /root/.local/share/jupyter/nbextensions/keyboard_shortcut_editor/main.js\n",
            "\u001b[32m[I 03:05:05 InstallContribNbextensionsApp]\u001b[m Up to date: /root/.local/share/jupyter/nbextensions/keyboard_shortcut_editor/readme_shortcut_editor_success.png\n",
            "\u001b[32m[I 03:05:05 InstallContribNbextensionsApp]\u001b[m Up to date: /root/.local/share/jupyter/nbextensions/keyboard_shortcut_editor/readme_conflict.png\n",
            "\u001b[32m[I 03:05:05 InstallContribNbextensionsApp]\u001b[m Up to date: /root/.local/share/jupyter/nbextensions/keyboard_shortcut_editor/readme_shortcut_editor_blank.png\n",
            "\u001b[32m[I 03:05:05 InstallContribNbextensionsApp]\u001b[m Up to date: /root/.local/share/jupyter/nbextensions/keyboard_shortcut_editor/readme_reset_disabled.png\n",
            "\u001b[32m[I 03:05:05 InstallContribNbextensionsApp]\u001b[m Up to date: /root/.local/share/jupyter/nbextensions/keyboard_shortcut_editor/kse_components.js\n",
            "\u001b[32m[I 03:05:05 InstallContribNbextensionsApp]\u001b[m Up to date: /root/.local/share/jupyter/nbextensions/keyboard_shortcut_editor/readme_dropdown.png\n",
            "\u001b[32m[I 03:05:05 InstallContribNbextensionsApp]\u001b[m Up to date: /root/.local/share/jupyter/nbextensions/keyboard_shortcut_editor/keyboard_shortcut_editor.yaml\n",
            "\u001b[32m[I 03:05:05 InstallContribNbextensionsApp]\u001b[m Up to date: /root/.local/share/jupyter/nbextensions/keyboard_shortcut_editor/quickhelp_shim.js\n",
            "\u001b[32m[I 03:05:05 InstallContribNbextensionsApp]\u001b[m Up to date: /root/.local/share/jupyter/nbextensions/keyboard_shortcut_editor/readme_add_new_link.png\n",
            "\u001b[32m[I 03:05:05 InstallContribNbextensionsApp]\u001b[m Up to date: /root/.local/share/jupyter/nbextensions/keyboard_shortcut_editor/readme_add_new_select_action.png\n",
            "\u001b[32m[I 03:05:05 InstallContribNbextensionsApp]\u001b[m Up to date: /root/.local/share/jupyter/nbextensions/keyboard_shortcut_editor/main.css\n",
            "\u001b[32m[I 03:05:05 InstallContribNbextensionsApp]\u001b[m Up to date: /root/.local/share/jupyter/nbextensions/keyboard_shortcut_editor/readme_comma.png\n",
            "\u001b[32m[I 03:05:05 InstallContribNbextensionsApp]\u001b[m Up to date: /root/.local/share/jupyter/nbextensions/keyboard_shortcut_editor/readme_menu_item.png\n",
            "\u001b[32m[I 03:05:05 InstallContribNbextensionsApp]\u001b[m - Validating: \u001b[32mOK\u001b[0m\n",
            "\u001b[32m[I 03:05:05 InstallContribNbextensionsApp]\u001b[m Installing /usr/local/lib/python3.6/dist-packages/jupyter_contrib_nbextensions/nbextensions/codemirror_mode_extensions -> codemirror_mode_extensions\n",
            "\u001b[32m[I 03:05:05 InstallContribNbextensionsApp]\u001b[m Up to date: /root/.local/share/jupyter/nbextensions/codemirror_mode_extensions/main.js\n",
            "\u001b[32m[I 03:05:05 InstallContribNbextensionsApp]\u001b[m Up to date: /root/.local/share/jupyter/nbextensions/codemirror_mode_extensions/codemirror_mode_extensions.yaml\n",
            "\u001b[32m[I 03:05:05 InstallContribNbextensionsApp]\u001b[m - Validating: \u001b[32mOK\u001b[0m\n",
            "\u001b[32m[I 03:05:05 InstallContribNbextensionsApp]\u001b[m Installing /usr/local/lib/python3.6/dist-packages/jupyter_contrib_nbextensions/nbextensions/skill -> skill\n",
            "\u001b[32m[I 03:05:05 InstallContribNbextensionsApp]\u001b[m Up to date: /root/.local/share/jupyter/nbextensions/skill/README.md\n",
            "\u001b[32m[I 03:05:05 InstallContribNbextensionsApp]\u001b[m Up to date: /root/.local/share/jupyter/nbextensions/skill/main.js\n",
            "\u001b[32m[I 03:05:05 InstallContribNbextensionsApp]\u001b[m Up to date: /root/.local/share/jupyter/nbextensions/skill/skill.yaml\n",
            "\u001b[32m[I 03:05:05 InstallContribNbextensionsApp]\u001b[m Up to date: /root/.local/share/jupyter/nbextensions/skill/skill.js\n",
            "\u001b[32m[I 03:05:05 InstallContribNbextensionsApp]\u001b[m - Validating: \u001b[32mOK\u001b[0m\n",
            "\u001b[32m[I 03:05:05 InstallContribNbextensionsApp]\u001b[m Installing /usr/local/lib/python3.6/dist-packages/jupyter_contrib_nbextensions/nbextensions/datestamper -> datestamper\n",
            "\u001b[32m[I 03:05:05 InstallContribNbextensionsApp]\u001b[m Up to date: /root/.local/share/jupyter/nbextensions/datestamper/main.yaml\n",
            "\u001b[32m[I 03:05:05 InstallContribNbextensionsApp]\u001b[m Up to date: /root/.local/share/jupyter/nbextensions/datestamper/icon.png\n",
            "\u001b[32m[I 03:05:05 InstallContribNbextensionsApp]\u001b[m Up to date: /root/.local/share/jupyter/nbextensions/datestamper/main.js\n",
            "\u001b[32m[I 03:05:05 InstallContribNbextensionsApp]\u001b[m Up to date: /root/.local/share/jupyter/nbextensions/datestamper/readme.md\n",
            "\u001b[32m[I 03:05:05 InstallContribNbextensionsApp]\u001b[m - Validating: \u001b[32mOK\u001b[0m\n",
            "\u001b[32m[I 03:05:05 InstallContribNbextensionsApp]\u001b[m Installing /usr/local/lib/python3.6/dist-packages/jupyter_contrib_nbextensions/nbextensions/nbTranslate -> nbTranslate\n",
            "\u001b[32m[I 03:05:05 InstallContribNbextensionsApp]\u001b[m Up to date: /root/.local/share/jupyter/nbextensions/nbTranslate/README.md\n",
            "\u001b[32m[I 03:05:05 InstallContribNbextensionsApp]\u001b[m Up to date: /root/.local/share/jupyter/nbextensions/nbTranslate/mutils.js\n",
            "\u001b[32m[I 03:05:05 InstallContribNbextensionsApp]\u001b[m Up to date: /root/.local/share/jupyter/nbextensions/nbTranslate/main.js\n",
            "\u001b[32m[I 03:05:05 InstallContribNbextensionsApp]\u001b[m Up to date: /root/.local/share/jupyter/nbextensions/nbTranslate/nbTranslate.js\n",
            "\u001b[32m[I 03:05:05 InstallContribNbextensionsApp]\u001b[m Up to date: /root/.local/share/jupyter/nbextensions/nbTranslate/demo2.gif\n",
            "\u001b[32m[I 03:05:05 InstallContribNbextensionsApp]\u001b[m Up to date: /root/.local/share/jupyter/nbextensions/nbTranslate/demo1.gif\n",
            "\u001b[32m[I 03:05:05 InstallContribNbextensionsApp]\u001b[m Up to date: /root/.local/share/jupyter/nbextensions/nbTranslate/nbTranslate.yaml\n",
            "\u001b[32m[I 03:05:05 InstallContribNbextensionsApp]\u001b[m Up to date: /root/.local/share/jupyter/nbextensions/nbTranslate/languages.js\n",
            "\u001b[32m[I 03:05:05 InstallContribNbextensionsApp]\u001b[m - Validating: \u001b[32mOK\u001b[0m\n",
            "\u001b[32m[I 03:05:05 InstallContribNbextensionsApp]\u001b[m Installing /usr/local/lib/python3.6/dist-packages/jupyter_contrib_nbextensions/nbextensions/table_beautifier -> table_beautifier\n",
            "\u001b[32m[I 03:05:05 InstallContribNbextensionsApp]\u001b[m Up to date: /root/.local/share/jupyter/nbextensions/table_beautifier/README.md\n",
            "\u001b[32m[I 03:05:05 InstallContribNbextensionsApp]\u001b[m Up to date: /root/.local/share/jupyter/nbextensions/table_beautifier/main.js\n",
            "\u001b[32m[I 03:05:05 InstallContribNbextensionsApp]\u001b[m Up to date: /root/.local/share/jupyter/nbextensions/table_beautifier/table_beautifier.yaml\n",
            "\u001b[32m[I 03:05:05 InstallContribNbextensionsApp]\u001b[m Up to date: /root/.local/share/jupyter/nbextensions/table_beautifier/main.css\n",
            "\u001b[32m[I 03:05:05 InstallContribNbextensionsApp]\u001b[m - Validating: \u001b[32mOK\u001b[0m\n",
            "\u001b[32m[I 03:05:05 InstallContribNbextensionsApp]\u001b[m Installing /usr/local/lib/python3.6/dist-packages/jupyter_contrib_nbextensions/nbextensions/hide_input -> hide_input\n",
            "\u001b[32m[I 03:05:05 InstallContribNbextensionsApp]\u001b[m Up to date: /root/.local/share/jupyter/nbextensions/hide_input/icon.png\n",
            "\u001b[32m[I 03:05:05 InstallContribNbextensionsApp]\u001b[m Up to date: /root/.local/share/jupyter/nbextensions/hide_input/main.js\n",
            "\u001b[32m[I 03:05:05 InstallContribNbextensionsApp]\u001b[m Up to date: /root/.local/share/jupyter/nbextensions/hide_input/hide-input.yaml\n",
            "\u001b[32m[I 03:05:05 InstallContribNbextensionsApp]\u001b[m Up to date: /root/.local/share/jupyter/nbextensions/hide_input/readme.md\n",
            "\u001b[32m[I 03:05:05 InstallContribNbextensionsApp]\u001b[m - Validating: \u001b[32mOK\u001b[0m\n",
            "\u001b[32m[I 03:05:05 InstallContribNbextensionsApp]\u001b[m Installing /usr/local/lib/python3.6/dist-packages/jupyter_contrib_nbextensions/nbextensions/python-markdown -> python-markdown\n",
            "\u001b[32m[I 03:05:05 InstallContribNbextensionsApp]\u001b[m Up to date: /root/.local/share/jupyter/nbextensions/python-markdown/main.js\n",
            "\u001b[32m[I 03:05:05 InstallContribNbextensionsApp]\u001b[m Up to date: /root/.local/share/jupyter/nbextensions/python-markdown/python-markdown-pre.png\n",
            "\u001b[32m[I 03:05:05 InstallContribNbextensionsApp]\u001b[m Up to date: /root/.local/share/jupyter/nbextensions/python-markdown/python-markdown.png\n",
            "\u001b[32m[I 03:05:05 InstallContribNbextensionsApp]\u001b[m Up to date: /root/.local/share/jupyter/nbextensions/python-markdown/python-markdown-post.png\n",
            "\u001b[32m[I 03:05:05 InstallContribNbextensionsApp]\u001b[m Up to date: /root/.local/share/jupyter/nbextensions/python-markdown/python-markdown.yaml\n",
            "\u001b[32m[I 03:05:05 InstallContribNbextensionsApp]\u001b[m Up to date: /root/.local/share/jupyter/nbextensions/python-markdown/readme.md\n",
            "\u001b[32m[I 03:05:05 InstallContribNbextensionsApp]\u001b[m Up to date: /root/.local/share/jupyter/nbextensions/python-markdown/trusted.png\n",
            "\u001b[32m[I 03:05:05 InstallContribNbextensionsApp]\u001b[m Up to date: /root/.local/share/jupyter/nbextensions/python-markdown/untrusted.png\n",
            "\u001b[32m[I 03:05:05 InstallContribNbextensionsApp]\u001b[m Up to date: /root/.local/share/jupyter/nbextensions/python-markdown/main.css\n",
            "\u001b[32m[I 03:05:05 InstallContribNbextensionsApp]\u001b[m - Validating: \u001b[32mOK\u001b[0m\n",
            "\u001b[32m[I 03:05:05 InstallContribNbextensionsApp]\u001b[m Installing /usr/local/lib/python3.6/dist-packages/jupyter_contrib_nbextensions/nbextensions/splitcell -> splitcell\n",
            "\u001b[32m[I 03:05:05 InstallContribNbextensionsApp]\u001b[m Up to date: /root/.local/share/jupyter/nbextensions/splitcell/icon.png\n",
            "\u001b[32m[I 03:05:05 InstallContribNbextensionsApp]\u001b[m Up to date: /root/.local/share/jupyter/nbextensions/splitcell/splitcell.js\n",
            "\u001b[32m[I 03:05:05 InstallContribNbextensionsApp]\u001b[m Up to date: /root/.local/share/jupyter/nbextensions/splitcell/splitcell.yaml\n",
            "\u001b[32m[I 03:05:05 InstallContribNbextensionsApp]\u001b[m Up to date: /root/.local/share/jupyter/nbextensions/splitcell/readme.md\n",
            "\u001b[32m[I 03:05:05 InstallContribNbextensionsApp]\u001b[m - Validating: \u001b[32mOK\u001b[0m\n",
            "\u001b[32m[I 03:05:05 InstallContribNbextensionsApp]\u001b[m Installing /usr/local/lib/python3.6/dist-packages/jupyter_contrib_nbextensions/nbextensions/rubberband -> rubberband\n",
            "\u001b[32m[I 03:05:05 InstallContribNbextensionsApp]\u001b[m Up to date: /root/.local/share/jupyter/nbextensions/rubberband/icon.png\n",
            "\u001b[32m[I 03:05:05 InstallContribNbextensionsApp]\u001b[m Up to date: /root/.local/share/jupyter/nbextensions/rubberband/main.js\n",
            "\u001b[32m[I 03:05:05 InstallContribNbextensionsApp]\u001b[m Up to date: /root/.local/share/jupyter/nbextensions/rubberband/rubberband.yaml\n",
            "\u001b[32m[I 03:05:05 InstallContribNbextensionsApp]\u001b[m Up to date: /root/.local/share/jupyter/nbextensions/rubberband/readme.md\n",
            "\u001b[32m[I 03:05:05 InstallContribNbextensionsApp]\u001b[m Up to date: /root/.local/share/jupyter/nbextensions/rubberband/main.css\n",
            "\u001b[32m[I 03:05:05 InstallContribNbextensionsApp]\u001b[m - Validating: \u001b[32mOK\u001b[0m\n",
            "\u001b[32m[I 03:05:05 InstallContribNbextensionsApp]\u001b[m Installing /usr/local/lib/python3.6/dist-packages/jupyter_contrib_nbextensions/nbextensions/tree-filter -> tree-filter\n",
            "\u001b[32m[I 03:05:05 InstallContribNbextensionsApp]\u001b[m Up to date: /root/.local/share/jupyter/nbextensions/tree-filter/index.js\n",
            "\u001b[32m[I 03:05:05 InstallContribNbextensionsApp]\u001b[m Up to date: /root/.local/share/jupyter/nbextensions/tree-filter/readme.md\n",
            "\u001b[32m[I 03:05:05 InstallContribNbextensionsApp]\u001b[m Up to date: /root/.local/share/jupyter/nbextensions/tree-filter/tree-filter.yaml\n",
            "\u001b[32m[I 03:05:05 InstallContribNbextensionsApp]\u001b[m Up to date: /root/.local/share/jupyter/nbextensions/tree-filter/demo.gif\n",
            "\u001b[32m[I 03:05:05 InstallContribNbextensionsApp]\u001b[m - Validating: \u001b[32mOK\u001b[0m\n",
            "\u001b[32m[I 03:05:05 InstallContribNbextensionsApp]\u001b[m Installing /usr/local/lib/python3.6/dist-packages/jupyter_contrib_nbextensions/nbextensions/collapsible_headings -> collapsible_headings\n",
            "\u001b[32m[I 03:05:05 InstallContribNbextensionsApp]\u001b[m Up to date: /root/.local/share/jupyter/nbextensions/collapsible_headings/icon.png\n",
            "\u001b[32m[I 03:05:05 InstallContribNbextensionsApp]\u001b[m Up to date: /root/.local/share/jupyter/nbextensions/collapsible_headings/main.js\n",
            "\u001b[32m[I 03:05:05 InstallContribNbextensionsApp]\u001b[m Up to date: /root/.local/share/jupyter/nbextensions/collapsible_headings/collapsible_headings.yaml\n",
            "\u001b[32m[I 03:05:05 InstallContribNbextensionsApp]\u001b[m Up to date: /root/.local/share/jupyter/nbextensions/collapsible_headings/readme.md\n",
            "\u001b[32m[I 03:05:05 InstallContribNbextensionsApp]\u001b[m Up to date: /root/.local/share/jupyter/nbextensions/collapsible_headings/screenshot.png\n",
            "\u001b[32m[I 03:05:05 InstallContribNbextensionsApp]\u001b[m Up to date: /root/.local/share/jupyter/nbextensions/collapsible_headings/main.css\n",
            "\u001b[32m[I 03:05:05 InstallContribNbextensionsApp]\u001b[m - Validating: \u001b[32mOK\u001b[0m\n",
            "\u001b[32m[I 03:05:05 InstallContribNbextensionsApp]\u001b[m Installing /usr/local/lib/python3.6/dist-packages/jupyter_contrib_nbextensions/nbextensions/addbefore -> addbefore\n",
            "\u001b[32m[I 03:05:05 InstallContribNbextensionsApp]\u001b[m Up to date: /root/.local/share/jupyter/nbextensions/addbefore/icon.png\n",
            "\u001b[32m[I 03:05:05 InstallContribNbextensionsApp]\u001b[m Up to date: /root/.local/share/jupyter/nbextensions/addbefore/main.js\n",
            "\u001b[32m[I 03:05:05 InstallContribNbextensionsApp]\u001b[m Up to date: /root/.local/share/jupyter/nbextensions/addbefore/readme.md\n",
            "\u001b[32m[I 03:05:05 InstallContribNbextensionsApp]\u001b[m Up to date: /root/.local/share/jupyter/nbextensions/addbefore/addbefore.yaml\n",
            "\u001b[32m[I 03:05:05 InstallContribNbextensionsApp]\u001b[m - Validating: \u001b[32mOK\u001b[0m\n",
            "\u001b[32m[I 03:05:05 InstallContribNbextensionsApp]\u001b[m Installing /usr/local/lib/python3.6/dist-packages/jupyter_contrib_nbextensions/nbextensions/exercise2 -> exercise2\n",
            "\u001b[32m[I 03:05:05 InstallContribNbextensionsApp]\u001b[m Up to date: /root/.local/share/jupyter/nbextensions/exercise2/icon.png\n",
            "\u001b[32m[I 03:05:05 InstallContribNbextensionsApp]\u001b[m Up to date: /root/.local/share/jupyter/nbextensions/exercise2/main.js\n",
            "\u001b[32m[I 03:05:05 InstallContribNbextensionsApp]\u001b[m Up to date: /root/.local/share/jupyter/nbextensions/exercise2/exercise2.yaml\n",
            "\u001b[32m[I 03:05:05 InstallContribNbextensionsApp]\u001b[m Up to date: /root/.local/share/jupyter/nbextensions/exercise2/image.gif\n",
            "\u001b[32m[I 03:05:05 InstallContribNbextensionsApp]\u001b[m Up to date: /root/.local/share/jupyter/nbextensions/exercise2/readme.md\n",
            "\u001b[32m[I 03:05:05 InstallContribNbextensionsApp]\u001b[m Up to date: /root/.local/share/jupyter/nbextensions/exercise2/main.css\n",
            "\u001b[32m[I 03:05:05 InstallContribNbextensionsApp]\u001b[m - Validating: \u001b[32mOK\u001b[0m\n",
            "\u001b[32m[I 03:05:05 InstallContribNbextensionsApp]\u001b[m Installing /usr/local/lib/python3.6/dist-packages/jupyter_contrib_nbextensions/nbextensions/move_selected_cells -> move_selected_cells\n",
            "\u001b[32m[I 03:05:05 InstallContribNbextensionsApp]\u001b[m Up to date: /root/.local/share/jupyter/nbextensions/move_selected_cells/README.md\n",
            "\u001b[32m[I 03:05:05 InstallContribNbextensionsApp]\u001b[m Up to date: /root/.local/share/jupyter/nbextensions/move_selected_cells/move_selected_cells.yaml\n",
            "\u001b[32m[I 03:05:05 InstallContribNbextensionsApp]\u001b[m Up to date: /root/.local/share/jupyter/nbextensions/move_selected_cells/main.js\n",
            "\u001b[32m[I 03:05:05 InstallContribNbextensionsApp]\u001b[m - Validating: \u001b[32mOK\u001b[0m\n",
            "\u001b[32m[I 03:05:05 InstallContribNbextensionsApp]\u001b[m Installing /usr/local/lib/python3.6/dist-packages/jupyter_contrib_nbextensions/nbextensions/contrib_nbextensions_help_item -> contrib_nbextensions_help_item\n",
            "\u001b[32m[I 03:05:05 InstallContribNbextensionsApp]\u001b[m Up to date: /root/.local/share/jupyter/nbextensions/contrib_nbextensions_help_item/contrib_nbextensions_help_item.yaml\n",
            "\u001b[32m[I 03:05:05 InstallContribNbextensionsApp]\u001b[m Up to date: /root/.local/share/jupyter/nbextensions/contrib_nbextensions_help_item/README.md\n",
            "\u001b[32m[I 03:05:05 InstallContribNbextensionsApp]\u001b[m Up to date: /root/.local/share/jupyter/nbextensions/contrib_nbextensions_help_item/main.js\n",
            "\u001b[32m[I 03:05:05 InstallContribNbextensionsApp]\u001b[m - Validating: \u001b[32mOK\u001b[0m\n",
            "\u001b[32m[I 03:05:05 InstallContribNbextensionsApp]\u001b[m Installing /usr/local/lib/python3.6/dist-packages/jupyter_contrib_nbextensions/nbextensions/printview -> printview\n",
            "\u001b[32m[I 03:05:05 InstallContribNbextensionsApp]\u001b[m Up to date: /root/.local/share/jupyter/nbextensions/printview/icon.png\n",
            "\u001b[32m[I 03:05:05 InstallContribNbextensionsApp]\u001b[m Up to date: /root/.local/share/jupyter/nbextensions/printview/main.js\n",
            "\u001b[32m[I 03:05:05 InstallContribNbextensionsApp]\u001b[m Up to date: /root/.local/share/jupyter/nbextensions/printview/printview.yaml\n",
            "\u001b[32m[I 03:05:05 InstallContribNbextensionsApp]\u001b[m Up to date: /root/.local/share/jupyter/nbextensions/printview/readme.md\n",
            "\u001b[32m[I 03:05:05 InstallContribNbextensionsApp]\u001b[m Up to date: /root/.local/share/jupyter/nbextensions/printview/printview-button.png\n",
            "\u001b[32m[I 03:05:05 InstallContribNbextensionsApp]\u001b[m - Validating: \u001b[32mOK\u001b[0m\n",
            "\u001b[32m[I 03:05:05 InstallContribNbextensionsApp]\u001b[m Installing /usr/local/lib/python3.6/dist-packages/jupyter_contrib_nbextensions/nbextensions/scratchpad -> scratchpad\n",
            "\u001b[32m[I 03:05:05 InstallContribNbextensionsApp]\u001b[m Up to date: /root/.local/share/jupyter/nbextensions/scratchpad/README.md\n",
            "\u001b[32m[I 03:05:05 InstallContribNbextensionsApp]\u001b[m Up to date: /root/.local/share/jupyter/nbextensions/scratchpad/scratchpad.yaml\n",
            "\u001b[32m[I 03:05:05 InstallContribNbextensionsApp]\u001b[m Up to date: /root/.local/share/jupyter/nbextensions/scratchpad/main.js\n",
            "\u001b[32m[I 03:05:05 InstallContribNbextensionsApp]\u001b[m Up to date: /root/.local/share/jupyter/nbextensions/scratchpad/scratchpad.css\n",
            "\u001b[32m[I 03:05:05 InstallContribNbextensionsApp]\u001b[m Up to date: /root/.local/share/jupyter/nbextensions/scratchpad/LICENSE\n",
            "\u001b[32m[I 03:05:05 InstallContribNbextensionsApp]\u001b[m Up to date: /root/.local/share/jupyter/nbextensions/scratchpad/demo.gif\n",
            "\u001b[32m[I 03:05:05 InstallContribNbextensionsApp]\u001b[m - Validating: \u001b[32mOK\u001b[0m\n",
            "\u001b[32m[I 03:05:05 InstallContribNbextensionsApp]\u001b[m Installing /usr/local/lib/python3.6/dist-packages/jupyter_contrib_nbextensions/nbextensions/navigation-hotkeys -> navigation-hotkeys\n",
            "\u001b[32m[I 03:05:05 InstallContribNbextensionsApp]\u001b[m Up to date: /root/.local/share/jupyter/nbextensions/navigation-hotkeys/icon.png\n",
            "\u001b[32m[I 03:05:05 InstallContribNbextensionsApp]\u001b[m Up to date: /root/.local/share/jupyter/nbextensions/navigation-hotkeys/main.js\n",
            "\u001b[32m[I 03:05:05 InstallContribNbextensionsApp]\u001b[m Up to date: /root/.local/share/jupyter/nbextensions/navigation-hotkeys/readme.md\n",
            "\u001b[32m[I 03:05:05 InstallContribNbextensionsApp]\u001b[m Up to date: /root/.local/share/jupyter/nbextensions/navigation-hotkeys/hotkeys.yaml\n",
            "\u001b[32m[I 03:05:05 InstallContribNbextensionsApp]\u001b[m - Validating: \u001b[32mOK\u001b[0m\n",
            "\u001b[32m[I 03:05:05 InstallContribNbextensionsApp]\u001b[m Installing /usr/local/lib/python3.6/dist-packages/jupyter_contrib_nbextensions/nbextensions/notify -> notify\n",
            "\u001b[32m[I 03:05:05 InstallContribNbextensionsApp]\u001b[m Up to date: /root/.local/share/jupyter/nbextensions/notify/notification.png\n",
            "\u001b[32m[I 03:05:05 InstallContribNbextensionsApp]\u001b[m Up to date: /root/.local/share/jupyter/nbextensions/notify/notify.mp3\n",
            "\u001b[32m[I 03:05:05 InstallContribNbextensionsApp]\u001b[m Up to date: /root/.local/share/jupyter/nbextensions/notify/notify.js\n",
            "\u001b[32m[I 03:05:05 InstallContribNbextensionsApp]\u001b[m Up to date: /root/.local/share/jupyter/nbextensions/notify/readme.md\n",
            "\u001b[32m[I 03:05:05 InstallContribNbextensionsApp]\u001b[m Up to date: /root/.local/share/jupyter/nbextensions/notify/notify.yaml\n",
            "\u001b[32m[I 03:05:05 InstallContribNbextensionsApp]\u001b[m - Validating: \u001b[32mOK\u001b[0m\n",
            "\u001b[32m[I 03:05:05 InstallContribNbextensionsApp]\u001b[m Installing /usr/local/lib/python3.6/dist-packages/jupyter_contrib_nbextensions/nbextensions/init_cell -> init_cell\n",
            "\u001b[32m[I 03:05:05 InstallContribNbextensionsApp]\u001b[m Up to date: /root/.local/share/jupyter/nbextensions/init_cell/README.md\n",
            "\u001b[32m[I 03:05:05 InstallContribNbextensionsApp]\u001b[m Up to date: /root/.local/share/jupyter/nbextensions/init_cell/icon.png\n",
            "\u001b[32m[I 03:05:05 InstallContribNbextensionsApp]\u001b[m Up to date: /root/.local/share/jupyter/nbextensions/init_cell/init_cell.yaml\n",
            "\u001b[32m[I 03:05:05 InstallContribNbextensionsApp]\u001b[m Up to date: /root/.local/share/jupyter/nbextensions/init_cell/main.js\n",
            "\u001b[32m[I 03:05:05 InstallContribNbextensionsApp]\u001b[m Up to date: /root/.local/share/jupyter/nbextensions/init_cell/cell_toolbar_menu.png\n",
            "\u001b[32m[I 03:05:05 InstallContribNbextensionsApp]\u001b[m - Validating: \u001b[32mOK\u001b[0m\n",
            "\u001b[32m[I 03:05:05 InstallContribNbextensionsApp]\u001b[m Installing /usr/local/lib/python3.6/dist-packages/jupyter_contrib_nbextensions/nbextensions/toggle_all_line_numbers -> toggle_all_line_numbers\n",
            "\u001b[32m[I 03:05:05 InstallContribNbextensionsApp]\u001b[m Up to date: /root/.local/share/jupyter/nbextensions/toggle_all_line_numbers/main.yaml\n",
            "\u001b[32m[I 03:05:05 InstallContribNbextensionsApp]\u001b[m Up to date: /root/.local/share/jupyter/nbextensions/toggle_all_line_numbers/icon.png\n",
            "\u001b[32m[I 03:05:05 InstallContribNbextensionsApp]\u001b[m Up to date: /root/.local/share/jupyter/nbextensions/toggle_all_line_numbers/main.js\n",
            "\u001b[32m[I 03:05:05 InstallContribNbextensionsApp]\u001b[m Up to date: /root/.local/share/jupyter/nbextensions/toggle_all_line_numbers/readme.md\n",
            "\u001b[32m[I 03:05:05 InstallContribNbextensionsApp]\u001b[m - Validating: \u001b[32mOK\u001b[0m\n",
            "\u001b[32m[I 03:05:05 InstallContribNbextensionsApp]\u001b[m Installing /usr/local/lib/python3.6/dist-packages/jupyter_contrib_nbextensions/nbextensions/ruler -> ruler\n",
            "\u001b[32m[I 03:05:05 InstallContribNbextensionsApp]\u001b[m Up to date: /root/.local/share/jupyter/nbextensions/ruler/icon.png\n",
            "\u001b[32m[I 03:05:05 InstallContribNbextensionsApp]\u001b[m Up to date: /root/.local/share/jupyter/nbextensions/ruler/main.js\n",
            "\u001b[32m[I 03:05:05 InstallContribNbextensionsApp]\u001b[m Up to date: /root/.local/share/jupyter/nbextensions/ruler/edit.js\n",
            "\u001b[32m[I 03:05:05 InstallContribNbextensionsApp]\u001b[m Up to date: /root/.local/share/jupyter/nbextensions/ruler/ruler_editor.yaml\n",
            "\u001b[32m[I 03:05:05 InstallContribNbextensionsApp]\u001b[m Up to date: /root/.local/share/jupyter/nbextensions/ruler/ruler.yaml\n",
            "\u001b[32m[I 03:05:05 InstallContribNbextensionsApp]\u001b[m Up to date: /root/.local/share/jupyter/nbextensions/ruler/readme.md\n",
            "\u001b[32m[I 03:05:05 InstallContribNbextensionsApp]\u001b[m - Validating: \u001b[32mOK\u001b[0m\n",
            "\u001b[32m[I 03:05:05 InstallContribNbextensionsApp]\u001b[m Installing /usr/local/lib/python3.6/dist-packages/jupyter_contrib_nbextensions/nbextensions/ruler -> ruler\n",
            "\u001b[32m[I 03:05:05 InstallContribNbextensionsApp]\u001b[m Up to date: /root/.local/share/jupyter/nbextensions/ruler/icon.png\n",
            "\u001b[32m[I 03:05:05 InstallContribNbextensionsApp]\u001b[m Up to date: /root/.local/share/jupyter/nbextensions/ruler/main.js\n",
            "\u001b[32m[I 03:05:06 InstallContribNbextensionsApp]\u001b[m Up to date: /root/.local/share/jupyter/nbextensions/ruler/edit.js\n",
            "\u001b[32m[I 03:05:06 InstallContribNbextensionsApp]\u001b[m Up to date: /root/.local/share/jupyter/nbextensions/ruler/ruler_editor.yaml\n",
            "\u001b[32m[I 03:05:06 InstallContribNbextensionsApp]\u001b[m Up to date: /root/.local/share/jupyter/nbextensions/ruler/ruler.yaml\n",
            "\u001b[32m[I 03:05:06 InstallContribNbextensionsApp]\u001b[m Up to date: /root/.local/share/jupyter/nbextensions/ruler/readme.md\n",
            "\u001b[32m[I 03:05:06 InstallContribNbextensionsApp]\u001b[m - Validating: \u001b[32mOK\u001b[0m\n",
            "\u001b[32m[I 03:05:06 InstallContribNbextensionsApp]\u001b[m Installing /usr/local/lib/python3.6/dist-packages/jupyter_contrib_nbextensions/nbextensions/zenmode -> zenmode\n",
            "\u001b[32m[I 03:05:06 InstallContribNbextensionsApp]\u001b[m Up to date: /root/.local/share/jupyter/nbextensions/zenmode/README.md\n",
            "\u001b[32m[I 03:05:06 InstallContribNbextensionsApp]\u001b[m Up to date: /root/.local/share/jupyter/nbextensions/zenmode/main.js\n",
            "\u001b[32m[I 03:05:06 InstallContribNbextensionsApp]\u001b[m Up to date: /root/.local/share/jupyter/nbextensions/zenmode/zenmode.yaml\n",
            "\u001b[32m[I 03:05:06 InstallContribNbextensionsApp]\u001b[m Up to date: /root/.local/share/jupyter/nbextensions/zenmode/main.css\n",
            "\u001b[32m[I 03:05:06 InstallContribNbextensionsApp]\u001b[m Up to date: /root/.local/share/jupyter/nbextensions/zenmode/images/ipynblogo1.png\n",
            "\u001b[32m[I 03:05:06 InstallContribNbextensionsApp]\u001b[m Up to date: /root/.local/share/jupyter/nbextensions/zenmode/images/back11.jpg\n",
            "\u001b[32m[I 03:05:06 InstallContribNbextensionsApp]\u001b[m Up to date: /root/.local/share/jupyter/nbextensions/zenmode/images/back1.jpg\n",
            "\u001b[32m[I 03:05:06 InstallContribNbextensionsApp]\u001b[m Up to date: /root/.local/share/jupyter/nbextensions/zenmode/images/back21.jpg\n",
            "\u001b[32m[I 03:05:06 InstallContribNbextensionsApp]\u001b[m Up to date: /root/.local/share/jupyter/nbextensions/zenmode/images/back2.jpg\n",
            "\u001b[32m[I 03:05:06 InstallContribNbextensionsApp]\u001b[m Up to date: /root/.local/share/jupyter/nbextensions/zenmode/images/ipynblogo0.png\n",
            "\u001b[32m[I 03:05:06 InstallContribNbextensionsApp]\u001b[m Up to date: /root/.local/share/jupyter/nbextensions/zenmode/images/back12.jpg\n",
            "\u001b[32m[I 03:05:06 InstallContribNbextensionsApp]\u001b[m Up to date: /root/.local/share/jupyter/nbextensions/zenmode/images/back22.jpg\n",
            "\u001b[32m[I 03:05:06 InstallContribNbextensionsApp]\u001b[m Up to date: /root/.local/share/jupyter/nbextensions/zenmode/images/back3.jpg\n",
            "\u001b[32m[I 03:05:06 InstallContribNbextensionsApp]\u001b[m - Validating: \u001b[32mOK\u001b[0m\n",
            "\u001b[32m[I 03:05:06 InstallContribNbextensionsApp]\u001b[m Installing /usr/local/lib/python3.6/dist-packages/jupyter_contrib_nbextensions/nbextensions/codefolding -> codefolding\n",
            "\u001b[32m[I 03:05:06 InstallContribNbextensionsApp]\u001b[m Up to date: /root/.local/share/jupyter/nbextensions/codefolding/icon.png\n",
            "\u001b[32m[I 03:05:06 InstallContribNbextensionsApp]\u001b[m Up to date: /root/.local/share/jupyter/nbextensions/codefolding/main.js\n",
            "\u001b[32m[I 03:05:06 InstallContribNbextensionsApp]\u001b[m Up to date: /root/.local/share/jupyter/nbextensions/codefolding/codefolding_indent_folded_1.png\n",
            "\u001b[32m[I 03:05:06 InstallContribNbextensionsApp]\u001b[m Up to date: /root/.local/share/jupyter/nbextensions/codefolding/codefolding.yaml\n",
            "\u001b[32m[I 03:05:06 InstallContribNbextensionsApp]\u001b[m Up to date: /root/.local/share/jupyter/nbextensions/codefolding/codefolding_indent_unfolded.png\n",
            "\u001b[32m[I 03:05:06 InstallContribNbextensionsApp]\u001b[m Up to date: /root/.local/share/jupyter/nbextensions/codefolding/edit.js\n",
            "\u001b[32m[I 03:05:06 InstallContribNbextensionsApp]\u001b[m Up to date: /root/.local/share/jupyter/nbextensions/codefolding/magic-folded.png\n",
            "\u001b[32m[I 03:05:06 InstallContribNbextensionsApp]\u001b[m Up to date: /root/.local/share/jupyter/nbextensions/codefolding/magic-unfolded.png\n",
            "\u001b[32m[I 03:05:06 InstallContribNbextensionsApp]\u001b[m Up to date: /root/.local/share/jupyter/nbextensions/codefolding/codefolding_editor.png\n",
            "\u001b[32m[I 03:05:06 InstallContribNbextensionsApp]\u001b[m Up to date: /root/.local/share/jupyter/nbextensions/codefolding/foldgutter.css\n",
            "\u001b[32m[I 03:05:06 InstallContribNbextensionsApp]\u001b[m Up to date: /root/.local/share/jupyter/nbextensions/codefolding/codefolding_firstline_folded.png\n",
            "\u001b[32m[I 03:05:06 InstallContribNbextensionsApp]\u001b[m Up to date: /root/.local/share/jupyter/nbextensions/codefolding/codefolding_editor.yaml\n",
            "\u001b[32m[I 03:05:06 InstallContribNbextensionsApp]\u001b[m Up to date: /root/.local/share/jupyter/nbextensions/codefolding/magic-fold.js\n",
            "\u001b[32m[I 03:05:06 InstallContribNbextensionsApp]\u001b[m Up to date: /root/.local/share/jupyter/nbextensions/codefolding/readme.md\n",
            "\u001b[32m[I 03:05:06 InstallContribNbextensionsApp]\u001b[m Up to date: /root/.local/share/jupyter/nbextensions/codefolding/codefolding_firstline_unfolded.png\n",
            "\u001b[32m[I 03:05:06 InstallContribNbextensionsApp]\u001b[m Up to date: /root/.local/share/jupyter/nbextensions/codefolding/codefolding_indent_folded_2.png\n",
            "\u001b[32m[I 03:05:06 InstallContribNbextensionsApp]\u001b[m Up to date: /root/.local/share/jupyter/nbextensions/codefolding/firstline-fold.js\n",
            "\u001b[32m[I 03:05:06 InstallContribNbextensionsApp]\u001b[m - Validating: \u001b[32mOK\u001b[0m\n",
            "\u001b[32m[I 03:05:06 InstallContribNbextensionsApp]\u001b[m Installing /usr/local/lib/python3.6/dist-packages/jupyter_contrib_nbextensions/nbextensions/codefolding -> codefolding\n",
            "\u001b[32m[I 03:05:06 InstallContribNbextensionsApp]\u001b[m Up to date: /root/.local/share/jupyter/nbextensions/codefolding/icon.png\n",
            "\u001b[32m[I 03:05:06 InstallContribNbextensionsApp]\u001b[m Up to date: /root/.local/share/jupyter/nbextensions/codefolding/main.js\n",
            "\u001b[32m[I 03:05:06 InstallContribNbextensionsApp]\u001b[m Up to date: /root/.local/share/jupyter/nbextensions/codefolding/codefolding_indent_folded_1.png\n",
            "\u001b[32m[I 03:05:06 InstallContribNbextensionsApp]\u001b[m Up to date: /root/.local/share/jupyter/nbextensions/codefolding/codefolding.yaml\n",
            "\u001b[32m[I 03:05:06 InstallContribNbextensionsApp]\u001b[m Up to date: /root/.local/share/jupyter/nbextensions/codefolding/codefolding_indent_unfolded.png\n",
            "\u001b[32m[I 03:05:06 InstallContribNbextensionsApp]\u001b[m Up to date: /root/.local/share/jupyter/nbextensions/codefolding/edit.js\n",
            "\u001b[32m[I 03:05:06 InstallContribNbextensionsApp]\u001b[m Up to date: /root/.local/share/jupyter/nbextensions/codefolding/magic-folded.png\n",
            "\u001b[32m[I 03:05:06 InstallContribNbextensionsApp]\u001b[m Up to date: /root/.local/share/jupyter/nbextensions/codefolding/magic-unfolded.png\n",
            "\u001b[32m[I 03:05:06 InstallContribNbextensionsApp]\u001b[m Up to date: /root/.local/share/jupyter/nbextensions/codefolding/codefolding_editor.png\n",
            "\u001b[32m[I 03:05:06 InstallContribNbextensionsApp]\u001b[m Up to date: /root/.local/share/jupyter/nbextensions/codefolding/foldgutter.css\n",
            "\u001b[32m[I 03:05:06 InstallContribNbextensionsApp]\u001b[m Up to date: /root/.local/share/jupyter/nbextensions/codefolding/codefolding_firstline_folded.png\n",
            "\u001b[32m[I 03:05:06 InstallContribNbextensionsApp]\u001b[m Up to date: /root/.local/share/jupyter/nbextensions/codefolding/codefolding_editor.yaml\n",
            "\u001b[32m[I 03:05:06 InstallContribNbextensionsApp]\u001b[m Up to date: /root/.local/share/jupyter/nbextensions/codefolding/magic-fold.js\n",
            "\u001b[32m[I 03:05:06 InstallContribNbextensionsApp]\u001b[m Up to date: /root/.local/share/jupyter/nbextensions/codefolding/readme.md\n",
            "\u001b[32m[I 03:05:06 InstallContribNbextensionsApp]\u001b[m Up to date: /root/.local/share/jupyter/nbextensions/codefolding/codefolding_firstline_unfolded.png\n",
            "\u001b[32m[I 03:05:06 InstallContribNbextensionsApp]\u001b[m Up to date: /root/.local/share/jupyter/nbextensions/codefolding/codefolding_indent_folded_2.png\n",
            "\u001b[32m[I 03:05:06 InstallContribNbextensionsApp]\u001b[m Up to date: /root/.local/share/jupyter/nbextensions/codefolding/firstline-fold.js\n",
            "\u001b[32m[I 03:05:06 InstallContribNbextensionsApp]\u001b[m - Validating: \u001b[32mOK\u001b[0m\n",
            "\u001b[32m[I 03:05:06 InstallContribNbextensionsApp]\u001b[m Installing /usr/local/lib/python3.6/dist-packages/jupyter_contrib_nbextensions/nbextensions/exercise -> exercise\n",
            "\u001b[32m[I 03:05:06 InstallContribNbextensionsApp]\u001b[m Up to date: /root/.local/share/jupyter/nbextensions/exercise/icon.png\n",
            "\u001b[32m[I 03:05:06 InstallContribNbextensionsApp]\u001b[m Up to date: /root/.local/share/jupyter/nbextensions/exercise/main.js\n",
            "\u001b[32m[I 03:05:06 InstallContribNbextensionsApp]\u001b[m Up to date: /root/.local/share/jupyter/nbextensions/exercise/history.md\n",
            "\u001b[32m[I 03:05:06 InstallContribNbextensionsApp]\u001b[m Up to date: /root/.local/share/jupyter/nbextensions/exercise/image.gif\n",
            "\u001b[32m[I 03:05:06 InstallContribNbextensionsApp]\u001b[m Up to date: /root/.local/share/jupyter/nbextensions/exercise/readme.md\n",
            "\u001b[32m[I 03:05:06 InstallContribNbextensionsApp]\u001b[m Up to date: /root/.local/share/jupyter/nbextensions/exercise/exercise.yaml\n",
            "\u001b[32m[I 03:05:06 InstallContribNbextensionsApp]\u001b[m Up to date: /root/.local/share/jupyter/nbextensions/exercise/main.css\n",
            "\u001b[32m[I 03:05:06 InstallContribNbextensionsApp]\u001b[m - Validating: \u001b[32mOK\u001b[0m\n",
            "\u001b[32m[I 03:05:06 InstallContribNbextensionsApp]\u001b[m Installing /usr/local/lib/python3.6/dist-packages/jupyter_contrib_nbextensions/nbextensions/skip-traceback -> skip-traceback\n",
            "\u001b[32m[I 03:05:06 InstallContribNbextensionsApp]\u001b[m Up to date: /root/.local/share/jupyter/nbextensions/skip-traceback/traceback.png\n",
            "\u001b[32m[I 03:05:06 InstallContribNbextensionsApp]\u001b[m Up to date: /root/.local/share/jupyter/nbextensions/skip-traceback/icon.png\n",
            "\u001b[32m[I 03:05:06 InstallContribNbextensionsApp]\u001b[m Up to date: /root/.local/share/jupyter/nbextensions/skip-traceback/main.js\n",
            "\u001b[32m[I 03:05:06 InstallContribNbextensionsApp]\u001b[m Up to date: /root/.local/share/jupyter/nbextensions/skip-traceback/skip-traceback.yaml\n",
            "\u001b[32m[I 03:05:06 InstallContribNbextensionsApp]\u001b[m Up to date: /root/.local/share/jupyter/nbextensions/skip-traceback/skip-traceback.png\n",
            "\u001b[32m[I 03:05:06 InstallContribNbextensionsApp]\u001b[m Up to date: /root/.local/share/jupyter/nbextensions/skip-traceback/readme.md\n",
            "\u001b[32m[I 03:05:06 InstallContribNbextensionsApp]\u001b[m - Validating: \u001b[32mOK\u001b[0m\n",
            "\u001b[32m[I 03:05:06 InstallContribNbextensionsApp]\u001b[m Installing /usr/local/lib/python3.6/dist-packages/jupyter_contrib_nbextensions/nbextensions/snippets -> snippets\n",
            "\u001b[32m[I 03:05:06 InstallContribNbextensionsApp]\u001b[m Up to date: /root/.local/share/jupyter/nbextensions/snippets/README.md\n",
            "\u001b[32m[I 03:05:06 InstallContribNbextensionsApp]\u001b[m Up to date: /root/.local/share/jupyter/nbextensions/snippets/main.js\n",
            "\u001b[32m[I 03:05:06 InstallContribNbextensionsApp]\u001b[m Up to date: /root/.local/share/jupyter/nbextensions/snippets/snippets-demo.gif\n",
            "\u001b[32m[I 03:05:06 InstallContribNbextensionsApp]\u001b[m Up to date: /root/.local/share/jupyter/nbextensions/snippets/snippets.yaml\n",
            "\u001b[32m[I 03:05:06 InstallContribNbextensionsApp]\u001b[m Up to date: /root/.local/share/jupyter/nbextensions/snippets/snippets.json\n",
            "\u001b[32m[I 03:05:06 InstallContribNbextensionsApp]\u001b[m - Validating: \u001b[32mOK\u001b[0m\n",
            "\u001b[32m[I 03:05:06 InstallContribNbextensionsApp]\u001b[m Installing /usr/local/lib/python3.6/dist-packages/jupyter_contrib_nbextensions/nbextensions/comment-uncomment -> comment-uncomment\n",
            "\u001b[32m[I 03:05:06 InstallContribNbextensionsApp]\u001b[m Up to date: /root/.local/share/jupyter/nbextensions/comment-uncomment/icon.png\n",
            "\u001b[32m[I 03:05:06 InstallContribNbextensionsApp]\u001b[m Up to date: /root/.local/share/jupyter/nbextensions/comment-uncomment/main.js\n",
            "\u001b[32m[I 03:05:06 InstallContribNbextensionsApp]\u001b[m Up to date: /root/.local/share/jupyter/nbextensions/comment-uncomment/comment-uncomment.yaml\n",
            "\u001b[32m[I 03:05:06 InstallContribNbextensionsApp]\u001b[m Up to date: /root/.local/share/jupyter/nbextensions/comment-uncomment/readme.md\n",
            "\u001b[32m[I 03:05:06 InstallContribNbextensionsApp]\u001b[m - Validating: \u001b[32mOK\u001b[0m\n",
            "\u001b[32m[I 03:05:06 InstallContribNbextensionsApp]\u001b[m Installing /usr/local/lib/python3.6/dist-packages/jupyter_contrib_nbextensions/nbextensions/snippets_menu -> snippets_menu\n",
            "\u001b[32m[I 03:05:06 InstallContribNbextensionsApp]\u001b[m Up to date: /root/.local/share/jupyter/nbextensions/snippets_menu/main.js\n",
            "\u001b[32m[I 03:05:06 InstallContribNbextensionsApp]\u001b[m Up to date: /root/.local/share/jupyter/nbextensions/snippets_menu/screenshot1.png\n",
            "\u001b[32m[I 03:05:06 InstallContribNbextensionsApp]\u001b[m Up to date: /root/.local/share/jupyter/nbextensions/snippets_menu/thumbnail.png\n",
            "\u001b[32m[I 03:05:06 InstallContribNbextensionsApp]\u001b[m Up to date: /root/.local/share/jupyter/nbextensions/snippets_menu/readme.md\n",
            "\u001b[32m[I 03:05:06 InstallContribNbextensionsApp]\u001b[m Up to date: /root/.local/share/jupyter/nbextensions/snippets_menu/config.yaml\n",
            "\u001b[32m[I 03:05:06 InstallContribNbextensionsApp]\u001b[m Up to date: /root/.local/share/jupyter/nbextensions/snippets_menu/snippets_submenu_python.js\n",
            "\u001b[32m[I 03:05:06 InstallContribNbextensionsApp]\u001b[m Up to date: /root/.local/share/jupyter/nbextensions/snippets_menu/snippets_submenu_markdown.js\n",
            "\u001b[32m[I 03:05:06 InstallContribNbextensionsApp]\u001b[m Up to date: /root/.local/share/jupyter/nbextensions/snippets_menu/snippets_menu.css\n",
            "\u001b[32m[I 03:05:06 InstallContribNbextensionsApp]\u001b[m Up to date: /root/.local/share/jupyter/nbextensions/snippets_menu/screenshot3.png\n",
            "\u001b[32m[I 03:05:06 InstallContribNbextensionsApp]\u001b[m Up to date: /root/.local/share/jupyter/nbextensions/snippets_menu/screenshot2.png\n",
            "\u001b[32m[I 03:05:06 InstallContribNbextensionsApp]\u001b[m Up to date: /root/.local/share/jupyter/nbextensions/snippets_menu/examples_for_custom.js\n",
            "\u001b[32m[I 03:05:06 InstallContribNbextensionsApp]\u001b[m Up to date: /root/.local/share/jupyter/nbextensions/snippets_menu/snippets_submenus_python/pandas.js\n",
            "\u001b[32m[I 03:05:06 InstallContribNbextensionsApp]\u001b[m Up to date: /root/.local/share/jupyter/nbextensions/snippets_menu/snippets_submenus_python/astropy.js\n",
            "\u001b[32m[I 03:05:06 InstallContribNbextensionsApp]\u001b[m Up to date: /root/.local/share/jupyter/nbextensions/snippets_menu/snippets_submenus_python/numba.js\n",
            "\u001b[32m[I 03:05:06 InstallContribNbextensionsApp]\u001b[m Up to date: /root/.local/share/jupyter/nbextensions/snippets_menu/snippets_submenus_python/numpy_ufuncs.js\n",
            "\u001b[32m[I 03:05:06 InstallContribNbextensionsApp]\u001b[m Up to date: /root/.local/share/jupyter/nbextensions/snippets_menu/snippets_submenus_python/python.js\n",
            "\u001b[32m[I 03:05:06 InstallContribNbextensionsApp]\u001b[m Up to date: /root/.local/share/jupyter/nbextensions/snippets_menu/snippets_submenus_python/h5py.js\n",
            "\u001b[32m[I 03:05:06 InstallContribNbextensionsApp]\u001b[m Up to date: /root/.local/share/jupyter/nbextensions/snippets_menu/snippets_submenus_python/sympy_assumptions.js\n",
            "\u001b[32m[I 03:05:06 InstallContribNbextensionsApp]\u001b[m Up to date: /root/.local/share/jupyter/nbextensions/snippets_menu/snippets_submenus_python/scipy_special.js\n",
            "\u001b[32m[I 03:05:06 InstallContribNbextensionsApp]\u001b[m Up to date: /root/.local/share/jupyter/nbextensions/snippets_menu/snippets_submenus_python/python_regex.js\n",
            "\u001b[32m[I 03:05:06 InstallContribNbextensionsApp]\u001b[m Up to date: /root/.local/share/jupyter/nbextensions/snippets_menu/snippets_submenus_python/sympy_functions.js\n",
            "\u001b[32m[I 03:05:06 InstallContribNbextensionsApp]\u001b[m Up to date: /root/.local/share/jupyter/nbextensions/snippets_menu/snippets_submenus_python/matplotlib.js\n",
            "\u001b[32m[I 03:05:06 InstallContribNbextensionsApp]\u001b[m Up to date: /root/.local/share/jupyter/nbextensions/snippets_menu/snippets_submenus_python/scipy.js\n",
            "\u001b[32m[I 03:05:06 InstallContribNbextensionsApp]\u001b[m Up to date: /root/.local/share/jupyter/nbextensions/snippets_menu/snippets_submenus_python/numpy_polynomial.js\n",
            "\u001b[32m[I 03:05:06 InstallContribNbextensionsApp]\u001b[m Up to date: /root/.local/share/jupyter/nbextensions/snippets_menu/snippets_submenus_python/sympy.js\n",
            "\u001b[32m[I 03:05:06 InstallContribNbextensionsApp]\u001b[m Up to date: /root/.local/share/jupyter/nbextensions/snippets_menu/snippets_submenus_python/numpy.js\n",
            "\u001b[32m[I 03:05:06 InstallContribNbextensionsApp]\u001b[m Up to date: /root/.local/share/jupyter/nbextensions/snippets_menu/snippets_submenus_python/scipy_constants.js\n",
            "\u001b[32m[I 03:05:06 InstallContribNbextensionsApp]\u001b[m - Validating: \u001b[32mOK\u001b[0m\n",
            "\u001b[32m[I 03:05:06 InstallContribNbextensionsApp]\u001b[m Installing /usr/local/lib/python3.6/dist-packages/jupyter_contrib_nbextensions/nbextensions/limit_output -> limit_output\n",
            "\u001b[32m[I 03:05:06 InstallContribNbextensionsApp]\u001b[m Up to date: /root/.local/share/jupyter/nbextensions/limit_output/icon.png\n",
            "\u001b[32m[I 03:05:06 InstallContribNbextensionsApp]\u001b[m Up to date: /root/.local/share/jupyter/nbextensions/limit_output/main.js\n",
            "\u001b[32m[I 03:05:06 InstallContribNbextensionsApp]\u001b[m Up to date: /root/.local/share/jupyter/nbextensions/limit_output/limit-output.yaml\n",
            "\u001b[32m[I 03:05:06 InstallContribNbextensionsApp]\u001b[m Up to date: /root/.local/share/jupyter/nbextensions/limit_output/readme.md\n",
            "\u001b[32m[I 03:05:06 InstallContribNbextensionsApp]\u001b[m - Validating: \u001b[32mOK\u001b[0m\n",
            "\u001b[32m[I 03:05:06 InstallContribNbextensionsApp]\u001b[m Installing /usr/local/lib/python3.6/dist-packages/jupyter_contrib_nbextensions/nbextensions/spellchecker -> spellchecker\n",
            "\u001b[32m[I 03:05:06 InstallContribNbextensionsApp]\u001b[m Up to date: /root/.local/share/jupyter/nbextensions/spellchecker/README.md\n",
            "\u001b[32m[I 03:05:06 InstallContribNbextensionsApp]\u001b[m Up to date: /root/.local/share/jupyter/nbextensions/spellchecker/main.js\n",
            "\u001b[32m[I 03:05:06 InstallContribNbextensionsApp]\u001b[m Up to date: /root/.local/share/jupyter/nbextensions/spellchecker/config.yaml\n",
            "\u001b[32m[I 03:05:06 InstallContribNbextensionsApp]\u001b[m Up to date: /root/.local/share/jupyter/nbextensions/spellchecker/download_new_dict.py\n",
            "\u001b[32m[I 03:05:06 InstallContribNbextensionsApp]\u001b[m Up to date: /root/.local/share/jupyter/nbextensions/spellchecker/screenshot.png\n",
            "\u001b[32m[I 03:05:06 InstallContribNbextensionsApp]\u001b[m Up to date: /root/.local/share/jupyter/nbextensions/spellchecker/main.css\n",
            "\u001b[32m[I 03:05:06 InstallContribNbextensionsApp]\u001b[m Up to date: /root/.local/share/jupyter/nbextensions/spellchecker/typo/LICENSE.txt\n",
            "\u001b[32m[I 03:05:06 InstallContribNbextensionsApp]\u001b[m Up to date: /root/.local/share/jupyter/nbextensions/spellchecker/typo/typo.js\n",
            "\u001b[32m[I 03:05:06 InstallContribNbextensionsApp]\u001b[m Up to date: /root/.local/share/jupyter/nbextensions/spellchecker/__pycache__/download_new_dict.cpython-36.pyc\n",
            "\u001b[32m[I 03:05:06 InstallContribNbextensionsApp]\u001b[m - Validating: \u001b[32mOK\u001b[0m\n",
            "\u001b[32m[I 03:05:06 InstallContribNbextensionsApp]\u001b[m Installing /usr/local/lib/python3.6/dist-packages/jupyter_contrib_nbextensions/nbextensions/qtconsole -> qtconsole\n",
            "\u001b[32m[I 03:05:06 InstallContribNbextensionsApp]\u001b[m Up to date: /root/.local/share/jupyter/nbextensions/qtconsole/README.md\n",
            "\u001b[32m[I 03:05:06 InstallContribNbextensionsApp]\u001b[m Up to date: /root/.local/share/jupyter/nbextensions/qtconsole/qtconsole.js\n",
            "\u001b[32m[I 03:05:06 InstallContribNbextensionsApp]\u001b[m Up to date: /root/.local/share/jupyter/nbextensions/qtconsole/qtconsole.yaml\n",
            "\u001b[32m[I 03:05:06 InstallContribNbextensionsApp]\u001b[m - Validating: \u001b[32mOK\u001b[0m\n",
            "\u001b[32m[I 03:05:06 InstallContribNbextensionsApp]\u001b[m Installing /usr/local/lib/python3.6/dist-packages/jupyter_highlight_selected_word/static/highlight_selected_word -> highlight_selected_word\n",
            "\u001b[32m[I 03:05:06 InstallContribNbextensionsApp]\u001b[m Up to date: /root/.local/share/jupyter/nbextensions/highlight_selected_word/README.md\n",
            "\u001b[32m[I 03:05:06 InstallContribNbextensionsApp]\u001b[m Up to date: /root/.local/share/jupyter/nbextensions/highlight_selected_word/main.js\n",
            "\u001b[32m[I 03:05:06 InstallContribNbextensionsApp]\u001b[m Up to date: /root/.local/share/jupyter/nbextensions/highlight_selected_word/configurator.yaml\n",
            "\u001b[32m[I 03:05:06 InstallContribNbextensionsApp]\u001b[m - Validating: \u001b[32mOK\u001b[0m\n",
            "\u001b[32m[I 03:05:06 InstallContribNbextensionsApp]\u001b[m Installing /usr/local/lib/python3.6/dist-packages/latex_envs/static -> latex_envs\n",
            "\u001b[32m[I 03:05:06 InstallContribNbextensionsApp]\u001b[m Up to date: /root/.local/share/jupyter/nbextensions/latex_envs/README.md\n",
            "\u001b[32m[I 03:05:06 InstallContribNbextensionsApp]\u001b[m Up to date: /root/.local/share/jupyter/nbextensions/latex_envs/icon.png\n",
            "\u001b[32m[I 03:05:06 InstallContribNbextensionsApp]\u001b[m Up to date: /root/.local/share/jupyter/nbextensions/latex_envs/example_user_envs.json\n",
            "\u001b[32m[I 03:05:06 InstallContribNbextensionsApp]\u001b[m Up to date: /root/.local/share/jupyter/nbextensions/latex_envs/thmsInNb4.js\n",
            "\u001b[32m[I 03:05:06 InstallContribNbextensionsApp]\u001b[m Up to date: /root/.local/share/jupyter/nbextensions/latex_envs/bibtex2.js\n",
            "\u001b[32m[I 03:05:06 InstallContribNbextensionsApp]\u001b[m Up to date: /root/.local/share/jupyter/nbextensions/latex_envs/envsLatex.js\n",
            "\u001b[32m[I 03:05:06 InstallContribNbextensionsApp]\u001b[m Up to date: /root/.local/share/jupyter/nbextensions/latex_envs/configuration_toolbar.png\n",
            "\u001b[32m[I 03:05:06 InstallContribNbextensionsApp]\u001b[m Up to date: /root/.local/share/jupyter/nbextensions/latex_envs/bibInNb4.js\n",
            "\u001b[32m[I 03:05:06 InstallContribNbextensionsApp]\u001b[m Up to date: /root/.local/share/jupyter/nbextensions/latex_envs/latex_envs.css\n",
            "\u001b[32m[I 03:05:06 InstallContribNbextensionsApp]\u001b[m Up to date: /root/.local/share/jupyter/nbextensions/latex_envs/latex_envs.yaml\n",
            "\u001b[32m[I 03:05:06 InstallContribNbextensionsApp]\u001b[m Up to date: /root/.local/share/jupyter/nbextensions/latex_envs/envsLatex.json\n",
            "\u001b[32m[I 03:05:06 InstallContribNbextensionsApp]\u001b[m Up to date: /root/.local/share/jupyter/nbextensions/latex_envs/initNb.js\n",
            "\u001b[32m[I 03:05:06 InstallContribNbextensionsApp]\u001b[m Up to date: /root/.local/share/jupyter/nbextensions/latex_envs/latex_envs.js\n",
            "\u001b[32m[I 03:05:06 InstallContribNbextensionsApp]\u001b[m Up to date: /root/.local/share/jupyter/nbextensions/latex_envs/example.png\n",
            "\u001b[32m[I 03:05:06 InstallContribNbextensionsApp]\u001b[m Up to date: /root/.local/share/jupyter/nbextensions/latex_envs/main_toolbar.png\n",
            "\u001b[32m[I 03:05:06 InstallContribNbextensionsApp]\u001b[m Up to date: /root/.local/share/jupyter/nbextensions/latex_envs/doc/README.md\n",
            "\u001b[32m[I 03:05:06 InstallContribNbextensionsApp]\u001b[m Up to date: /root/.local/share/jupyter/nbextensions/latex_envs/doc/latex_env_doc.ipynb\n",
            "\u001b[32m[I 03:05:06 InstallContribNbextensionsApp]\u001b[m Up to date: /root/.local/share/jupyter/nbextensions/latex_envs/doc/documentation.pdf\n",
            "\u001b[32m[I 03:05:06 InstallContribNbextensionsApp]\u001b[m Up to date: /root/.local/share/jupyter/nbextensions/latex_envs/doc/latex_env_doc.tex\n",
            "\u001b[32m[I 03:05:06 InstallContribNbextensionsApp]\u001b[m Up to date: /root/.local/share/jupyter/nbextensions/latex_envs/doc/configuration_toolbar.png\n",
            "\u001b[32m[I 03:05:06 InstallContribNbextensionsApp]\u001b[m Up to date: /root/.local/share/jupyter/nbextensions/latex_envs/doc/header.tex\n",
            "\u001b[32m[I 03:05:06 InstallContribNbextensionsApp]\u001b[m Up to date: /root/.local/share/jupyter/nbextensions/latex_envs/doc/Toggles.png\n",
            "\u001b[32m[I 03:05:06 InstallContribNbextensionsApp]\u001b[m Up to date: /root/.local/share/jupyter/nbextensions/latex_envs/doc/documentation.tex\n",
            "\u001b[32m[I 03:05:06 InstallContribNbextensionsApp]\u001b[m Up to date: /root/.local/share/jupyter/nbextensions/latex_envs/doc/biblio_ipython.bib\n",
            "\u001b[32m[I 03:05:06 InstallContribNbextensionsApp]\u001b[m Up to date: /root/.local/share/jupyter/nbextensions/latex_envs/doc/LaTeX_envs_menu.png\n",
            "\u001b[32m[I 03:05:06 InstallContribNbextensionsApp]\u001b[m Up to date: /root/.local/share/jupyter/nbextensions/latex_envs/doc/config_toolbar.png\n",
            "\u001b[32m[I 03:05:06 InstallContribNbextensionsApp]\u001b[m Up to date: /root/.local/share/jupyter/nbextensions/latex_envs/doc/example.png\n",
            "\u001b[32m[I 03:05:06 InstallContribNbextensionsApp]\u001b[m Up to date: /root/.local/share/jupyter/nbextensions/latex_envs/doc/main_toolbar.png\n",
            "\u001b[32m[I 03:05:06 InstallContribNbextensionsApp]\u001b[m Up to date: /root/.local/share/jupyter/nbextensions/latex_envs/doc/latex_env_doc.html\n",
            "\u001b[32m[I 03:05:06 InstallContribNbextensionsApp]\u001b[m Up to date: /root/.local/share/jupyter/nbextensions/latex_envs/doc/IEEEtran.bst\n",
            "\u001b[32m[I 03:05:06 InstallContribNbextensionsApp]\u001b[m Up to date: /root/.local/share/jupyter/nbextensions/latex_envs/doc/.ipynb_checkpoints/latex_env_doc-checkpoint.ipynb\n",
            "\u001b[32m[I 03:05:06 InstallContribNbextensionsApp]\u001b[m Up to date: /root/.local/share/jupyter/nbextensions/latex_envs/doc/latex_env_doc_files/latex_env_doc_48_0.png\n",
            "\u001b[32m[I 03:05:06 InstallContribNbextensionsApp]\u001b[m Up to date: /root/.local/share/jupyter/nbextensions/latex_envs/doc/latex_env_doc_files/latex_env_doc_49_0.png\n",
            "\u001b[32m[I 03:05:06 InstallContribNbextensionsApp]\u001b[m Up to date: /root/.local/share/jupyter/nbextensions/latex_envs/doc/latex_env_doc_files/latex_env_doc_45_0.png\n",
            "\u001b[32m[I 03:05:06 InstallContribNbextensionsApp]\u001b[m Up to date: /root/.local/share/jupyter/nbextensions/latex_envs/doc/latex_env_doc_files/latex_env_doc_47_0.png\n",
            "\u001b[32m[I 03:05:06 InstallContribNbextensionsApp]\u001b[m Up to date: /root/.local/share/jupyter/nbextensions/latex_envs/doc/latex_env_doc_files/latex_env_doc_41_0.png\n",
            "\u001b[32m[I 03:05:06 InstallContribNbextensionsApp]\u001b[m Up to date: /root/.local/share/jupyter/nbextensions/latex_envs/doc/latex_env_doc_files/latex_env_doc_42_0.png\n",
            "\u001b[32m[I 03:05:06 InstallContribNbextensionsApp]\u001b[m Up to date: /root/.local/share/jupyter/nbextensions/latex_envs/doc/latex_env_doc_files/latex_env_doc_26_2.png\n",
            "\u001b[32m[I 03:05:06 InstallContribNbextensionsApp]\u001b[m Up to date: /root/.local/share/jupyter/nbextensions/latex_envs/doc/latex_env_doc_files/latex_env_doc_23_2.png\n",
            "\u001b[32m[I 03:05:06 InstallContribNbextensionsApp]\u001b[m Up to date: /root/.local/share/jupyter/nbextensions/latex_envs/doc/latex_env_doc_files/latex_env_doc_50_0.png\n",
            "\u001b[32m[I 03:05:06 InstallContribNbextensionsApp]\u001b[m Up to date: /root/.local/share/jupyter/nbextensions/latex_envs/doc/latex_env_doc_files/latex_env_doc_46_0.png\n",
            "\u001b[32m[I 03:05:06 InstallContribNbextensionsApp]\u001b[m Up to date: /root/.local/share/jupyter/nbextensions/latex_envs/doc/latex_env_doc_files/latex_env_doc_27_2.png\n",
            "\u001b[32m[I 03:05:06 InstallContribNbextensionsApp]\u001b[m Up to date: /root/.local/share/jupyter/nbextensions/latex_envs/doc/latex_env_doc_files/latex_env_doc_43_0.png\n",
            "\u001b[32m[I 03:05:06 InstallContribNbextensionsApp]\u001b[m Up to date: /root/.local/share/jupyter/nbextensions/latex_envs/doc/latex_env_doc_files/latex_env_doc_52_0.png\n",
            "\u001b[32m[I 03:05:06 InstallContribNbextensionsApp]\u001b[m Up to date: /root/.local/share/jupyter/nbextensions/latex_envs/doc/latex_env_doc_files/latex_env_doc_24_2.png\n",
            "\u001b[32m[I 03:05:06 InstallContribNbextensionsApp]\u001b[m Up to date: /root/.local/share/jupyter/nbextensions/latex_envs/doc/latex_env_doc_files/latex_env_doc_44_0.png\n",
            "\u001b[32m[I 03:05:06 InstallContribNbextensionsApp]\u001b[m Up to date: /root/.local/share/jupyter/nbextensions/latex_envs/doc/latex_env_doc_files/latex_env_doc_51_0.png\n",
            "\u001b[32m[I 03:05:06 InstallContribNbextensionsApp]\u001b[m - Validating: \u001b[32mOK\u001b[0m\n",
            "\u001b[32m[I 03:05:06 InstallContribNbextensionsApp]\u001b[m Installing jupyter_contrib_nbextensions items to config in /root/.jupyter\n",
            "Enabling: jupyter_nbextensions_configurator\n",
            "- Writing config: /root/.jupyter\n",
            "    - Validating...\n",
            "      jupyter_nbextensions_configurator  \u001b[32mOK\u001b[0m\n",
            "Enabling notebook nbextension nbextensions_configurator/config_menu/main...\n",
            "Enabling tree nbextension nbextensions_configurator/tree_tab/main...\n",
            "\u001b[32m[I 03:05:06 InstallContribNbextensionsApp]\u001b[m Enabling notebook extension contrib_nbextensions_help_item/main...\n",
            "\u001b[32m[I 03:05:06 InstallContribNbextensionsApp]\u001b[m       - Validating: \u001b[32mOK\u001b[0m\n",
            "\u001b[32m[I 03:05:06 InstallContribNbextensionsApp]\u001b[m - Editing config: /root/.jupyter/jupyter_nbconvert_config.json\n",
            "\u001b[32m[I 03:05:06 InstallContribNbextensionsApp]\u001b[m --  Configuring nbconvert template path\n",
            "\u001b[32m[I 03:05:06 InstallContribNbextensionsApp]\u001b[m --  Configuring nbconvert preprocessors\n",
            "\u001b[32m[I 03:05:06 InstallContribNbextensionsApp]\u001b[m - Writing config: /root/.jupyter/jupyter_nbconvert_config.json\n",
            "\u001b[32m[I 03:05:06 InstallContribNbextensionsApp]\u001b[m --  Writing updated config file /root/.jupyter/jupyter_nbconvert_config.json\n"
          ],
          "name": "stdout"
        }
      ]
    },
    {
      "cell_type": "code",
      "metadata": {
        "id": "JBT1572vD5L9",
        "colab_type": "code",
        "colab": {}
      },
      "source": [
        "%config IPCompleter.greedy=True"
      ],
      "execution_count": 0,
      "outputs": []
    },
    {
      "cell_type": "code",
      "metadata": {
        "id": "64i4MNkP6boI",
        "colab_type": "code",
        "colab": {}
      },
      "source": [
        "import os \n",
        "import numpy as np\n",
        "import pandas as pd\n",
        "\n",
        "\n",
        "import torch\n",
        "import torchvision\n",
        "from torchvision import datasets, models, transforms\n",
        "\n",
        "import torch.nn as nn\n",
        "from torch.utils.data import DataLoader\n",
        "from torch.utils.data.sampler import SubsetRandomSampler\n",
        "import torch.nn.functional as F\n",
        "\n",
        "import matplotlib.pyplot as plt\n",
        "\n",
        "\n",
        "%matplotlib inline"
      ],
      "execution_count": 0,
      "outputs": []
    },
    {
      "cell_type": "code",
      "metadata": {
        "id": "4Bg4JqSGMMUX",
        "colab_type": "code",
        "outputId": "501a59f1-0cf2-4d22-f45e-3459d79c28be",
        "colab": {
          "base_uri": "https://localhost:8080/",
          "height": 34
        }
      },
      "source": [
        "print(os.listdir(\"/content/gdrive/My Drive/Udacity_AI_Codes/DLND_Works/data/cell_images/cell_images/\"))"
      ],
      "execution_count": 6,
      "outputs": [
        {
          "output_type": "stream",
          "text": [
            "['Uninfected', 'Parasitized', '.DS_Store']\n"
          ],
          "name": "stdout"
        }
      ]
    },
    {
      "cell_type": "code",
      "metadata": {
        "id": "CPp8RBhb6bh3",
        "colab_type": "code",
        "outputId": "1f0a1c4b-7ac6-4afd-c749-5c842e123bf5",
        "colab": {
          "base_uri": "https://localhost:8080/",
          "height": 34
        }
      },
      "source": [
        "# check if CUDA is available\n",
        "train_on_gpu = torch.cuda.is_available()\n",
        "\n",
        "if not train_on_gpu:\n",
        "    print('CUDA is not available.  Training on CPU ...')\n",
        "else:\n",
        "    print('CUDA is available!  Training on GPU ...') "
      ],
      "execution_count": 7,
      "outputs": [
        {
          "output_type": "stream",
          "text": [
            "CUDA is available!  Training on GPU ...\n"
          ],
          "name": "stdout"
        }
      ]
    },
    {
      "cell_type": "markdown",
      "metadata": {
        "id": "jMDK79DbRVc3",
        "colab_type": "text"
      },
      "source": [
        "## Loading the Data"
      ]
    },
    {
      "cell_type": "code",
      "metadata": {
        "id": "q9sbQHxMRZNn",
        "colab_type": "code",
        "colab": {}
      },
      "source": [
        "# define training and test data directories\n",
        "data_dir = os.path.join(\"/content/gdrive/My Drive/Udacity_AI_Codes/DLND_Works/data/cell_images/cell_images/\")\n",
        "\n",
        "# classes are folders in each directory with these names\n",
        "classes = ['Uninfected', 'Parasitized']"
      ],
      "execution_count": 0,
      "outputs": []
    },
    {
      "cell_type": "markdown",
      "metadata": {
        "id": "355yuhnWIZ1H",
        "colab_type": "text"
      },
      "source": [
        "## Transforming the Data\n",
        "\n",
        "Since I am training this dataset with a pre-trained model, I will have to shape the input data into the shape the pre-trained model expects.\n",
        "\n",
        "VGG16 expects 224-dim square images as input, so I'll resize each cell image to into this mold/shape.\n",
        "\n",
        "### Data Augmentation\n",
        "\n",
        "\n",
        "1.   Resized all images as input to 224 as expected by VGGNet\n",
        "2.   Apply different transformation by rotating the images horizontally and vertically\n",
        "3.   Convert images into PyTorch Tensors\n",
        "\n",
        "\n",
        "\n",
        "\n"
      ]
    },
    {
      "cell_type": "code",
      "metadata": {
        "id": "2-pDzHz26bem",
        "colab_type": "code",
        "colab": {}
      },
      "source": [
        "# load and transform data using ImageFolder\n",
        "\n",
        "# VGG-16 Takes 224x224 images as input, so we resize all of them\n",
        "data_transform = {\"train_transforms\": transforms.Compose([transforms.RandomResizedCrop(224),\n",
        "                                     transforms.ColorJitter(0.05),\n",
        "                                     transforms.RandomHorizontalFlip(),\n",
        "                                     transforms.RandomVerticalFlip(),\n",
        "                                     transforms.RandomRotation(20),\n",
        "                                      transforms.ToTensor()]),\n",
        "                  \"valid_transforms\": transforms.Compose([transforms.Resize(224),\n",
        "                                                         transforms.CenterCrop(224),\n",
        "                                                         transforms.ToTensor()]),\n",
        "                  \"test_transforms\": transforms.Compose([transforms.Resize(224),\n",
        "                                           transforms.CenterCrop(224),\n",
        "                                           transforms.ToTensor()])}"
      ],
      "execution_count": 0,
      "outputs": []
    },
    {
      "cell_type": "markdown",
      "metadata": {
        "id": "pz2vqY3y8IBR",
        "colab_type": "text"
      },
      "source": [
        "## Split the dataset"
      ]
    },
    {
      "cell_type": "code",
      "metadata": {
        "id": "XFmzTsNb8Htt",
        "colab_type": "code",
        "colab": {}
      },
      "source": [
        "train_data = 0.8\n",
        "valid_data = 0.1\n",
        "test_data = 0.1\n",
        "\n",
        "#Load the datasets with ImageFolder\n",
        "train_data = datasets.ImageFolder(data_dir, transform=data_transform['train_transforms'])\n",
        "valid_data = datasets.ImageFolder(data_dir, transform=data_transform['valid_transforms'])\n",
        "test_data = datasets.ImageFolder(data_dir, transform=data_transform['test_transforms'])\n"
      ],
      "execution_count": 0,
      "outputs": []
    },
    {
      "cell_type": "markdown",
      "metadata": {
        "id": "YS2XYKxX-TGG",
        "colab_type": "text"
      },
      "source": [
        "### Obtain the training indices to be used for validation and testing"
      ]
    },
    {
      "cell_type": "code",
      "metadata": {
        "id": "c4o4WUeDA07b",
        "colab_type": "code",
        "colab": {
          "base_uri": "https://localhost:8080/",
          "height": 85
        },
        "outputId": "3edc5609-55cf-4fcb-a161-fdc3c98bb55a"
      },
      "source": [
        "num_train = len(train_data)\n",
        "indices = list(range(num_train))\n",
        "\n",
        "train_count = int(0.8*num_train)\n",
        "valid_count = int(0.1*num_train)\n",
        "test_count = num_train - train_count - valid_count\n",
        "train_idx = indices[:train_count]\n",
        "valid_idx = indices[:train_count:train_count+valid_count]\n",
        "test_idx= indices[train_count+valid_count:]\n",
        "\n",
        "\n",
        "print(len(train_idx), len(valid_idx), len(test_idx))\n",
        "print(\"Training\", train_count, np.sum(len(train_idx)/num_train))\n",
        "print(\"Validation\", valid_count, np.sum(len(valid_idx)/num_train))\n",
        "print(\"Test\", test_count, np.sum(len(test_idx)/num_train))"
      ],
      "execution_count": 11,
      "outputs": [
        {
          "output_type": "stream",
          "text": [
            "22052 1 2757\n",
            "Training 22052 0.8\n",
            "Validation 2756 3.6277888626881916e-05\n",
            "Test 2757 0.10001813894431344\n"
          ],
          "name": "stdout"
        }
      ]
    },
    {
      "cell_type": "code",
      "metadata": {
        "id": "m7MZ7QqnG0Gr",
        "colab_type": "code",
        "colab": {}
      },
      "source": [
        " #Define a custom sampler for the dataset loader avoiding recreating the dataset (just creating a new loader for each different sampling)\n",
        "train_sampler = SubsetRandomSampler(train_idx)\n",
        "valid_sampler = SubsetRandomSampler(valid_idx)\n",
        "test_sampler = SubsetRandomSampler(test_idx)"
      ],
      "execution_count": 0,
      "outputs": []
    },
    {
      "cell_type": "markdown",
      "metadata": {
        "id": "fQXe85t8LCzE",
        "colab_type": "text"
      },
      "source": [
        "## **DataLoaders**"
      ]
    },
    {
      "cell_type": "code",
      "metadata": {
        "id": "j-rqk1pJ6bal",
        "colab_type": "code",
        "colab": {}
      },
      "source": [
        "# Define dataloaders parameters\n",
        "# Define the dataloaders using the image datasets\n",
        "trainloader = torch.utils.data.DataLoader(train_data, batch_size = 100, shuffle = True)\n",
        "validloader = torch.utils.data.DataLoader(valid_data, batch_size = 50, sampler = valid_sampler)\n",
        "testloader = torch.utils.data.DataLoader(test_data, batch_size = 50, sampler = test_sampler)"
      ],
      "execution_count": 0,
      "outputs": []
    },
    {
      "cell_type": "markdown",
      "metadata": {
        "id": "LeIAeVj9So8i",
        "colab_type": "text"
      },
      "source": [
        "## **Data Visualization**\n",
        "\n"
      ]
    },
    {
      "cell_type": "code",
      "metadata": {
        "id": "uqTU_dG96bX_",
        "colab_type": "code",
        "colab": {
          "base_uri": "https://localhost:8080/",
          "height": 288
        },
        "outputId": "d32f46c2-79de-4d76-a393-797cbfa420ca"
      },
      "source": [
        "# obtain one batch of training images\n",
        "dataiter = iter(trainloader)\n",
        "images, labels = dataiter.next()\n",
        "images = images.numpy() # convert images to numpy for display\n",
        "\n",
        "# plot the images in the batch, along with the corresponding labels\n",
        "fig = plt.figure(figsize=(25, 4))\n",
        "for idx in np.arange(20):\n",
        "    ax = fig.add_subplot(4, 20/4, idx+1, xticks=[], yticks=[])\n",
        "    plt.imshow(np.transpose(images[idx], (1, 2, 0)))\n",
        "    ax.set_title(classes[labels[idx]])"
      ],
      "execution_count": 14,
      "outputs": [
        {
          "output_type": "display_data",
          "data": {
            "image/png": "[encoded data removed]",
            "text/plain": [
              "<Figure size 1800x288 with 20 Axes>"
            ]
          },
          "metadata": {
            "tags": []
          }
        }
      ]
    },
    {
      "cell_type": "markdown",
      "metadata": {
        "id": "qIkpBQS4Hlcl",
        "colab_type": "text"
      },
      "source": [
        "## Specify Model Architecture\n",
        "\n",
        "Load the pre-trained model. This time, the VGGNet\n",
        "\n",
        "To define a model for training I'll follow these steps:\n",
        "1. Load in a pre-trained VGG16 model\n",
        "2. \"Freeze\" all the parameters, so the net acts as a fixed feature extractor \n",
        "3. Remove the last layer\n",
        "4. Replace the last layer with a linear classifier of our own\n",
        "\n",
        "**Freezing simply means that the parameters in the pre-trained model will *not* change during training.**"
      ]
    },
    {
      "cell_type": "code",
      "metadata": {
        "id": "pkr7X1bR6bT8",
        "colab_type": "code",
        "colab": {
          "base_uri": "https://localhost:8080/",
          "height": 802
        },
        "outputId": "994f8496-b196-4057-e13e-85cbbb3ff54e"
      },
      "source": [
        "# Loading the pretrained model from pytorch\n",
        "#dir(torchvision.models)\n",
        "vgg16 = models.vgg16(pretrained=True)\n",
        "\n",
        "#print out the model structure\n",
        "print(vgg16)"
      ],
      "execution_count": 15,
      "outputs": [
        {
          "output_type": "stream",
          "text": [
            "VGG(\n",
            "  (features): Sequential(\n",
            "    (0): Conv2d(3, 64, kernel_size=(3, 3), stride=(1, 1), padding=(1, 1))\n",
            "    (1): ReLU(inplace=True)\n",
            "    (2): Conv2d(64, 64, kernel_size=(3, 3), stride=(1, 1), padding=(1, 1))\n",
            "    (3): ReLU(inplace=True)\n",
            "    (4): MaxPool2d(kernel_size=2, stride=2, padding=0, dilation=1, ceil_mode=False)\n",
            "    (5): Conv2d(64, 128, kernel_size=(3, 3), stride=(1, 1), padding=(1, 1))\n",
            "    (6): ReLU(inplace=True)\n",
            "    (7): Conv2d(128, 128, kernel_size=(3, 3), stride=(1, 1), padding=(1, 1))\n",
            "    (8): ReLU(inplace=True)\n",
            "    (9): MaxPool2d(kernel_size=2, stride=2, padding=0, dilation=1, ceil_mode=False)\n",
            "    (10): Conv2d(128, 256, kernel_size=(3, 3), stride=(1, 1), padding=(1, 1))\n",
            "    (11): ReLU(inplace=True)\n",
            "    (12): Conv2d(256, 256, kernel_size=(3, 3), stride=(1, 1), padding=(1, 1))\n",
            "    (13): ReLU(inplace=True)\n",
            "    (14): Conv2d(256, 256, kernel_size=(3, 3), stride=(1, 1), padding=(1, 1))\n",
            "    (15): ReLU(inplace=True)\n",
            "    (16): MaxPool2d(kernel_size=2, stride=2, padding=0, dilation=1, ceil_mode=False)\n",
            "    (17): Conv2d(256, 512, kernel_size=(3, 3), stride=(1, 1), padding=(1, 1))\n",
            "    (18): ReLU(inplace=True)\n",
            "    (19): Conv2d(512, 512, kernel_size=(3, 3), stride=(1, 1), padding=(1, 1))\n",
            "    (20): ReLU(inplace=True)\n",
            "    (21): Conv2d(512, 512, kernel_size=(3, 3), stride=(1, 1), padding=(1, 1))\n",
            "    (22): ReLU(inplace=True)\n",
            "    (23): MaxPool2d(kernel_size=2, stride=2, padding=0, dilation=1, ceil_mode=False)\n",
            "    (24): Conv2d(512, 512, kernel_size=(3, 3), stride=(1, 1), padding=(1, 1))\n",
            "    (25): ReLU(inplace=True)\n",
            "    (26): Conv2d(512, 512, kernel_size=(3, 3), stride=(1, 1), padding=(1, 1))\n",
            "    (27): ReLU(inplace=True)\n",
            "    (28): Conv2d(512, 512, kernel_size=(3, 3), stride=(1, 1), padding=(1, 1))\n",
            "    (29): ReLU(inplace=True)\n",
            "    (30): MaxPool2d(kernel_size=2, stride=2, padding=0, dilation=1, ceil_mode=False)\n",
            "  )\n",
            "  (avgpool): AdaptiveAvgPool2d(output_size=(7, 7))\n",
            "  (classifier): Sequential(\n",
            "    (0): Linear(in_features=25088, out_features=4096, bias=True)\n",
            "    (1): ReLU(inplace=True)\n",
            "    (2): Dropout(p=0.5, inplace=False)\n",
            "    (3): Linear(in_features=4096, out_features=4096, bias=True)\n",
            "    (4): ReLU(inplace=True)\n",
            "    (5): Dropout(p=0.5, inplace=False)\n",
            "    (6): Linear(in_features=4096, out_features=1000, bias=True)\n",
            "  )\n",
            ")\n"
          ],
          "name": "stdout"
        }
      ]
    },
    {
      "cell_type": "markdown",
      "metadata": {
        "id": "pfoN-rWJKHgf",
        "colab_type": "text"
      },
      "source": [
        "## Freeze all the features layers "
      ]
    },
    {
      "cell_type": "code",
      "metadata": {
        "id": "Fxikrtzw6bSH",
        "colab_type": "code",
        "colab": {
          "base_uri": "https://localhost:8080/",
          "height": 51
        },
        "outputId": "629497c9-ef33-47dc-d6b2-06603a27c0cd"
      },
      "source": [
        "#You can access any layer in a pretrained network by name and (sometimes) number, \n",
        "#i.e. vgg16.classifier[6] is the sixth layer in a group of layers named \"classifier\"\n",
        "\n",
        "print(vgg16.classifier[6].in_features)\n",
        "print(vgg16.classifier[6].out_features)\n",
        "\n",
        "# Freeze training for all \"features\" layers\n",
        "for param in vgg16.features.parameters():\n",
        "    param.requires_grad = False"
      ],
      "execution_count": 16,
      "outputs": [
        {
          "output_type": "stream",
          "text": [
            "4096\n",
            "1000\n"
          ],
          "name": "stdout"
        }
      ]
    },
    {
      "cell_type": "markdown",
      "metadata": {
        "id": "9t94_YY-UDlZ",
        "colab_type": "text"
      },
      "source": [
        "## Final Classifier Layer\n",
        "\n",
        "Now that I have the pre-trained feature extractor, I just need to modify and add them to the final, fully-connected classifier layers.\n",
        "\n",
        "Here, I am going to replace the last layer in the vgg classifier group of layers.\n"
      ]
    },
    {
      "cell_type": "code",
      "metadata": {
        "id": "l7i0B9d_6bQs",
        "colab_type": "code",
        "colab": {
          "base_uri": "https://localhost:8080/",
          "height": 34
        },
        "outputId": "44b05e63-a38c-4a72-f790-bc232075de35"
      },
      "source": [
        "n_inputs = vgg16.classifier[6].in_features\n",
        "\n",
        "#add last linear layer (n_inputs -> 2 cell image classes)\n",
        "# new layers automatically have requires_grad = True\n",
        "last_layer = nn.Linear(n_inputs, len(classes))\n",
        "\n",
        "vgg16.classifier[6] = last_layer\n",
        "\n",
        "if train_on_gpu:\n",
        "    vgg16.cuda()\n",
        "    \n",
        "# check to see that your last layer produces the expected number of outputs\n",
        "print(vgg16.classifier[6].out_features)\n",
        "\n",
        "    "
      ],
      "execution_count": 17,
      "outputs": [
        {
          "output_type": "stream",
          "text": [
            "2\n"
          ],
          "name": "stdout"
        }
      ]
    },
    {
      "cell_type": "markdown",
      "metadata": {
        "id": "LBOfZcoqXa5p",
        "colab_type": "text"
      },
      "source": [
        "## Specify a Loss Function and Optimizer\n",
        "\n",
        "(http://pytorch.org/docs/stable/nn.html#loss-functions) and [Optimizer](http://pytorch.org/docs/stable/optim.html)\n",
        "\n",
        "I'll use cross-entropy loss and stochastic gradient descent with a small learning rate. The optimizer accepts as input _only_ the trainable parameters\n",
        "'vgg.classifier.parameters'\n"
      ]
    },
    {
      "cell_type": "code",
      "metadata": {
        "id": "4lN-DoDd6bO4",
        "colab_type": "code",
        "colab": {}
      },
      "source": [
        "import torch.optim as optim\n",
        "\n",
        "#specify loss function (categorical cross-entropy)\n",
        "criterion = nn.CrossEntropyLoss()\n",
        "\n",
        "#s specify optimizer (stochastic gradient descent) and learning rate\n",
        "optimizer = optim.SGD(vgg16.classifier.parameters(), lr=0.001)"
      ],
      "execution_count": 0,
      "outputs": []
    },
    {
      "cell_type": "markdown",
      "metadata": {
        "id": "p-HBGQ29ZayX",
        "colab_type": "text"
      },
      "source": [
        "## Train the model"
      ]
    },
    {
      "cell_type": "code",
      "metadata": {
        "id": "T5EYYtUo6bLU",
        "colab_type": "code",
        "colab": {}
      },
      "source": [
        "#number of training epochs for the model\n",
        "n_epochs = 5\n",
        "\n",
        "# Initialize tracker for minimum validation loss\n",
        "valid_loss_min = np.inf\n",
        "\n",
        "for epoch in range(1, n_epochs+1):\n",
        "    # keep track of traing and validation losses\n",
        "    train_loss = 0.0\n",
        "    valid_loss = 0.0\n",
        "    \n",
        "    #################\n",
        "    # train the model#\n",
        "    #################\n",
        "    #model by default is set to train\n",
        "    vgg16.train()\n",
        "    for batch_i, (data, target) in enumerate(trainloader):\n",
        "        #move tensors to GPU if CUDA is available\n",
        "        if train_on_gpu:\n",
        "            data, target = data.cuda(), target.cuda()\n",
        "            \n",
        "            \n",
        "        #clear the gradients of all variables\n",
        "        optimizer.zero_grad()\n",
        "        #forward pass: compute predicted outputs by passing inputs to the model\n",
        "        output = vgg16(data)\n",
        "        #calculate the batch loss\n",
        "        loss = criterion(output, target)\n",
        "        # backward pass: compute  gradient of the loss with respect to the model parameters\n",
        "        loss.backward()\n",
        "        #perform a single optimization step (parameter update)\n",
        "        optimizer.step()\n",
        "        # update training loss\n",
        "        train_loss += train_loss + ((1/ (batch_i + 1 ))*(loss.data-train_loss))\n",
        "        \n",
        "#         if batch_i % 20 == 19:\n",
        "#             #print training loss every specified number of mini-batches\n",
        "#             print(\"Epoch %d, Batch %d loss: %.16f\" % (epoch, batch_i + 1, train_loss/20))\n",
        "#             train_loss = 0.0\n",
        "            \n",
        "    #Model evaluation\n",
        "    vgg16.eval()\n",
        "    for batch_i, (data, target) in enumerate(validloader):\n",
        "        #Move to GPU\n",
        "        \n",
        "        if train_on_gpu:\n",
        "            data, target = data.cuda(), target.cuda()\n",
        "            # Update the average validation loss\n",
        "            #Forward pass: compute predicted outputs by passing inputs to the model\n",
        "            output = vgg16(data)\n",
        "            #Calculate the batch loss\n",
        "            loss = criterion(output, target)\n",
        "            #Update the average validation loss\n",
        "            valid_loss = valid_loss + ((1/ (batch_i+1)) * (loss.data - valid_loss))\n",
        "                \n",
        "                \n",
        "    # print training/validation progress\n",
        "    print('Epoch: {} \\tTraining Loss: {:.5f} \\tValidation Loss: {:.5f}'.format(\n",
        "        epoch, train_loss,valid_loss))\n",
        "                                                                           \n",
        "    #Save the model if validation loss has decreased\n",
        "    if valid_loss <= valid_loss_min:\n",
        "        print('Validation loss decreased ({:.5f} --> {:.5f}).Saving model ...'.format(\n",
        "            valid_loss_min, vlid_loss))\n",
        "        torch.save(vgg16.state_dict(), 'vgg16.pt')\n",
        "        valid_loss_min = valid_loss \n",
        "                \n",
        "#Define loaders transfer\n",
        "loaders_transfer = {'train': trainloader,\n",
        "                   'valid': validloader,\n",
        "                   'test': testloader}\n",
        "\n",
        "\n",
        "#Train the model\n",
        "vgg16 = train(10, loaders_transfer, vgg16, optimizer, criterion, train_on_gpu, 'vgg.pt')\n",
        "                  "
      ],
      "execution_count": 0,
      "outputs": []
    },
    {
      "cell_type": "code",
      "metadata": {
        "id": "btfyeiXeYVI6",
        "colab_type": "code",
        "colab": {}
      },
      "source": [
        "#Load the model with the best accuracy\n",
        "vgg16.load_state_dict(torch.load('vgg16.pt'))"
      ],
      "execution_count": 0,
      "outputs": []
    },
    {
      "cell_type": "markdown",
      "metadata": {
        "id": "j5mCxek-f6rI",
        "colab_type": "text"
      },
      "source": [
        "## Testing the Accuracy of the Model"
      ]
    },
    {
      "cell_type": "code",
      "metadata": {
        "id": "Mf7LGc486bJu",
        "colab_type": "code",
        "colab": {}
      },
      "source": [
        "#track test loss over 2 cell image classes"
      ],
      "execution_count": 0,
      "outputs": []
    },
    {
      "cell_type": "code",
      "metadata": {
        "id": "gOotThfI6bGY",
        "colab_type": "code",
        "colab": {}
      },
      "source": [
        "test_loss = 0.0\n",
        "class_correct = list(0. for i in range(2))\n",
        "class_total = list(0. for i in range(2))\n",
        "\n",
        "vgg16.eval() #eval mode\n",
        "\n",
        "#iterate over test data\n",
        "for batch_i, (data, target) in enumerate(loaders['test']):\n",
        "    \n",
        "    #move tensors to GPU if CUDA is available\n",
        "    if train_on_gpu:\n",
        "        data, target = data.cpu(), target.cuda()\n",
        "        \n",
        "    #forward pass: compute predicted outputs by passing inputs to the model\n",
        "    output = vgg16(data)\n",
        "    #calculate the batch loss\n",
        "    loss = criterion(output, target)\n",
        "    #update test loss\n",
        "    test_loss = test_loss + ((1 / (batch_i + 1)) * (loss.data - test_loss))\n",
        "    \n",
        "    \n",
        "    \n",
        "    "
      ],
      "execution_count": 0,
      "outputs": []
    },
    {
      "cell_type": "code",
      "metadata": {
        "id": "jGSsIROR6bDz",
        "colab_type": "code",
        "colab": {}
      },
      "source": [
        ""
      ],
      "execution_count": 0,
      "outputs": []
    },
    {
      "cell_type": "markdown",
      "metadata": {
        "id": "QWaO0TBF6atU",
        "colab_type": "text"
      },
      "source": [
        ""
      ]
    }
  ]
}