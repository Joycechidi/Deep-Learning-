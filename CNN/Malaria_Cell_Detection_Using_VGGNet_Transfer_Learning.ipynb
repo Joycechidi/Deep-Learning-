{
  "nbformat": 4,
  "nbformat_minor": 0,
  "metadata": {
    "colab": {
      "name": "Malaria_Cell_Detection_Using_VGGNet_Transfer_Learning.ipynb",
      "provenance": [],
      "collapsed_sections": [],
      "include_colab_link": true
    },
    "kernelspec": {
      "name": "python3",
      "display_name": "Python 3"
    },
    "accelerator": "GPU"
  },
  "cells": [
    {
      "cell_type": "markdown",
      "metadata": {
        "id": "view-in-github",
        "colab_type": "text"
      },
      "source": [
        "<a href=\"https://colab.research.google.com/github/Joycechidi/Deep-Learning-/blob/master/CNN/Malaria_Cell_Detection_Using_VGGNet_Transfer_Learning.ipynb\" target=\"_parent\"><img src=\"https://colab.research.google.com/assets/colab-badge.svg\" alt=\"Open In Colab\"/></a>"
      ]
    },
    {
      "cell_type": "code",
      "metadata": {
        "id": "bm9zjYHW4e4B",
        "colab_type": "code",
        "outputId": "fc465dfd-c883-40a9-d06e-f611839bd570",
        "colab": {
          "base_uri": "https://localhost:8080/",
          "height": 122
        }
      },
      "source": [
        "from google.colab import drive\n",
        "drive.mount('/content/gdrive')"
      ],
      "execution_count": 2,
      "outputs": [
        {
          "output_type": "stream",
          "text": [
            "Go to this URL in a browser: https://accounts.google.com/o/oauth2/auth?client_id=947318989803-6bn6qk8qdgf4n4g3pfee6491hc0brc4i.apps.googleusercontent.com&redirect_uri=urn%3Aietf%3Awg%3Aoauth%3A2.0%3Aoob&scope=email%20https%3A%2F%2Fwww.googleapis.com%2Fauth%2Fdocs.test%20https%3A%2F%2Fwww.googleapis.com%2Fauth%2Fdrive%20https%3A%2F%2Fwww.googleapis.com%2Fauth%2Fdrive.photos.readonly%20https%3A%2F%2Fwww.googleapis.com%2Fauth%2Fpeopleapi.readonly&response_type=code\n",
            "\n",
            "Enter your authorization code:\n",
            "··········\n",
            "Mounted at /content/gdrive\n"
          ],
          "name": "stdout"
        }
      ]
    },
    {
      "cell_type": "markdown",
      "metadata": {
        "id": "vOHRV4yv6c6R",
        "colab_type": "text"
      },
      "source": [
        "## Transfer Learning\n",
        "In this notebook, I'll be using VGGNet trained on the ImageNet dataset as a feature extractor. \n",
        "\n",
        "I'm using VGGNet because it's simple and has great performance, coming in second in the ImageNet competition. \n",
        "\n",
        "All the convolutional layers will be kept but I will replace the final fully-connected layer with my own classifier. This way I can use VGGNet as a fixed feature extractor for my images then easily train a simple classifier on top of that.\n",
        "\n",
        "*   Use all but the last fully-connected layer as a fixed feature extractor.\n",
        "*   Define a new, final classification layer and apply it to a task of our choice!\n",
        "\n",
        "I am trying to use the dataset containing infected and uninfected malaria cell images. Downloaded from Kaggle here [https://www.kaggle.com/iarunava/cell-images-for-detecting-malaria/download]\n",
        "\n",
        "### Objective\n",
        "Build a convolutional neural network that can detect the presence of malaria parasite in blood cells.\n",
        "\n",
        "After training this dataset with VGGNet, I will also train with ResNet pre-trained model and then compare the performance between the two models."
      ]
    },
    {
      "cell_type": "code",
      "metadata": {
        "id": "JBT1572vD5L9",
        "colab_type": "code",
        "colab": {}
      },
      "source": [
        "%config IPCompleter.greedy=True"
      ],
      "execution_count": 0,
      "outputs": []
    },
    {
      "cell_type": "code",
      "metadata": {
        "id": "64i4MNkP6boI",
        "colab_type": "code",
        "colab": {}
      },
      "source": [
        "import os \n",
        "import numpy as np\n",
        "import pandas as pd\n",
        "\n",
        "\n",
        "import torch\n",
        "import torchvision\n",
        "from torchvision import datasets, models, transforms\n",
        "\n",
        "import torch.nn as nn\n",
        "from torch.utils.data import DataLoader\n",
        "from torch.utils.data.sampler import SubsetRandomSampler\n",
        "import torch.nn.functional as F\n",
        "\n",
        "import matplotlib.pyplot as plt\n",
        "\n",
        "\n",
        "%matplotlib inline"
      ],
      "execution_count": 0,
      "outputs": []
    },
    {
      "cell_type": "code",
      "metadata": {
        "id": "4Bg4JqSGMMUX",
        "colab_type": "code",
        "outputId": "f4a6e70c-c4a4-4228-d7f0-74a11d0383de",
        "colab": {
          "base_uri": "https://localhost:8080/",
          "height": 34
        }
      },
      "source": [
        "print(os.listdir(\"/content/gdrive/My Drive/Udacity_AI_Codes/DLND_Works/data/cell_images/cell_images/\"))"
      ],
      "execution_count": 5,
      "outputs": [
        {
          "output_type": "stream",
          "text": [
            "['Uninfected', 'Parasitized', '.DS_Store']\n"
          ],
          "name": "stdout"
        }
      ]
    },
    {
      "cell_type": "code",
      "metadata": {
        "id": "CPp8RBhb6bh3",
        "colab_type": "code",
        "outputId": "1d7a20b6-7618-4501-d48d-8cfd601ccb73",
        "colab": {
          "base_uri": "https://localhost:8080/",
          "height": 34
        }
      },
      "source": [
        "# check if CUDA is available\n",
        "train_on_gpu = torch.cuda.is_available()\n",
        "\n",
        "if not train_on_gpu:\n",
        "    print('CUDA is not available.  Training on CPU ...')\n",
        "else:\n",
        "    print('CUDA is available!  Training on GPU ...') "
      ],
      "execution_count": 6,
      "outputs": [
        {
          "output_type": "stream",
          "text": [
            "CUDA is available!  Training on GPU ...\n"
          ],
          "name": "stdout"
        }
      ]
    },
    {
      "cell_type": "markdown",
      "metadata": {
        "id": "jMDK79DbRVc3",
        "colab_type": "text"
      },
      "source": [
        "## Loading the Data"
      ]
    },
    {
      "cell_type": "code",
      "metadata": {
        "id": "q9sbQHxMRZNn",
        "colab_type": "code",
        "colab": {}
      },
      "source": [
        "# define training and test data directories\n",
        "data_dir = os.path.join(\"/content/gdrive/My Drive/Udacity_AI_Codes/DLND_Works/data/cell_images/cell_images/\")\n",
        "\n",
        "# classes are folders in each directory with these names\n",
        "classes = ['Uninfected', 'Parasitized']"
      ],
      "execution_count": 0,
      "outputs": []
    },
    {
      "cell_type": "markdown",
      "metadata": {
        "id": "355yuhnWIZ1H",
        "colab_type": "text"
      },
      "source": [
        "## Transforming the Data\n",
        "\n",
        "Since I am training this dataset with a pre-trained model, I will have to shape the input data into the shape the pre-trained model expects.\n",
        "\n",
        "VGG16 expects 224-dim square images as input, so I'll resize each cell image to into this mold/shape.\n",
        "\n",
        "### Data Augmentation\n",
        "\n",
        "\n",
        "1.   Resized all images as input to 224 as expected by VGGNet\n",
        "2.   Apply different transformation by rotating the images horizontally and vertically\n",
        "3.   Convert images into PyTorch Tensors\n",
        "\n",
        "\n",
        "\n",
        "\n"
      ]
    },
    {
      "cell_type": "code",
      "metadata": {
        "id": "2-pDzHz26bem",
        "colab_type": "code",
        "colab": {}
      },
      "source": [
        "# load and transform data using ImageFolder\n",
        "\n",
        "# VGG-16 Takes 224x224 images as input, so we resize all of them\n",
        "data_transform = {\"train_transforms\": transforms.Compose([transforms.RandomResizedCrop(224),\n",
        "                                     transforms.ColorJitter(0.05),\n",
        "                                     transforms.RandomHorizontalFlip(),\n",
        "                                     transforms.RandomVerticalFlip(),\n",
        "                                     transforms.RandomRotation(20),\n",
        "                                      transforms.ToTensor()]),\n",
        "                  \"valid_transforms\": transforms.Compose([transforms.Resize(224),\n",
        "                                                         transforms.CenterCrop(224),\n",
        "                                                         transforms.ToTensor()]),\n",
        "                  \"test_transforms\": transforms.Compose([transforms.Resize(224),\n",
        "                                           transforms.CenterCrop(224),\n",
        "                                           transforms.ToTensor()])}"
      ],
      "execution_count": 0,
      "outputs": []
    },
    {
      "cell_type": "markdown",
      "metadata": {
        "id": "pz2vqY3y8IBR",
        "colab_type": "text"
      },
      "source": [
        "## Split the dataset"
      ]
    },
    {
      "cell_type": "code",
      "metadata": {
        "id": "XFmzTsNb8Htt",
        "colab_type": "code",
        "colab": {}
      },
      "source": [
        "train_data = 0.8\n",
        "valid_data = 0.1\n",
        "test_data = 0.1\n",
        "\n",
        "#Load the datasets with ImageFolder\n",
        "train_data = datasets.ImageFolder(data_dir, transform=data_transform['train_transforms'])\n",
        "valid_data = datasets.ImageFolder(data_dir, transform=data_transform['valid_transforms'])\n",
        "test_data = datasets.ImageFolder(data_dir, transform=data_transform['test_transforms'])\n"
      ],
      "execution_count": 0,
      "outputs": []
    },
    {
      "cell_type": "markdown",
      "metadata": {
        "id": "YS2XYKxX-TGG",
        "colab_type": "text"
      },
      "source": [
        "### Obtain the training indices to be used for validation and testing"
      ]
    },
    {
      "cell_type": "code",
      "metadata": {
        "id": "c4o4WUeDA07b",
        "colab_type": "code",
        "outputId": "2d7dc8fb-776e-4c23-8359-f4780d447808",
        "colab": {
          "base_uri": "https://localhost:8080/",
          "height": 85
        }
      },
      "source": [
        "num_train = len(train_data)\n",
        "indices = list(range(num_train))\n",
        "\n",
        "train_count = int(0.8*num_train)\n",
        "valid_count = int(0.1*num_train)\n",
        "test_count = num_train - train_count - valid_count\n",
        "train_idx = indices[:train_count]\n",
        "valid_idx = indices[:train_count:train_count+valid_count]\n",
        "test_idx= indices[train_count+valid_count:]\n",
        "\n",
        "\n",
        "print(len(train_idx), len(valid_idx), len(test_idx))\n",
        "print(\"Training\", train_count, np.sum(len(train_idx)/num_train))\n",
        "print(\"Validation\", valid_count, np.sum(len(valid_idx)/num_train))\n",
        "print(\"Test\", test_count, np.sum(len(test_idx)/num_train))"
      ],
      "execution_count": 10,
      "outputs": [
        {
          "output_type": "stream",
          "text": [
            "11028 1 1380\n",
            "Training 11028 0.799941970114609\n",
            "Validation 1378 7.253735673872045e-05\n",
            "Test 1380 0.10010155229943421\n"
          ],
          "name": "stdout"
        }
      ]
    },
    {
      "cell_type": "code",
      "metadata": {
        "id": "m7MZ7QqnG0Gr",
        "colab_type": "code",
        "colab": {}
      },
      "source": [
        " #Define a custom sampler for the dataset loader avoiding recreating the dataset (just creating a new loader for each different sampling)\n",
        "train_sampler = SubsetRandomSampler(train_idx)\n",
        "valid_sampler = SubsetRandomSampler(valid_idx)\n",
        "test_sampler = SubsetRandomSampler(test_idx)"
      ],
      "execution_count": 0,
      "outputs": []
    },
    {
      "cell_type": "markdown",
      "metadata": {
        "id": "fQXe85t8LCzE",
        "colab_type": "text"
      },
      "source": [
        "## **DataLoaders**"
      ]
    },
    {
      "cell_type": "code",
      "metadata": {
        "id": "j-rqk1pJ6bal",
        "colab_type": "code",
        "colab": {}
      },
      "source": [
        "# Define dataloaders parameters\n",
        "# Define the dataloaders using the image datasets\n",
        "trainloader = torch.utils.data.DataLoader(train_data, batch_size = 100, shuffle = True)\n",
        "validloader = torch.utils.data.DataLoader(valid_data, batch_size = 50, sampler = valid_sampler)\n",
        "testloader = torch.utils.data.DataLoader(test_data, batch_size = 50, sampler = test_sampler)"
      ],
      "execution_count": 0,
      "outputs": []
    },
    {
      "cell_type": "markdown",
      "metadata": {
        "id": "LeIAeVj9So8i",
        "colab_type": "text"
      },
      "source": [
        "## **Data Visualization**\n",
        "\n"
      ]
    },
    {
      "cell_type": "code",
      "metadata": {
        "id": "uqTU_dG96bX_",
        "colab_type": "code",
        "outputId": "1647a8f2-bb2a-4e65-fbdb-c47ba36b5e75",
        "colab": {
          "base_uri": "https://localhost:8080/",
          "height": 268
        }
      },
      "source": [
        "# obtain one batch of training images\n",
        "dataiter = iter(trainloader)\n",
        "images, labels = dataiter.next()\n",
        "images = images.numpy() # convert images to numpy for display\n",
        "\n",
        "# plot the images in the batch, along with the corresponding labels\n",
        "fig = plt.figure(figsize=(25, 4))\n",
        "for idx in np.arange(20):\n",
        "    ax = fig.add_subplot(4, 20/4, idx+1, xticks=[], yticks=[])\n",
        "    plt.imshow(np.transpose(images[idx], (1, 2, 0)))\n",
        "    ax.set_title(classes[labels[idx]])"
      ],
      "execution_count": 13,
      "outputs": [
        {
          "output_type": "display_data",
          "data": {
            "image/png": "[encoded data removed]",
            "text/plain": [
              "<Figure size 1800x288 with 20 Axes>"
            ]
          },
          "metadata": {
            "tags": []
          }
        }
      ]
    },
    {
      "cell_type": "markdown",
      "metadata": {
        "id": "qIkpBQS4Hlcl",
        "colab_type": "text"
      },
      "source": [
        "## Specify Model Architecture\n",
        "\n",
        "Load the pre-trained model. This time, the VGGNet\n",
        "\n",
        "To define a model for training I'll follow these steps:\n",
        "1. Load in a pre-trained VGG16 model\n",
        "2. \"Freeze\" all the parameters, so the net acts as a fixed feature extractor \n",
        "3. Remove the last layer\n",
        "4. Replace the last layer with a linear classifier of our own\n",
        "\n",
        "**Freezing simply means that the parameters in the pre-trained model will *not* change during training.**"
      ]
    },
    {
      "cell_type": "code",
      "metadata": {
        "id": "pkr7X1bR6bT8",
        "colab_type": "code",
        "outputId": "53146d3f-f436-40a9-96ce-9dede0e6ec1f",
        "colab": {
          "base_uri": "https://localhost:8080/",
          "height": 816
        }
      },
      "source": [
        "# Loading the pretrained model from pytorch\n",
        "#dir(torchvision.models)\n",
        "model = models.vgg16(pretrained=True)\n",
        "\n",
        "#print out the model structure\n",
        "print(model)"
      ],
      "execution_count": 14,
      "outputs": [
        {
          "output_type": "stream",
          "text": [
            "Downloading: \"https://download.pytorch.org/models/vgg16-397923af.pth\" to /root/.cache/torch/checkpoints/vgg16-397923af.pth\n",
            "100%|██████████| 528M/528M [00:09<00:00, 60.3MB/s]\n"
          ],
          "name": "stderr"
        },
        {
          "output_type": "stream",
          "text": [
            "VGG(\n",
            "  (features): Sequential(\n",
            "    (0): Conv2d(3, 64, kernel_size=(3, 3), stride=(1, 1), padding=(1, 1))\n",
            "    (1): ReLU(inplace=True)\n",
            "    (2): Conv2d(64, 64, kernel_size=(3, 3), stride=(1, 1), padding=(1, 1))\n",
            "    (3): ReLU(inplace=True)\n",
            "    (4): MaxPool2d(kernel_size=2, stride=2, padding=0, dilation=1, ceil_mode=False)\n",
            "    (5): Conv2d(64, 128, kernel_size=(3, 3), stride=(1, 1), padding=(1, 1))\n",
            "    (6): ReLU(inplace=True)\n",
            "    (7): Conv2d(128, 128, kernel_size=(3, 3), stride=(1, 1), padding=(1, 1))\n",
            "    (8): ReLU(inplace=True)\n",
            "    (9): MaxPool2d(kernel_size=2, stride=2, padding=0, dilation=1, ceil_mode=False)\n",
            "    (10): Conv2d(128, 256, kernel_size=(3, 3), stride=(1, 1), padding=(1, 1))\n",
            "    (11): ReLU(inplace=True)\n",
            "    (12): Conv2d(256, 256, kernel_size=(3, 3), stride=(1, 1), padding=(1, 1))\n",
            "    (13): ReLU(inplace=True)\n",
            "    (14): Conv2d(256, 256, kernel_size=(3, 3), stride=(1, 1), padding=(1, 1))\n",
            "    (15): ReLU(inplace=True)\n",
            "    (16): MaxPool2d(kernel_size=2, stride=2, padding=0, dilation=1, ceil_mode=False)\n",
            "    (17): Conv2d(256, 512, kernel_size=(3, 3), stride=(1, 1), padding=(1, 1))\n",
            "    (18): ReLU(inplace=True)\n",
            "    (19): Conv2d(512, 512, kernel_size=(3, 3), stride=(1, 1), padding=(1, 1))\n",
            "    (20): ReLU(inplace=True)\n",
            "    (21): Conv2d(512, 512, kernel_size=(3, 3), stride=(1, 1), padding=(1, 1))\n",
            "    (22): ReLU(inplace=True)\n",
            "    (23): MaxPool2d(kernel_size=2, stride=2, padding=0, dilation=1, ceil_mode=False)\n",
            "    (24): Conv2d(512, 512, kernel_size=(3, 3), stride=(1, 1), padding=(1, 1))\n",
            "    (25): ReLU(inplace=True)\n",
            "    (26): Conv2d(512, 512, kernel_size=(3, 3), stride=(1, 1), padding=(1, 1))\n",
            "    (27): ReLU(inplace=True)\n",
            "    (28): Conv2d(512, 512, kernel_size=(3, 3), stride=(1, 1), padding=(1, 1))\n",
            "    (29): ReLU(inplace=True)\n",
            "    (30): MaxPool2d(kernel_size=2, stride=2, padding=0, dilation=1, ceil_mode=False)\n",
            "  )\n",
            "  (avgpool): AdaptiveAvgPool2d(output_size=(7, 7))\n",
            "  (classifier): Sequential(\n",
            "    (0): Linear(in_features=25088, out_features=4096, bias=True)\n",
            "    (1): ReLU(inplace=True)\n",
            "    (2): Dropout(p=0.5, inplace=False)\n",
            "    (3): Linear(in_features=4096, out_features=4096, bias=True)\n",
            "    (4): ReLU(inplace=True)\n",
            "    (5): Dropout(p=0.5, inplace=False)\n",
            "    (6): Linear(in_features=4096, out_features=1000, bias=True)\n",
            "  )\n",
            ")\n"
          ],
          "name": "stdout"
        }
      ]
    },
    {
      "cell_type": "markdown",
      "metadata": {
        "id": "pfoN-rWJKHgf",
        "colab_type": "text"
      },
      "source": [
        "## Freeze all the features layers "
      ]
    },
    {
      "cell_type": "code",
      "metadata": {
        "id": "Fxikrtzw6bSH",
        "colab_type": "code",
        "outputId": "86d3a7f4-53b8-4591-a4d8-6233eccdced8",
        "colab": {
          "base_uri": "https://localhost:8080/",
          "height": 51
        }
      },
      "source": [
        "#You can access any layer in a pretrained network by name and (sometimes) number, \n",
        "#i.e. vgg16.classifier[6] is the sixth layer in a group of layers named \"classifier\"\n",
        "\n",
        "print(model.classifier[6].in_features)\n",
        "print(model.classifier[6].out_features)\n",
        "\n",
        "# Freeze training for all \"features\" layers\n",
        "for param in model.features.parameters():\n",
        "    param.requires_grad = False"
      ],
      "execution_count": 15,
      "outputs": [
        {
          "output_type": "stream",
          "text": [
            "4096\n",
            "1000\n"
          ],
          "name": "stdout"
        }
      ]
    },
    {
      "cell_type": "markdown",
      "metadata": {
        "id": "9t94_YY-UDlZ",
        "colab_type": "text"
      },
      "source": [
        "## Final Classifier Layer\n",
        "\n",
        "Now that I have the pre-trained feature extractor, I just need to modify and add them to the final, fully-connected classifier layers.\n",
        "\n",
        "Here, I am going to replace the last layer in the vgg classifier group of layers.\n"
      ]
    },
    {
      "cell_type": "code",
      "metadata": {
        "id": "l7i0B9d_6bQs",
        "colab_type": "code",
        "outputId": "a4af225d-9eef-41cb-c3e9-9de976ab74e0",
        "colab": {
          "base_uri": "https://localhost:8080/",
          "height": 34
        }
      },
      "source": [
        "n_inputs = model.classifier[6].in_features\n",
        "\n",
        "#add last linear layer (n_inputs -> 2 cell image classes)\n",
        "# new layers automatically have requires_grad = True\n",
        "last_layer = nn.Linear(n_inputs, len(classes))\n",
        "\n",
        "model.classifier[6] = last_layer\n",
        "\n",
        "if train_on_gpu:\n",
        "    model.cuda()\n",
        "    \n",
        "# check to see that your last layer produces the expected number of outputs\n",
        "print(model.classifier[6].out_features)\n",
        "\n",
        "    "
      ],
      "execution_count": 16,
      "outputs": [
        {
          "output_type": "stream",
          "text": [
            "2\n"
          ],
          "name": "stdout"
        }
      ]
    },
    {
      "cell_type": "markdown",
      "metadata": {
        "id": "LBOfZcoqXa5p",
        "colab_type": "text"
      },
      "source": [
        "## Specify a Loss Function and Optimizer\n",
        "\n",
        "(http://pytorch.org/docs/stable/nn.html#loss-functions) and [Optimizer](http://pytorch.org/docs/stable/optim.html)\n",
        "\n",
        "I'll use cross-entropy loss and stochastic gradient descent with a small learning rate. The optimizer accepts as input _only_ the trainable parameters\n",
        "'vgg.classifier.parameters'\n"
      ]
    },
    {
      "cell_type": "code",
      "metadata": {
        "id": "4lN-DoDd6bO4",
        "colab_type": "code",
        "colab": {}
      },
      "source": [
        "import torch.optim as optim\n",
        "\n",
        "if train_on_gpu:\n",
        "    model = model.cuda()\n",
        "#specify loss function (categorical cross-entropy)\n",
        "criterion = nn.CrossEntropyLoss()\n",
        "\n",
        "#s specify optimizer (stochastic gradient descent) and learning rate\n",
        "optimizer = optim.SGD(model.classifier.parameters(), lr=0.001)"
      ],
      "execution_count": 0,
      "outputs": []
    },
    {
      "cell_type": "markdown",
      "metadata": {
        "id": "p-HBGQ29ZayX",
        "colab_type": "text"
      },
      "source": [
        "## Train the model"
      ]
    },
    {
      "cell_type": "code",
      "metadata": {
        "id": "T5EYYtUo6bLU",
        "colab_type": "code",
        "colab": {}
      },
      "source": [
        "def train(n_epochs, model, loaders_transfer, optimizer, criterion, train_on_gpu, save_path):\n",
        "    #number of training epochs for the model\n",
        "    n_epochs = 5\n",
        "\n",
        "    # Initialize tracker for minimum validation loss\n",
        "    valid_loss_min = np.inf\n",
        "\n",
        "    for epoch in range(1, n_epochs+1):\n",
        "        train_loss = 0.0 # keep track of traing and validation losses\n",
        "        valid_loss = 0.0\n",
        "    \n",
        "        #################\n",
        "        # train the model#\n",
        "        #################\n",
        "        #model by default is set to train\n",
        "        model.train()\n",
        "        for batch_i, (data, target) in enumerate(trainloader):\n",
        "            if train_on_gpu:\n",
        "                data, target = data.cuda(), target.cuda()\n",
        "            \n",
        "            #clear the gradients of all variables\n",
        "            optimizer.zero_grad()\n",
        "            #forward pass: compute predicted outputs by passing inputs to the model\n",
        "            output = model(data)\n",
        "            #calculate the batch loss\n",
        "            loss = criterion(output, target)\n",
        "            # backward pass: compute  gradient of the loss with respect to the model parameters\n",
        "            loss.backward()\n",
        "            #perform a single optimization step (parameter update)\n",
        "            optimizer.step()\n",
        "            # update training loss\n",
        "            train_loss += train_loss + ((1/ (batch_i + 1 ))*(loss.data-train_loss))\n",
        "        \n",
        "            if batch_i % 100 == 0:\n",
        "\n",
        "                #print training loss every specified number of mini-batches\n",
        "                print(\"Epoch %d, Batch %d loss: %.6f\" % (epoch, batch_i + 1, train_loss/20))\n",
        "            \n",
        "            \n",
        "        #Model evaluation or validation\n",
        "        model.eval()\n",
        "        for batch_i, (data, target) in enumerate(validloader):\n",
        "\n",
        "        #Move to GPU\n",
        "        \n",
        "            if train_on_gpu:\n",
        "                data, target = data.cuda(), target.cuda()\n",
        "                # Update the average validation loss\n",
        "                #Forward pass: compute predicted outputs by passing inputs to the model\n",
        "                output = model(data)\n",
        "                #Calculate the batch loss\n",
        "                loss = criterion(output, target)\n",
        "                #Update the average validation loss\n",
        "                valid_loss = valid_loss + ((1/ (batch_i+1)) * (loss.data - valid_loss))\n",
        "                \n",
        "                \n",
        "         # print training/validation progress\n",
        "        print('Epoch: {} \\tTraining Loss: {:.5f} \\tValidation Loss: {:.5f}'.format(\n",
        "        epoch, train_loss, valid_loss))\n",
        "                                                                           \n",
        "        #Save the model if validation loss has decreased\n",
        "        if valid_loss <= valid_loss_min:\n",
        "            torch.save(model.state_dict(), save_path)\n",
        "\n",
        "            print('Validation loss decreased ({:.5f} --> {:.5f}).Saving model ...'.format(\n",
        "            valid_loss_min, valid_loss))\n",
        "            \n",
        "            valid_loss_min = valid_loss \n",
        "    return model\n",
        "\n",
        "\n",
        "                \n",
        "\n",
        "                  "
      ],
      "execution_count": 0,
      "outputs": []
    },
    {
      "cell_type": "code",
      "metadata": {
        "id": "IEW7h8I1_otr",
        "colab_type": "code",
        "colab": {}
      },
      "source": [
        "#Define loaders transfer\n",
        "loaders_transfer = {'train': trainloader, \n",
        "                    'valid': validloader, \n",
        "                    'test': testloader}\n",
        "\n",
        "\n"
      ],
      "execution_count": 0,
      "outputs": []
    },
    {
      "cell_type": "code",
      "metadata": {
        "id": "6KLnubHz_x0t",
        "colab_type": "code",
        "colab": {
          "base_uri": "https://localhost:8080/",
          "height": 1000
        },
        "outputId": "7795bcd5-b7d2-4874-a4de-0fc98a40143d"
      },
      "source": [
        "#Train the model\n",
        "train(25, model, loaders_transfer, optimizer, criterion, train_on_gpu, 'vgg_malaria_detection.pt')"
      ],
      "execution_count": 26,
      "outputs": [
        {
          "output_type": "stream",
          "text": [
            "Epoch 1, Batch 1 loss: 0.027994\n",
            "Epoch 1, Batch 101 loss: 5371854205612070074633420800.000000\n",
            "Epoch: 1 \tTraining Loss: nan \tValidation Loss: 4.70957\n",
            "Validation loss decreased (inf --> 4.70957).Saving model ...\n",
            "Epoch 2, Batch 1 loss: 0.000378\n",
            "Epoch 2, Batch 101 loss: 86082459866356534143352832.000000\n",
            "Epoch: 2 \tTraining Loss: 202497569524307515997317386061706428416.00000 \tValidation Loss: 5.41421\n",
            "Epoch 3, Batch 1 loss: 0.000195\n",
            "Epoch 3, Batch 101 loss: 45698082200312524799213568.000000\n",
            "Epoch: 3 \tTraining Loss: 107498657163446992852269858910254399488.00000 \tValidation Loss: 5.83431\n",
            "Epoch 4, Batch 1 loss: 0.000132\n",
            "Epoch 4, Batch 101 loss: 29494591333174570626580480.000000\n",
            "Epoch: 4 \tTraining Loss: 69382107336990841489579605093706104832.00000 \tValidation Loss: 6.13628\n",
            "Epoch 5, Batch 1 loss: 0.000101\n",
            "Epoch 5, Batch 101 loss: 23858453853398676705116160.000000\n",
            "Epoch: 5 \tTraining Loss: 56123846050649407524760100018122129408.00000 \tValidation Loss: 6.37215\n"
          ],
          "name": "stdout"
        },
        {
          "output_type": "execute_result",
          "data": {
            "text/plain": [
              "VGG(\n",
              "  (features): Sequential(\n",
              "    (0): Conv2d(3, 64, kernel_size=(3, 3), stride=(1, 1), padding=(1, 1))\n",
              "    (1): ReLU(inplace=True)\n",
              "    (2): Conv2d(64, 64, kernel_size=(3, 3), stride=(1, 1), padding=(1, 1))\n",
              "    (3): ReLU(inplace=True)\n",
              "    (4): MaxPool2d(kernel_size=2, stride=2, padding=0, dilation=1, ceil_mode=False)\n",
              "    (5): Conv2d(64, 128, kernel_size=(3, 3), stride=(1, 1), padding=(1, 1))\n",
              "    (6): ReLU(inplace=True)\n",
              "    (7): Conv2d(128, 128, kernel_size=(3, 3), stride=(1, 1), padding=(1, 1))\n",
              "    (8): ReLU(inplace=True)\n",
              "    (9): MaxPool2d(kernel_size=2, stride=2, padding=0, dilation=1, ceil_mode=False)\n",
              "    (10): Conv2d(128, 256, kernel_size=(3, 3), stride=(1, 1), padding=(1, 1))\n",
              "    (11): ReLU(inplace=True)\n",
              "    (12): Conv2d(256, 256, kernel_size=(3, 3), stride=(1, 1), padding=(1, 1))\n",
              "    (13): ReLU(inplace=True)\n",
              "    (14): Conv2d(256, 256, kernel_size=(3, 3), stride=(1, 1), padding=(1, 1))\n",
              "    (15): ReLU(inplace=True)\n",
              "    (16): MaxPool2d(kernel_size=2, stride=2, padding=0, dilation=1, ceil_mode=False)\n",
              "    (17): Conv2d(256, 512, kernel_size=(3, 3), stride=(1, 1), padding=(1, 1))\n",
              "    (18): ReLU(inplace=True)\n",
              "    (19): Conv2d(512, 512, kernel_size=(3, 3), stride=(1, 1), padding=(1, 1))\n",
              "    (20): ReLU(inplace=True)\n",
              "    (21): Conv2d(512, 512, kernel_size=(3, 3), stride=(1, 1), padding=(1, 1))\n",
              "    (22): ReLU(inplace=True)\n",
              "    (23): MaxPool2d(kernel_size=2, stride=2, padding=0, dilation=1, ceil_mode=False)\n",
              "    (24): Conv2d(512, 512, kernel_size=(3, 3), stride=(1, 1), padding=(1, 1))\n",
              "    (25): ReLU(inplace=True)\n",
              "    (26): Conv2d(512, 512, kernel_size=(3, 3), stride=(1, 1), padding=(1, 1))\n",
              "    (27): ReLU(inplace=True)\n",
              "    (28): Conv2d(512, 512, kernel_size=(3, 3), stride=(1, 1), padding=(1, 1))\n",
              "    (29): ReLU(inplace=True)\n",
              "    (30): MaxPool2d(kernel_size=2, stride=2, padding=0, dilation=1, ceil_mode=False)\n",
              "  )\n",
              "  (avgpool): AdaptiveAvgPool2d(output_size=(7, 7))\n",
              "  (classifier): Sequential(\n",
              "    (0): Linear(in_features=25088, out_features=4096, bias=True)\n",
              "    (1): ReLU(inplace=True)\n",
              "    (2): Dropout(p=0.5, inplace=False)\n",
              "    (3): Linear(in_features=4096, out_features=4096, bias=True)\n",
              "    (4): ReLU(inplace=True)\n",
              "    (5): Dropout(p=0.5, inplace=False)\n",
              "    (6): Linear(in_features=4096, out_features=2, bias=True)\n",
              "  )\n",
              ")"
            ]
          },
          "metadata": {
            "tags": []
          },
          "execution_count": 26
        }
      ]
    },
    {
      "cell_type": "markdown",
      "metadata": {
        "id": "Q5Gv-BxSAdLD",
        "colab_type": "text"
      },
      "source": [
        "# Loading Saved Model"
      ]
    },
    {
      "cell_type": "code",
      "metadata": {
        "id": "btfyeiXeYVI6",
        "colab_type": "code",
        "colab": {
          "base_uri": "https://localhost:8080/",
          "height": 34
        },
        "outputId": "2a5aa1e8-06ad-4cf9-b481-a40473d7898d"
      },
      "source": [
        "#Load the model with the best accuracy\n",
        "model.load_state_dict(torch.load('vgg_malaria_detection.pt'))"
      ],
      "execution_count": 27,
      "outputs": [
        {
          "output_type": "execute_result",
          "data": {
            "text/plain": [
              "<All keys matched successfully>"
            ]
          },
          "metadata": {
            "tags": []
          },
          "execution_count": 27
        }
      ]
    },
    {
      "cell_type": "markdown",
      "metadata": {
        "id": "j5mCxek-f6rI",
        "colab_type": "text"
      },
      "source": [
        "## Testing the Accuracy of the Model"
      ]
    },
    {
      "cell_type": "code",
      "metadata": {
        "id": "Mf7LGc486bJu",
        "colab_type": "code",
        "colab": {}
      },
      "source": [
        "#track test loss over 2 cell image classes"
      ],
      "execution_count": 0,
      "outputs": []
    },
    {
      "cell_type": "code",
      "metadata": {
        "id": "gOotThfI6bGY",
        "colab_type": "code",
        "colab": {}
      },
      "source": [
        "def test(model, criterion, train_on_gpu):\n",
        "\n",
        "    # monitor test loss and accuracy\n",
        "    test_loss = 0.\n",
        "    correct = 0.\n",
        "    total = 0.\n",
        "\n",
        "    for batch_i, (data, target) in enumerate(testloader):\n",
        "        # move to GPU\n",
        "        if train_on_gpu:\n",
        "            data, target = data.cuda(), target.cuda()\n",
        "        # forward pass: compute predicted outputs by passing inputs to the model\n",
        "        output = model(data)\n",
        "        # calculate the loss\n",
        "        loss = criterion(output, target)\n",
        "        # update average test loss \n",
        "        test_loss = test_loss + ((1 / (batch_i + 1)) * (loss.data - test_loss))\n",
        "        # convert output probabilities to predicted class\n",
        "        pred = output.data.max(1, keepdim=True)[1]\n",
        "        # compare predictions to true label\n",
        "        correct += np.sum(np.squeeze(pred.eq(target.data.view_as(pred))).cpu().numpy())\n",
        "\n",
        "        total += data.size(0)\n",
        "            \n",
        "    print('Test Loss: {:.6f}\\n'.format(test_loss))\n",
        "\n",
        "    print('\\nTest Accuracy: %2d%% (%2d/%2d)' % (\n",
        "        100. * correct / total, correct, total))\n",
        "test(model, criterion, train_on_gpu)"
      ],
      "execution_count": 0,
      "outputs": []
    },
    {
      "cell_type": "markdown",
      "metadata": {
        "id": "AgNjZPatyGvp",
        "colab_type": "text"
      },
      "source": [
        "### Visualize Sample Test Results"
      ]
    },
    {
      "cell_type": "code",
      "metadata": {
        "id": "jGSsIROR6bDz",
        "colab_type": "code",
        "colab": {}
      },
      "source": [
        "# obtain one batch of test images\n",
        "dataiter = iter(test_loader)\n",
        "images, labels = dataiter.next()\n",
        "images.numpy()\n",
        "\n",
        "# move model inputs to cuda, if GPU available\n",
        "if train_on_gpu:\n",
        "    images = images.cuda()\n",
        "\n",
        "# get sample outputs\n",
        "output = model(images)\n",
        "# convert output probabilities to predicted class\n",
        "_, preds_tensor = torch.max(output, 1)\n",
        "preds = np.squeeze(preds_tensor.numpy()) if not train_on_gpu else np.squeeze(preds_tensor.cpu().numpy())\n",
        "\n",
        "# plot the images in the batch, along with predicted and true labels\n",
        "fig = plt.figure(figsize=(25, 4))\n",
        "for idx in np.arange(20):\n",
        "    ax = fig.add_subplot(4, 20/4, idx+1, xticks=[], yticks=[])\n",
        "    plt.imshow(np.transpose(images[idx], (1, 2, 0)))\n",
        "    ax.set_title(\"{} ({})\".format(classes[preds[idx]], classes[labels[idx]]),\n",
        "                 color=(\"green\" if preds[idx]==labels[idx].item() else \"red\"))"
      ],
      "execution_count": 0,
      "outputs": []
    },
    {
      "cell_type": "markdown",
      "metadata": {
        "id": "QWaO0TBF6atU",
        "colab_type": "text"
      },
      "source": [
        ""
      ]
    }
  ]
}