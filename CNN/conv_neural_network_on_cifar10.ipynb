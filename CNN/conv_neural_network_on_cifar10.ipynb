{
  "nbformat": 4,
  "nbformat_minor": 0,
  "metadata": {
    "colab": {
      "name": "conv_neural_network_on_cifar10.ipynb",
      "provenance": [],
      "include_colab_link": true
    },
    "kernelspec": {
      "name": "python3",
      "display_name": "Python 3"
    }
  },
  "cells": [
    {
      "cell_type": "markdown",
      "metadata": {
        "id": "view-in-github",
        "colab_type": "text"
      },
      "source": [
        "<a href=\"https://colab.research.google.com/github/Joycechidi/Deep-Learning-/blob/master/CNN/conv_neural_network_on_cifar10.ipynb\" target=\"_parent\"><img src=\"https://colab.research.google.com/assets/colab-badge.svg\" alt=\"Open In Colab\"/></a>"
      ]
    },
    {
      "cell_type": "markdown",
      "metadata": {
        "id": "SDAgIXvpk9QJ",
        "colab_type": "text"
      },
      "source": [
        "In this notebook, I will train a Convolutional Neural Network to classify images from the CIFAR-10 database.\n",
        "\n",
        "CIFAR-10 database has small colored images that fall into one of ten classes.\n",
        "\n",
        "\n",
        "*   Airplane\n",
        "*   Automobile\n",
        "*   Bird\n",
        "*   Cat\n",
        "*   Deer\n",
        "*   Dog\n",
        "*   Frog\n",
        "*   Horse\n",
        "*   Ship\n",
        "*   Truck\n",
        "\n",
        "I will be working with a GPU to help speed up my training time. "
      ]
    },
    {
      "cell_type": "markdown",
      "metadata": {
        "id": "xhkgLJnsmocQ",
        "colab_type": "text"
      },
      "source": [
        "## Test the Availability of GPU (CUDA)"
      ]
    },
    {
      "cell_type": "code",
      "metadata": {
        "id": "SWi07q33kwLo",
        "colab_type": "code",
        "colab": {
          "base_uri": "https://localhost:8080/",
          "height": 34
        },
        "outputId": "206c8c37-610a-49f5-d99e-4e7e4aa7c0ba"
      },
      "source": [
        "import torch\n",
        "import numpy as np\n",
        "\n",
        "#check if CUDA is available\n",
        "gpu_training = torch.cuda.is_available()\n",
        "\n",
        "if not gpu_training:\n",
        "    print(\"CUDA is not available. Training on CPU ...\")\n",
        "else: \n",
        "    print('CUDA is available! Training on GPU ...')"
      ],
      "execution_count": 1,
      "outputs": [
        {
          "output_type": "stream",
          "text": [
            "CUDA is not available. Training on CPU ...\n"
          ],
          "name": "stdout"
        }
      ]
    },
    {
      "cell_type": "markdown",
      "metadata": {
        "id": "KXiHiuYRnuJd",
        "colab_type": "text"
      },
      "source": [
        "## Load the Data\n",
        "\n",
        "The training and test data will be loaded after which I will split the training data to get the validation data set.\n",
        "\n",
        "DataLoaders will be created for each of the 3 data sets (training, test, and validation)."
      ]
    },
    {
      "cell_type": "code",
      "metadata": {
        "id": "1hePV7x2p4vk",
        "colab_type": "code",
        "colab": {}
      },
      "source": [
        ""
      ],
      "execution_count": 0,
      "outputs": []
    }
  ]
}