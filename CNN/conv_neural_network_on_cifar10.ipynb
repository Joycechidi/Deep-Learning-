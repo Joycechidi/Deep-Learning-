{
  "nbformat": 4,
  "nbformat_minor": 0,
  "metadata": {
    "colab": {
      "name": "conv_neural_network_on_cifar10.ipynb",
      "provenance": [],
      "collapsed_sections": [],
      "include_colab_link": true
    },
    "kernelspec": {
      "name": "python3",
      "display_name": "Python 3"
    }
  },
  "cells": [
    {
      "cell_type": "markdown",
      "metadata": {
        "id": "view-in-github",
        "colab_type": "text"
      },
      "source": [
        "<a href=\"https://colab.research.google.com/github/Joycechidi/Deep-Learning-/blob/master/CNN/conv_neural_network_on_cifar10.ipynb\" target=\"_parent\"><img src=\"https://colab.research.google.com/assets/colab-badge.svg\" alt=\"Open In Colab\"/></a>"
      ]
    },
    {
      "cell_type": "markdown",
      "metadata": {
        "id": "SDAgIXvpk9QJ",
        "colab_type": "text"
      },
      "source": [
        "In this notebook, I will train a Convolutional Neural Network to classify images from the CIFAR-10 database.\n",
        "\n",
        "CIFAR-10 database has small colored images that fall into one of ten classes.\n",
        "\n",
        "\n",
        "*   Airplane\n",
        "*   Automobile\n",
        "*   Bird\n",
        "*   Cat\n",
        "*   Deer\n",
        "*   Dog\n",
        "*   Frog\n",
        "*   Horse\n",
        "*   Ship\n",
        "*   Truck\n",
        "\n",
        "I will be working with a GPU to help speed up my training time. "
      ]
    },
    {
      "cell_type": "markdown",
      "metadata": {
        "id": "xhkgLJnsmocQ",
        "colab_type": "text"
      },
      "source": [
        "## Test the Availability of GPU (CUDA)"
      ]
    },
    {
      "cell_type": "code",
      "metadata": {
        "id": "SWi07q33kwLo",
        "colab_type": "code",
        "colab": {
          "base_uri": "https://localhost:8080/",
          "height": 34
        },
        "outputId": "206c8c37-610a-49f5-d99e-4e7e4aa7c0ba"
      },
      "source": [
        "import torch\n",
        "import numpy as np\n",
        "\n",
        "#check if CUDA is available\n",
        "gpu_training = torch.cuda.is_available()\n",
        "\n",
        "if not gpu_training:\n",
        "    print(\"CUDA is not available. Training on CPU ...\")\n",
        "else: \n",
        "    print('CUDA is available! Training on GPU ...')"
      ],
      "execution_count": 1,
      "outputs": [
        {
          "output_type": "stream",
          "text": [
            "CUDA is not available. Training on CPU ...\n"
          ],
          "name": "stdout"
        }
      ]
    },
    {
      "cell_type": "markdown",
      "metadata": {
        "id": "KXiHiuYRnuJd",
        "colab_type": "text"
      },
      "source": [
        "## Load the Data\n",
        "\n",
        "The training and test data will be loaded after which I will split the training data to get the validation data set.\n",
        "\n",
        "DataLoaders will be created for each of the 3 data sets (training, test, and validation)."
      ]
    },
    {
      "cell_type": "code",
      "metadata": {
        "id": "1hePV7x2p4vk",
        "colab_type": "code",
        "colab": {
          "base_uri": "https://localhost:8080/",
          "height": 105
        },
        "outputId": "065f3775-8bfd-4757-85bb-be28fe56c955"
      },
      "source": [
        "from torchvision import datasets\n",
        "import torchvision.transforms as transforms\n",
        "from torch.utils.data.sampler import SubsetRandomSampler\n",
        "\n",
        "#number of subprocesses to use for data loading\n",
        "num_workers = 0\n",
        "#how many samples per batch to load\n",
        "batch_size = 20 \n",
        "#percentage of training set to be used for validation\n",
        "valid_size = 0.2\n",
        "\n",
        "# convert data to a normalized torch.FloatTensor\n",
        "transform = transforms.Compose([\n",
        "    transforms.ToTensor(),\n",
        "    transforms.Normalize((\n",
        "    0.5, 0.5, 0.5), (0.5, 0.5, 0.5))\n",
        "])\n",
        "\n",
        "# choose the training and test datasets\n",
        "train_data = datasets.CIFAR10('data', \n",
        "                              train=True, download=True, transform=transform)\n",
        "test_data = datasets.CIFAR10('data',\n",
        "                            train=False, download=True, transform=transform)\n",
        "\n",
        "# obtain training indices tha will be used for validation\n",
        "num_train = len(train_data)\n",
        "indices = list(range(num_train))\n",
        "np.random.shuffle(indices)\n",
        "data_split = int(np.floor(valid_size * num_train))\n",
        "train_idx, valid_idx = indices[data_split:], indices[data_split:]\n",
        "\n",
        "# define samplers for obtaining training and validation batches\n",
        "train_sampler = SubsetRandomSampler(train_idx)\n",
        "valid_sampler = SubsetRandomSampler(valid_idx)\n",
        "\n",
        "# prepare data loaders (combine dataset and sampler)\n",
        "train_loader = torch.utils.data.DataLoader(train_data, batch_size=batch_size,\n",
        "    sampler=train_sampler, num_workers=num_workers)\n",
        "valid_loader = torch.utils.data.DataLoader(train_data, batch_size=batch_size, \n",
        "    sampler=valid_sampler, num_workers=num_workers)\n",
        "test_loader = torch.utils.data.DataLoader(test_data, batch_size=batch_size, \n",
        "    num_workers=num_workers)\n",
        "\n",
        "# specify the image classes\n",
        "classes = ['airplane', 'automobile', 'bird', 'cat', 'deer',\n",
        "           'dog', 'frog', 'horse', 'ship', 'truck']"
      ],
      "execution_count": 12,
      "outputs": [
        {
          "output_type": "stream",
          "text": [
            "\r0it [00:00, ?it/s]"
          ],
          "name": "stderr"
        },
        {
          "output_type": "stream",
          "text": [
            "Downloading https://www.cs.toronto.edu/~kriz/cifar-10-python.tar.gz to data/cifar-10-python.tar.gz\n"
          ],
          "name": "stdout"
        },
        {
          "output_type": "stream",
          "text": [
            "170500096it [00:04, 41617868.18it/s]                               \n"
          ],
          "name": "stderr"
        },
        {
          "output_type": "stream",
          "text": [
            "Extracting data/cifar-10-python.tar.gz to data\n",
            "Files already downloaded and verified\n"
          ],
          "name": "stdout"
        }
      ]
    }
  ]
}