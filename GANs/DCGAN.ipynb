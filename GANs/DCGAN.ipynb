{
  "nbformat": 4,
  "nbformat_minor": 0,
  "metadata": {
    "kernelspec": {
      "name": "python3",
      "display_name": "Python 3"
    },
    "language_info": {
      "codemirror_mode": {
        "name": "ipython",
        "version": 3
      },
      "file_extension": ".py",
      "mimetype": "text/x-python",
      "name": "python",
      "nbconvert_exporter": "python",
      "pygments_lexer": "ipython3",
      "version": "3.6.3"
    },
    "colab": {
      "name": "DCGAN.ipynb",
      "provenance": [],
      "include_colab_link": true
    },
    "accelerator": "GPU"
  },
  "cells": [
    {
      "cell_type": "markdown",
      "metadata": {
        "id": "view-in-github",
        "colab_type": "text"
      },
      "source": [
        "<a href=\"https://colab.research.google.com/github/Joycechidi/Deep-Learning-/blob/master/GANs/DCGAN.ipynb\" target=\"_parent\"><img src=\"https://colab.research.google.com/assets/colab-badge.svg\" alt=\"Open In Colab\"/></a>"
      ]
    },
    {
      "cell_type": "code",
      "metadata": {
        "id": "fLzDG4IAjK5v",
        "colab_type": "code",
        "colab": {
          "base_uri": "https://localhost:8080/",
          "height": 119
        },
        "outputId": "63bcb87d-5445-43be-e3f8-8d56e51ba446"
      },
      "source": [
        "from google.colab import drive\n",
        "drive.mount('/content/gdrive')"
      ],
      "execution_count": 1,
      "outputs": [
        {
          "output_type": "stream",
          "text": [
            "Go to this URL in a browser: https://accounts.google.com/o/oauth2/auth?client_id=947318989803-6bn6qk8qdgf4n4g3pfee6491hc0brc4i.apps.googleusercontent.com&redirect_uri=urn%3aietf%3awg%3aoauth%3a2.0%3aoob&response_type=code&scope=email%20https%3a%2f%2fwww.googleapis.com%2fauth%2fdocs.test%20https%3a%2f%2fwww.googleapis.com%2fauth%2fdrive%20https%3a%2f%2fwww.googleapis.com%2fauth%2fdrive.photos.readonly%20https%3a%2f%2fwww.googleapis.com%2fauth%2fpeopleapi.readonly\n",
            "\n",
            "Enter your authorization code:\n",
            "··········\n",
            "Mounted at /content/gdrive\n"
          ],
          "name": "stdout"
        }
      ]
    },
    {
      "cell_type": "markdown",
      "metadata": {
        "id": "z6bMKb39jJTa",
        "colab_type": "text"
      },
      "source": [
        "# Deep Convolutional GANs\n",
        "\n",
        "In this notebook, you'll build a GAN using convolutional layers in the generator and discriminator. This is called a Deep Convolutional GAN, or DCGAN for short. The DCGAN architecture was first explored in 2016 and has seen impressive results in generating new images; you can read the [original paper, here](https://arxiv.org/pdf/1511.06434.pdf).\n",
        "\n",
        "You'll be training DCGAN on the [Street View House Numbers](http://ufldl.stanford.edu/housenumbers/) (SVHN) dataset. These are color images of house numbers collected from Google street view. SVHN images are in color and much more variable than MNIST. \n",
        "\n",
        "<img src='assets/svhn_dcgan.png' width=80% />\n",
        "\n",
        "So, our goal is to create a DCGAN that can generate new, realistic-looking images of house numbers. We'll go through the following steps to do this:\n",
        "* Load in and pre-process the house numbers dataset\n",
        "* Define discriminator and generator networks\n",
        "* Train these adversarial networks\n",
        "* Visualize the loss over time and some sample, generated images\n",
        "\n",
        "#### Deeper Convolutional Networks\n",
        "\n",
        "Since this dataset is more complex than our MNIST data, we'll need a deeper network to accurately identify patterns in these images and be able to generate new ones. Specifically, we'll use a series of convolutional or transpose convolutional layers in the discriminator and generator. It's also necessary to use batch normalization to get these convolutional networks to train. \n",
        "\n",
        "Besides these changes in network structure, training the discriminator and generator networks should be the same as before. That is, the discriminator will alternate training on real and fake (generated) images, and the generator will aim to trick the discriminator into thinking that its generated images are real!"
      ]
    },
    {
      "cell_type": "code",
      "metadata": {
        "id": "6IW9feO5jJTd",
        "colab_type": "code",
        "colab": {}
      },
      "source": [
        "# import libraries\n",
        "import matplotlib.pyplot as plt\n",
        "import numpy as np\n",
        "import pickle as pkl\n",
        "\n",
        "%matplotlib inline"
      ],
      "execution_count": 0,
      "outputs": []
    },
    {
      "cell_type": "markdown",
      "metadata": {
        "id": "1PxjEh60jJTh",
        "colab_type": "text"
      },
      "source": [
        "## Getting the data\n",
        "\n",
        "Here you can download the SVHN dataset. It's a dataset built-in to the PyTorch datasets library. We can load in training data, transform it into Tensor datatypes, then create dataloaders to batch our data into a desired size."
      ]
    },
    {
      "cell_type": "code",
      "metadata": {
        "id": "9pFSdb_RjJTi",
        "colab_type": "code",
        "colab": {
          "base_uri": "https://localhost:8080/",
          "height": 69
        },
        "outputId": "28f25a25-0dc8-45e1-ab18-b57e68740942"
      },
      "source": [
        "import torch\n",
        "from torchvision import datasets\n",
        "from torchvision import transforms\n",
        "\n",
        "# Tensor transform\n",
        "transform = transforms.ToTensor()\n",
        "\n",
        "# SVHN training datasets\n",
        "svhn_train = datasets.SVHN(root='data/', split='train', download=True, transform=transform)\n",
        "\n",
        "batch_size = 128\n",
        "num_workers = 0\n",
        "\n",
        "# build DataLoaders for SVHN dataset\n",
        "train_loader = torch.utils.data.DataLoader(dataset=svhn_train,\n",
        "                                          batch_size=batch_size,\n",
        "                                          shuffle=True,\n",
        "                                          num_workers=num_workers)\n"
      ],
      "execution_count": 3,
      "outputs": [
        {
          "output_type": "stream",
          "text": [
            "  0%|          | 32768/182040794 [00:00<10:45, 282124.56it/s]"
          ],
          "name": "stderr"
        },
        {
          "output_type": "stream",
          "text": [
            "Downloading http://ufldl.stanford.edu/housenumbers/train_32x32.mat to data/train_32x32.mat\n"
          ],
          "name": "stdout"
        },
        {
          "output_type": "stream",
          "text": [
            "182042624it [00:02, 85348929.44it/s]                               \n"
          ],
          "name": "stderr"
        }
      ]
    },
    {
      "cell_type": "markdown",
      "metadata": {
        "id": "9nIh5vHijJTl",
        "colab_type": "text"
      },
      "source": [
        "### Visualize the Data\n",
        "\n",
        "Here I'm showing a small sample of the images. Each of these is 32x32 with 3 color channels (RGB). These are the real, training images that we'll pass to the discriminator. Notice that each image has _one_ associated, numerical label."
      ]
    },
    {
      "cell_type": "code",
      "metadata": {
        "id": "h0buyPo1jJTm",
        "colab_type": "code",
        "colab": {
          "base_uri": "https://localhost:8080/",
          "height": 288
        },
        "outputId": "db530ee4-475a-412a-a5f8-c2892d8989fb"
      },
      "source": [
        "# obtain one batch of training images\n",
        "dataiter = iter(train_loader)\n",
        "images, labels = dataiter.next()\n",
        "\n",
        "# plot the images in the batch, along with the corresponding labels\n",
        "fig = plt.figure(figsize=(25, 4))\n",
        "plot_size=20\n",
        "for idx in np.arange(plot_size):\n",
        "    ax = fig.add_subplot(2, plot_size/2, idx+1, xticks=[], yticks=[])\n",
        "    ax.imshow(np.transpose(images[idx], (1, 2, 0)))\n",
        "    # print out the correct label for each image\n",
        "    # .item() gets the value contained in a Tensor\n",
        "    ax.set_title(str(labels[idx].item()))"
      ],
      "execution_count": 4,
      "outputs": [
        {
          "output_type": "display_data",
          "data": {
            "image/png": "[encoded data removed]",
            "text/plain": [
              "<Figure size 1800x288 with 20 Axes>"
            ]
          },
          "metadata": {
            "tags": []
          }
        }
      ]
    },
    {
      "cell_type": "markdown",
      "metadata": {
        "id": "uEcjF_4ejJTp",
        "colab_type": "text"
      },
      "source": [
        "### Pre-processing: scaling from -1 to 1\n",
        "\n",
        "We need to do a bit of pre-processing; we know that the output of our `tanh` activated generator will contain pixel values in a range from -1 to 1, and so, we need to rescale our training images to a range of -1 to 1. (Right now, they are in a range from 0-1.)"
      ]
    },
    {
      "cell_type": "code",
      "metadata": {
        "id": "YfwzNpNijJTq",
        "colab_type": "code",
        "colab": {
          "base_uri": "https://localhost:8080/",
          "height": 49
        },
        "outputId": "e88ed748-bb1d-4360-d9a4-74d8b27ab35a"
      },
      "source": [
        "# current range\n",
        "img = images[0]\n",
        "\n",
        "print('Min: ', img.min())\n",
        "print('Max: ', img.max())"
      ],
      "execution_count": 5,
      "outputs": [
        {
          "output_type": "stream",
          "text": [
            "Min:  tensor(0.0863)\n",
            "Max:  tensor(0.6431)\n"
          ],
          "name": "stdout"
        }
      ]
    },
    {
      "cell_type": "code",
      "metadata": {
        "id": "ll_aa1bPjJTs",
        "colab_type": "code",
        "colab": {}
      },
      "source": [
        "# helper scale function\n",
        "def scale(x, feature_range=(-1, 1)):\n",
        "    ''' Scale takes in an image x and returns that image, scaled\n",
        "       with a feature_range of pixel values from -1 to 1. \n",
        "       This function assumes that the input x is already scaled from 0-1.'''\n",
        "    # assume x is scaled to (0, 1)\n",
        "    # scale to feature_range and return scaled x\n",
        "    min, max = feature_range\n",
        "    x = x * (max - min) + min\n",
        "    \n",
        "    return x\n"
      ],
      "execution_count": 0,
      "outputs": []
    },
    {
      "cell_type": "code",
      "metadata": {
        "id": "v5YzO_gTjJTu",
        "colab_type": "code",
        "colab": {
          "base_uri": "https://localhost:8080/",
          "height": 49
        },
        "outputId": "c4ba4a37-18bf-429d-c090-dbc4e53debd7"
      },
      "source": [
        "# scaled range\n",
        "scaled_img = scale(img)\n",
        "\n",
        "print('Scaled min: ', scaled_img.min())\n",
        "print('Scaled max: ', scaled_img.max())"
      ],
      "execution_count": 7,
      "outputs": [
        {
          "output_type": "stream",
          "text": [
            "Scaled min:  tensor(-0.8275)\n",
            "Scaled max:  tensor(0.2863)\n"
          ],
          "name": "stdout"
        }
      ]
    },
    {
      "cell_type": "markdown",
      "metadata": {
        "id": "w28XufzujJTw",
        "colab_type": "text"
      },
      "source": [
        "---\n",
        "# Define the Model\n",
        "\n",
        "A GAN is comprised of two adversarial networks, a discriminator and a generator."
      ]
    },
    {
      "cell_type": "markdown",
      "metadata": {
        "id": "wQ1L4GxGjJTx",
        "colab_type": "text"
      },
      "source": [
        "## Discriminator\n",
        "\n",
        "Here you'll build the discriminator. This is a convolutional classifier like you've built before, only without any maxpooling layers. \n",
        "* The inputs to the discriminator are 32x32x3 tensor images\n",
        "* You'll want a few convolutional, hidden layers\n",
        "* Then a fully connected layer for the output; as before, we want a sigmoid output, but we'll add that in the loss function, [BCEWithLogitsLoss](https://pytorch.org/docs/stable/nn.html#bcewithlogitsloss), later\n",
        "\n",
        "<img src='assets/conv_discriminator.png' width=80%/>\n",
        "\n",
        "For the depths of the convolutional layers I suggest starting with 32 filters in the first layer, then double that depth as you add layers (to 64, 128, etc.). Note that in the DCGAN paper, they did all the downsampling using only strided convolutional layers with no maxpooling layers.\n",
        "\n",
        "You'll also want to use batch normalization with [nn.BatchNorm2d](https://pytorch.org/docs/stable/nn.html#batchnorm2d) on each layer **except** the first convolutional layer and final, linear output layer. \n",
        "\n",
        "#### Helper `conv` function \n",
        "\n",
        "In general, each layer should look something like convolution > batch norm > leaky ReLU, and so we'll define a function to put these layers together. This function will create a sequential series of a convolutional + an optional batch norm layer. We'll create these using PyTorch's [Sequential container](https://pytorch.org/docs/stable/nn.html#sequential), which takes in a list of layers and creates layers according to the order that they are passed in to the Sequential constructor.\n",
        "\n",
        "Note: It is also suggested that you use a **kernel_size of 4** and a **stride of 2** for strided convolutions."
      ]
    },
    {
      "cell_type": "code",
      "metadata": {
        "id": "WnQZrXkTjJTy",
        "colab_type": "code",
        "colab": {}
      },
      "source": [
        "import torch.nn as nn\n",
        "import torch.nn.functional as F\n",
        "\n",
        "# helper conv function\n",
        "def conv(in_channels, out_channels, kernel_size, stride=2, padding=1, batch_norm=True):\n",
        "    \"\"\"Creates a convolutional layer, with optional batch normalization.\n",
        "    \"\"\"\n",
        "    layers = []\n",
        "    conv_layer = nn.Conv2d(in_channels, out_channels, \n",
        "                           kernel_size, stride, padding, bias=False)\n",
        "    \n",
        "    # append conv layer\n",
        "    layers.append(conv_layer)\n",
        "\n",
        "    if batch_norm:\n",
        "        # append batchnorm layer\n",
        "        layers.append(nn.BatchNorm2d(out_channels))\n",
        "     \n",
        "    # using Sequential container\n",
        "    return nn.Sequential(*layers)\n",
        "\n"
      ],
      "execution_count": 0,
      "outputs": []
    },
    {
      "cell_type": "code",
      "metadata": {
        "id": "KVXanxQ3jJT1",
        "colab_type": "code",
        "colab": {}
      },
      "source": [
        "class Discriminator(nn.Module):\n",
        "\n",
        "    def __init__(self, conv_dim=32):\n",
        "        super(Discriminator, self).__init__()\n",
        "\n",
        "        # complete init function\n",
        "        self.conv_dim = conv_dim\n",
        "\n",
        "        # 32x32 input\n",
        "        self.conv1 = conv(3, conv_dim, 4, batch_norm=False) # first layer, no batch_norm\n",
        "        # 16x16 out\n",
        "        self.conv2 = conv(conv_dim, conv_dim*2, 4)\n",
        "        # 8x8 out\n",
        "        self.conv3 = conv(conv_dim*2, conv_dim*4, 4)\n",
        "        # 4x4 out\n",
        "        \n",
        "        # final, fully-connected layer\n",
        "        self.fc = nn.Linear(conv_dim*4*4*4, 1)\n",
        "\n",
        "    def forward(self, x):\n",
        "        # all hidden layers + leaky relu activation\n",
        "        out = F.leaky_relu(self.conv1(x), 0.2)\n",
        "        out = F.leaky_relu(self.conv2(out), 0.2)\n",
        "        out = F.leaky_relu(self.conv3(out), 0.2)\n",
        "        \n",
        "        # flatten\n",
        "        out = out.view(-1, self.conv_dim*4*4*4)\n",
        "        \n",
        "        # final output layer\n",
        "        out = self.fc(out)        \n",
        "        return out\n",
        "    "
      ],
      "execution_count": 0,
      "outputs": []
    },
    {
      "cell_type": "markdown",
      "metadata": {
        "id": "cmUx1hcsjJT3",
        "colab_type": "text"
      },
      "source": [
        "## Generator\n",
        "\n",
        "Next, you'll build the generator network. The input will be our noise vector `z`, as before. And, the output will be a $tanh$ output, but this time with size 32x32 which is the size of our SVHN images.\n",
        "\n",
        "<img src='assets/conv_generator.png' width=80% />\n",
        "\n",
        "What's new here is we'll use transpose convolutional layers to create our new images. \n",
        "* The first layer is a fully connected layer which is reshaped into a deep and narrow layer, something like 4x4x512. \n",
        "* Then, we use batch normalization and a leaky ReLU activation. \n",
        "* Next is a series of [transpose convolutional layers](https://pytorch.org/docs/stable/nn.html#convtranspose2d), where you typically halve the depth and double the width and height of the previous layer. \n",
        "* And, we'll apply batch normalization and ReLU to all but the last of these hidden layers. Where we will just apply a `tanh` activation.\n",
        "\n",
        "#### Helper `deconv` function\n",
        "\n",
        "For each of these layers, the general scheme is transpose convolution > batch norm > ReLU, and so we'll define a function to put these layers together. This function will create a sequential series of a transpose convolutional + an optional batch norm layer. We'll create these using PyTorch's Sequential container, which takes in a list of layers and creates layers according to the order that they are passed in to the Sequential constructor.\n",
        "\n",
        "Note: It is also suggested that you use a **kernel_size of 4** and a **stride of 2** for transpose convolutions."
      ]
    },
    {
      "cell_type": "code",
      "metadata": {
        "id": "Zt-ITyA3jJT4",
        "colab_type": "code",
        "colab": {}
      },
      "source": [
        "# helper deconv function\n",
        "def deconv(in_channels, out_channels, kernel_size, stride=2, padding=1, batch_norm=True):\n",
        "    \"\"\"Creates a transposed-convolutional layer, with optional batch normalization.\n",
        "    \"\"\"\n",
        "    ## TODO: Complete this function\n",
        "    ## create a sequence of transpose + optional batch norm layers\n",
        "    layers = []\n",
        "    transpose_conv_layer = nn.ConvTranspose2d(in_channels, out_channels, kernel_size, stride, padding, bias=False)\n",
        "\n",
        "    #append transpose convolutional layer\n",
        "    layers.append(transpose_conv_layer)\n",
        "\n",
        "    if batch_norm:\n",
        "        #append batchnorm layer\n",
        "        layers.append(nn.BatchNorm2d(out_channels))\n",
        "        \n",
        "    return nn.Sequential(*layers)\n"
      ],
      "execution_count": 0,
      "outputs": []
    },
    {
      "cell_type": "code",
      "metadata": {
        "id": "xxI5N58gjJT6",
        "colab_type": "code",
        "colab": {}
      },
      "source": [
        "class Generator(nn.Module):\n",
        "    \n",
        "    def __init__(self, z_size, conv_dim=32):\n",
        "        super(Generator, self).__init__()\n",
        "\n",
        "        # complete init function\n",
        "        self.conv_dim = conv_dim\n",
        "        # first, fully-connected layer\n",
        "        self.fc = nn.Linear(z_size, conv_dim*4*4*4)\n",
        "\n",
        "        #transpose conv layers\n",
        "        self.t_conv1 = deconv(conv_dim*4, conv_dim*2, 4)\n",
        "        self.t_conv2 = deconv(conv_dim*2, conv_dim, 4)\n",
        "        self.t_conv3 = deconv(conv_dim, 3, 4, batch_norm=False)\n",
        "        \n",
        "        \n",
        "\n",
        "    def forward(self, x):\n",
        "\n",
        "        #fully-connected + reshape\n",
        "        out = self.fc(x)\n",
        "        out = out.view(-1, self.conv_dim*4, 4, 4) #(batch_size, depth, 4, 4)\n",
        "\n",
        "        #hidden transpose conv layers + relu\n",
        "        out = F.relu(self.t_conv1(out))\n",
        "        out = F.relu(self.t_conv2(out))\n",
        "\n",
        "        # last layer + tanh activation\n",
        "        out = self.t_conv3(out)\n",
        "        out = F.tanh(out)\n",
        "\n",
        "        \n",
        "        return out\n",
        "    "
      ],
      "execution_count": 0,
      "outputs": []
    },
    {
      "cell_type": "markdown",
      "metadata": {
        "collapsed": true,
        "id": "o5sHKkeYjJT9",
        "colab_type": "text"
      },
      "source": [
        "## Build complete network\n",
        "\n",
        "Define your models' hyperparameters and instantiate the discriminator and generator from the classes defined above. Make sure you've passed in the correct input arguments."
      ]
    },
    {
      "cell_type": "code",
      "metadata": {
        "id": "Yhndqnz7jJT9",
        "colab_type": "code",
        "colab": {
          "base_uri": "https://localhost:8080/",
          "height": 495
        },
        "outputId": "97f235cc-9ebc-4d61-dbbb-e3ca47555e8d"
      },
      "source": [
        "# define hyperparams\n",
        "conv_dim = 32\n",
        "z_size = 100\n",
        "\n",
        "# define discriminator and generator\n",
        "D = Discriminator(conv_dim)\n",
        "G = Generator(z_size=z_size, conv_dim=conv_dim)\n",
        "\n",
        "print(D)\n",
        "print()\n",
        "print(G)"
      ],
      "execution_count": 33,
      "outputs": [
        {
          "output_type": "stream",
          "text": [
            "Discriminator(\n",
            "  (conv1): Sequential(\n",
            "    (0): Conv2d(3, 32, kernel_size=(4, 4), stride=(2, 2), padding=(1, 1), bias=False)\n",
            "  )\n",
            "  (conv2): Sequential(\n",
            "    (0): Conv2d(32, 64, kernel_size=(4, 4), stride=(2, 2), padding=(1, 1), bias=False)\n",
            "    (1): BatchNorm2d(64, eps=1e-05, momentum=0.1, affine=True, track_running_stats=True)\n",
            "  )\n",
            "  (conv3): Sequential(\n",
            "    (0): Conv2d(64, 128, kernel_size=(4, 4), stride=(2, 2), padding=(1, 1), bias=False)\n",
            "    (1): BatchNorm2d(128, eps=1e-05, momentum=0.1, affine=True, track_running_stats=True)\n",
            "  )\n",
            "  (fc): Linear(in_features=2048, out_features=1, bias=True)\n",
            ")\n",
            "\n",
            "Generator(\n",
            "  (fc): Linear(in_features=100, out_features=2048, bias=True)\n",
            "  (t_conv1): Sequential(\n",
            "    (0): ConvTranspose2d(128, 64, kernel_size=(4, 4), stride=(2, 2), padding=(1, 1), bias=False)\n",
            "    (1): BatchNorm2d(64, eps=1e-05, momentum=0.1, affine=True, track_running_stats=True)\n",
            "  )\n",
            "  (t_conv2): Sequential(\n",
            "    (0): ConvTranspose2d(64, 32, kernel_size=(4, 4), stride=(2, 2), padding=(1, 1), bias=False)\n",
            "    (1): BatchNorm2d(32, eps=1e-05, momentum=0.1, affine=True, track_running_stats=True)\n",
            "  )\n",
            "  (t_conv3): Sequential(\n",
            "    (0): ConvTranspose2d(32, 3, kernel_size=(4, 4), stride=(2, 2), padding=(1, 1), bias=False)\n",
            "  )\n",
            ")\n"
          ],
          "name": "stdout"
        }
      ]
    },
    {
      "cell_type": "markdown",
      "metadata": {
        "id": "W_ejKS9IjJUA",
        "colab_type": "text"
      },
      "source": [
        "### Training on GPU\n",
        "\n",
        "Check if you can train on GPU. If you can, set this as a variable and move your models to GPU. \n",
        "> Later, we'll also move any inputs our models and loss functions see (real_images, z, and ground truth labels) to GPU as well."
      ]
    },
    {
      "cell_type": "code",
      "metadata": {
        "id": "2TEqN91_jJUA",
        "colab_type": "code",
        "colab": {
          "base_uri": "https://localhost:8080/",
          "height": 33
        },
        "outputId": "6f92e073-0923-44e0-a55e-666dadaf6585"
      },
      "source": [
        "train_on_gpu = torch.cuda.is_available()\n",
        "\n",
        "if train_on_gpu:\n",
        "    # move models to GPU\n",
        "    G.cuda()\n",
        "    D.cuda()\n",
        "    print('GPU available for training. Models moved to GPU')\n",
        "else:\n",
        "    print('Training on CPU.')\n",
        "    "
      ],
      "execution_count": 34,
      "outputs": [
        {
          "output_type": "stream",
          "text": [
            "GPU available for training. Models moved to GPU\n"
          ],
          "name": "stdout"
        }
      ]
    },
    {
      "cell_type": "markdown",
      "metadata": {
        "id": "dnIDG27vjJUC",
        "colab_type": "text"
      },
      "source": [
        "---\n",
        "## Discriminator and Generator Losses\n",
        "\n",
        "Now we need to calculate the losses. And this will be exactly the same as before.\n",
        "\n",
        "### Discriminator Losses\n",
        "\n",
        "> * For the discriminator, the total loss is the sum of the losses for real and fake images, `d_loss = d_real_loss + d_fake_loss`. \n",
        "* Remember that we want the discriminator to output 1 for real images and 0 for fake images, so we need to set up the losses to reflect that.\n",
        "\n",
        "The losses will by binary cross entropy loss with logits, which we can get with [BCEWithLogitsLoss](https://pytorch.org/docs/stable/nn.html#bcewithlogitsloss). This combines a `sigmoid` activation function **and** and binary cross entropy loss in one function.\n",
        "\n",
        "For the real images, we want `D(real_images) = 1`. That is, we want the discriminator to classify the the real images with a label = 1, indicating that these are real. The discriminator loss for the fake data is similar. We want `D(fake_images) = 0`, where the fake images are the _generator output_, `fake_images = G(z)`. \n",
        "\n",
        "### Generator Loss\n",
        "\n",
        "The generator loss will look similar only with flipped labels. The generator's goal is to get `D(fake_images) = 1`. In this case, the labels are **flipped** to represent that the generator is trying to fool the discriminator into thinking that the images it generates (fakes) are real!"
      ]
    },
    {
      "cell_type": "code",
      "metadata": {
        "id": "bOblsQj9jJUD",
        "colab_type": "code",
        "colab": {}
      },
      "source": [
        "def real_loss(D_out, smooth=False):\n",
        "    batch_size = D_out.size(0)\n",
        "    # label smoothing\n",
        "    if smooth:\n",
        "        # smooth, real labels = 0.9\n",
        "        labels = torch.ones(batch_size)*0.9\n",
        "    else:\n",
        "        labels = torch.ones(batch_size) # real labels = 1\n",
        "    # move labels to GPU if available     \n",
        "    if train_on_gpu:\n",
        "        labels = labels.cuda()\n",
        "    # binary cross entropy with logits loss\n",
        "    criterion = nn.BCEWithLogitsLoss()\n",
        "    # calculate loss\n",
        "    loss = criterion(D_out.squeeze(), labels)\n",
        "    return loss\n",
        "\n",
        "def fake_loss(D_out):\n",
        "    batch_size = D_out.size(0)\n",
        "    labels = torch.zeros(batch_size) # fake labels = 0\n",
        "    if train_on_gpu:\n",
        "        labels = labels.cuda()\n",
        "    criterion = nn.BCEWithLogitsLoss()\n",
        "    # calculate loss\n",
        "    loss = criterion(D_out.squeeze(), labels)\n",
        "    return loss"
      ],
      "execution_count": 0,
      "outputs": []
    },
    {
      "cell_type": "markdown",
      "metadata": {
        "id": "_Th980e7jJUF",
        "colab_type": "text"
      },
      "source": [
        "## Optimizers\n",
        "\n",
        "Not much new here, but notice how I am using a small learning rate and custom parameters for the Adam optimizers, This is based on some research into DCGAN model convergence.\n",
        "\n",
        "### Hyperparameters\n",
        "\n",
        "GANs are very sensitive to hyperparameters. A lot of experimentation goes into finding the best hyperparameters such that the generator and discriminator don't overpower each other. Try out your own hyperparameters or read [the DCGAN paper](https://arxiv.org/pdf/1511.06434.pdf) to see what worked for them."
      ]
    },
    {
      "cell_type": "code",
      "metadata": {
        "id": "KeGaepMEjJUG",
        "colab_type": "code",
        "colab": {}
      },
      "source": [
        "import torch.optim as optim\n",
        "\n",
        "# params\n",
        "lr = 0.0002\n",
        "beta1= 0.5\n",
        "beta2= 0.999\n",
        "\n",
        "# Create optimizers for the discriminator and generator\n",
        "d_optimizer = optim.Adam(D.parameters(), lr, [beta1, beta2])\n",
        "g_optimizer = optim.Adam(G.parameters(), lr, [beta1, beta2])"
      ],
      "execution_count": 0,
      "outputs": []
    },
    {
      "cell_type": "markdown",
      "metadata": {
        "id": "blx7DEfljJUJ",
        "colab_type": "text"
      },
      "source": [
        "---\n",
        "## Training\n",
        "\n",
        "Training will involve alternating between training the discriminator and the generator. We'll use our functions `real_loss` and `fake_loss` to help us calculate the discriminator losses in all of the following cases.\n",
        "\n",
        "### Discriminator training\n",
        "1. Compute the discriminator loss on real, training images        \n",
        "2. Generate fake images\n",
        "3. Compute the discriminator loss on fake, generated images     \n",
        "4. Add up real and fake loss\n",
        "5. Perform backpropagation + an optimization step to update the discriminator's weights\n",
        "\n",
        "### Generator training\n",
        "1. Generate fake images\n",
        "2. Compute the discriminator loss on fake images, using **flipped** labels!\n",
        "3. Perform backpropagation + an optimization step to update the generator's weights\n",
        "\n",
        "#### Saving Samples\n",
        "\n",
        "As we train, we'll also print out some loss statistics and save some generated \"fake\" samples.\n",
        "\n",
        "**Evaluation mode**\n",
        "\n",
        "Notice that, when we call our generator to create the samples to display, we set our model to evaluation mode: `G.eval()`. That's so the batch normalization layers will use the population statistics rather than the batch statistics (as they do during training), *and* so dropout layers will operate in eval() mode; not turning off any nodes for generating samples."
      ]
    },
    {
      "cell_type": "code",
      "metadata": {
        "id": "mRl996Z0jJUK",
        "colab_type": "code",
        "colab": {
          "base_uri": "https://localhost:8080/",
          "height": 1000
        },
        "outputId": "da51cad5-ef07-48ce-ed95-d1db2d837fc1"
      },
      "source": [
        "import pickle as pkl\n",
        "\n",
        "# training hyperparams\n",
        "num_epochs = 100\n",
        "\n",
        "# keep track of loss and generated, \"fake\" samples\n",
        "samples = []\n",
        "losses = []\n",
        "\n",
        "print_every = 300\n",
        "\n",
        "# Get some fixed data for sampling. These are images that are held\n",
        "# constant throughout training, and allow us to inspect the model's performance\n",
        "sample_size=16\n",
        "fixed_z = np.random.uniform(-1, 1, size=(sample_size, z_size))\n",
        "fixed_z = torch.from_numpy(fixed_z).float()\n",
        "\n",
        "# train the network\n",
        "for epoch in range(num_epochs):\n",
        "    \n",
        "    for batch_i, (real_images, _) in enumerate(train_loader):\n",
        "                \n",
        "        batch_size = real_images.size(0)\n",
        "        \n",
        "        # important rescaling step\n",
        "        real_images = scale(real_images)\n",
        "        \n",
        "        # ============================================\n",
        "        #            TRAIN THE DISCRIMINATOR\n",
        "        # ============================================\n",
        "        \n",
        "        d_optimizer.zero_grad()\n",
        "        \n",
        "        # 1. Train with real images\n",
        "\n",
        "        # Compute the discriminator losses on real images \n",
        "        if train_on_gpu:\n",
        "            real_images = real_images.cuda()\n",
        "        \n",
        "        D_real = D(real_images)\n",
        "        d_real_loss = real_loss(D_real)\n",
        "        \n",
        "        # 2. Train with fake images\n",
        "        \n",
        "        # Generate fake images\n",
        "        z = np.random.uniform(-1, 1, size=(batch_size, z_size))\n",
        "        z = torch.from_numpy(z).float()\n",
        "        # move x to GPU, if available\n",
        "        if train_on_gpu:\n",
        "            z = z.cuda()\n",
        "        fake_images = G(z)\n",
        "        \n",
        "        # Compute the discriminator losses on fake images            \n",
        "        D_fake = D(fake_images)\n",
        "        d_fake_loss = fake_loss(D_fake)\n",
        "        \n",
        "        # add up loss and perform backprop\n",
        "        d_loss = d_real_loss + d_fake_loss\n",
        "        d_loss.backward()\n",
        "        d_optimizer.step()\n",
        "        \n",
        "        \n",
        "        # =========================================\n",
        "        #            TRAIN THE GENERATOR\n",
        "        # =========================================\n",
        "        g_optimizer.zero_grad()\n",
        "        \n",
        "        # 1. Train with fake images and flipped labels\n",
        "        \n",
        "        # Generate fake images\n",
        "        z = np.random.uniform(-1, 1, size=(batch_size, z_size))\n",
        "        z = torch.from_numpy(z).float()\n",
        "        if train_on_gpu:\n",
        "            z = z.cuda()\n",
        "        fake_images = G(z)\n",
        "        \n",
        "        # Compute the discriminator losses on fake images \n",
        "        # using flipped labels!\n",
        "        D_fake = D(fake_images)\n",
        "        g_loss = real_loss(D_fake) # use real loss to flip labels\n",
        "        \n",
        "        # perform backprop\n",
        "        g_loss.backward()\n",
        "        g_optimizer.step()\n",
        "\n",
        "        # Print some loss stats\n",
        "        if batch_i % print_every == 0:\n",
        "            # append discriminator loss and generator loss\n",
        "            losses.append((d_loss.item(), g_loss.item()))\n",
        "            # print discriminator and generator loss\n",
        "            print('Epoch [{:5d}/{:5d}] | d_loss: {:6.4f} | g_loss: {:6.4f}'.format(\n",
        "                    epoch+1, num_epochs, d_loss.item(), g_loss.item()))\n",
        "\n",
        "    \n",
        "    ## AFTER EACH EPOCH##    \n",
        "    # generate and save sample, fake images\n",
        "    G.eval() # for generating samples\n",
        "    if train_on_gpu:\n",
        "        fixed_z = fixed_z.cuda()\n",
        "    samples_z = G(fixed_z)\n",
        "    samples.append(samples_z)\n",
        "    G.train() # back to training mode\n",
        "\n",
        "\n",
        "# Save training generator samples\n",
        "with open('train_samples.pkl', 'wb') as f:\n",
        "    pkl.dump(samples, f)"
      ],
      "execution_count": 38,
      "outputs": [
        {
          "output_type": "stream",
          "text": [
            "/usr/local/lib/python3.6/dist-packages/torch/nn/functional.py:1340: UserWarning: nn.functional.tanh is deprecated. Use torch.tanh instead.\n",
            "  warnings.warn(\"nn.functional.tanh is deprecated. Use torch.tanh instead.\")\n"
          ],
          "name": "stderr"
        },
        {
          "output_type": "stream",
          "text": [
            "Epoch [    1/  100] | d_loss: 0.3953 | g_loss: 3.6414\n",
            "Epoch [    1/  100] | d_loss: 0.2078 | g_loss: 2.6764\n",
            "Epoch [    2/  100] | d_loss: 0.2450 | g_loss: 4.4233\n",
            "Epoch [    2/  100] | d_loss: 0.1773 | g_loss: 3.2210\n",
            "Epoch [    3/  100] | d_loss: 0.1118 | g_loss: 3.4368\n",
            "Epoch [    3/  100] | d_loss: 0.2118 | g_loss: 3.4941\n",
            "Epoch [    4/  100] | d_loss: 0.2319 | g_loss: 4.5081\n",
            "Epoch [    4/  100] | d_loss: 0.1403 | g_loss: 3.9777\n",
            "Epoch [    5/  100] | d_loss: 0.1192 | g_loss: 3.3817\n",
            "Epoch [    5/  100] | d_loss: 0.2762 | g_loss: 2.7764\n",
            "Epoch [    6/  100] | d_loss: 0.1257 | g_loss: 3.8796\n",
            "Epoch [    6/  100] | d_loss: 0.1080 | g_loss: 3.2924\n",
            "Epoch [    7/  100] | d_loss: 0.1175 | g_loss: 3.0831\n",
            "Epoch [    7/  100] | d_loss: 0.1757 | g_loss: 3.9661\n",
            "Epoch [    8/  100] | d_loss: 0.2782 | g_loss: 2.2603\n",
            "Epoch [    8/  100] | d_loss: 0.1024 | g_loss: 4.8932\n",
            "Epoch [    9/  100] | d_loss: 0.2323 | g_loss: 1.9010\n",
            "Epoch [    9/  100] | d_loss: 0.0890 | g_loss: 4.1035\n",
            "Epoch [   10/  100] | d_loss: 0.0888 | g_loss: 4.3155\n",
            "Epoch [   10/  100] | d_loss: 0.0754 | g_loss: 3.8386\n",
            "Epoch [   11/  100] | d_loss: 0.0728 | g_loss: 3.6328\n",
            "Epoch [   11/  100] | d_loss: 0.0864 | g_loss: 4.1363\n",
            "Epoch [   12/  100] | d_loss: 0.1024 | g_loss: 3.8826\n",
            "Epoch [   12/  100] | d_loss: 0.1087 | g_loss: 3.8520\n",
            "Epoch [   13/  100] | d_loss: 0.3915 | g_loss: 5.5095\n",
            "Epoch [   13/  100] | d_loss: 2.8656 | g_loss: 10.1453\n",
            "Epoch [   14/  100] | d_loss: 0.0845 | g_loss: 4.2733\n",
            "Epoch [   14/  100] | d_loss: 0.3189 | g_loss: 1.0219\n",
            "Epoch [   15/  100] | d_loss: 1.3192 | g_loss: 9.3035\n",
            "Epoch [   15/  100] | d_loss: 0.0713 | g_loss: 3.9359\n",
            "Epoch [   16/  100] | d_loss: 0.0583 | g_loss: 4.6061\n",
            "Epoch [   16/  100] | d_loss: 2.9904 | g_loss: 0.0173\n",
            "Epoch [   17/  100] | d_loss: 0.0328 | g_loss: 4.5458\n",
            "Epoch [   17/  100] | d_loss: 0.0969 | g_loss: 4.3604\n",
            "Epoch [   18/  100] | d_loss: 0.2176 | g_loss: 4.4957\n",
            "Epoch [   18/  100] | d_loss: 0.0575 | g_loss: 3.6668\n",
            "Epoch [   19/  100] | d_loss: 0.1824 | g_loss: 3.8035\n",
            "Epoch [   19/  100] | d_loss: 0.1143 | g_loss: 3.1066\n",
            "Epoch [   20/  100] | d_loss: 0.0982 | g_loss: 3.9458\n",
            "Epoch [   20/  100] | d_loss: 0.0854 | g_loss: 4.6132\n",
            "Epoch [   21/  100] | d_loss: 0.1076 | g_loss: 4.3568\n",
            "Epoch [   21/  100] | d_loss: 0.0313 | g_loss: 4.2519\n",
            "Epoch [   22/  100] | d_loss: 0.1318 | g_loss: 3.9073\n",
            "Epoch [   22/  100] | d_loss: 0.1149 | g_loss: 4.8498\n",
            "Epoch [   23/  100] | d_loss: 0.0616 | g_loss: 4.1063\n",
            "Epoch [   23/  100] | d_loss: 0.3176 | g_loss: 3.6051\n",
            "Epoch [   24/  100] | d_loss: 0.0760 | g_loss: 4.4471\n",
            "Epoch [   24/  100] | d_loss: 0.0809 | g_loss: 4.4353\n",
            "Epoch [   25/  100] | d_loss: 0.0399 | g_loss: 4.6079\n",
            "Epoch [   25/  100] | d_loss: 0.0565 | g_loss: 5.4585\n",
            "Epoch [   26/  100] | d_loss: 0.0766 | g_loss: 4.6253\n",
            "Epoch [   26/  100] | d_loss: 0.0895 | g_loss: 5.2978\n",
            "Epoch [   27/  100] | d_loss: 0.0509 | g_loss: 3.2720\n",
            "Epoch [   27/  100] | d_loss: 0.0595 | g_loss: 5.4400\n",
            "Epoch [   28/  100] | d_loss: 1.3389 | g_loss: 11.8283\n",
            "Epoch [   28/  100] | d_loss: 0.0470 | g_loss: 3.5734\n",
            "Epoch [   29/  100] | d_loss: 0.0986 | g_loss: 4.8098\n",
            "Epoch [   29/  100] | d_loss: 0.0527 | g_loss: 4.3404\n",
            "Epoch [   30/  100] | d_loss: 0.1254 | g_loss: 4.8793\n",
            "Epoch [   30/  100] | d_loss: 0.0463 | g_loss: 4.0180\n",
            "Epoch [   31/  100] | d_loss: 0.3375 | g_loss: 3.1518\n",
            "Epoch [   31/  100] | d_loss: 0.0403 | g_loss: 4.1276\n",
            "Epoch [   32/  100] | d_loss: 0.0452 | g_loss: 6.0189\n",
            "Epoch [   32/  100] | d_loss: 0.0500 | g_loss: 4.6198\n",
            "Epoch [   33/  100] | d_loss: 0.0409 | g_loss: 5.6394\n",
            "Epoch [   33/  100] | d_loss: 0.1229 | g_loss: 3.9806\n",
            "Epoch [   34/  100] | d_loss: 0.7297 | g_loss: 4.0499\n",
            "Epoch [   34/  100] | d_loss: 0.1014 | g_loss: 4.2509\n",
            "Epoch [   35/  100] | d_loss: 0.0625 | g_loss: 4.9088\n",
            "Epoch [   35/  100] | d_loss: 0.0463 | g_loss: 4.5985\n",
            "Epoch [   36/  100] | d_loss: 0.0441 | g_loss: 4.5622\n",
            "Epoch [   36/  100] | d_loss: 0.1170 | g_loss: 3.2117\n",
            "Epoch [   37/  100] | d_loss: 0.0299 | g_loss: 3.7292\n",
            "Epoch [   37/  100] | d_loss: 0.0525 | g_loss: 5.5574\n",
            "Epoch [   38/  100] | d_loss: 0.0759 | g_loss: 4.7624\n",
            "Epoch [   38/  100] | d_loss: 0.0368 | g_loss: 5.9285\n",
            "Epoch [   39/  100] | d_loss: 0.0412 | g_loss: 5.7437\n",
            "Epoch [   39/  100] | d_loss: 0.0316 | g_loss: 5.8436\n",
            "Epoch [   40/  100] | d_loss: 0.0788 | g_loss: 3.6866\n",
            "Epoch [   40/  100] | d_loss: 0.0283 | g_loss: 6.5493\n",
            "Epoch [   41/  100] | d_loss: 1.2202 | g_loss: 5.9618\n",
            "Epoch [   41/  100] | d_loss: 0.0452 | g_loss: 7.7274\n",
            "Epoch [   42/  100] | d_loss: 0.0958 | g_loss: 5.5379\n",
            "Epoch [   42/  100] | d_loss: 0.0430 | g_loss: 5.0879\n",
            "Epoch [   43/  100] | d_loss: 0.0162 | g_loss: 5.6553\n",
            "Epoch [   43/  100] | d_loss: 0.0335 | g_loss: 5.9314\n",
            "Epoch [   44/  100] | d_loss: 0.0257 | g_loss: 6.1249\n",
            "Epoch [   44/  100] | d_loss: 0.0157 | g_loss: 7.0678\n",
            "Epoch [   45/  100] | d_loss: 0.0109 | g_loss: 6.4047\n",
            "Epoch [   45/  100] | d_loss: 0.0414 | g_loss: 7.0286\n",
            "Epoch [   46/  100] | d_loss: 0.0835 | g_loss: 6.7959\n",
            "Epoch [   46/  100] | d_loss: 0.0389 | g_loss: 6.1230\n",
            "Epoch [   47/  100] | d_loss: 0.0127 | g_loss: 6.0288\n",
            "Epoch [   47/  100] | d_loss: 0.0337 | g_loss: 5.4613\n",
            "Epoch [   48/  100] | d_loss: 0.0356 | g_loss: 6.9214\n",
            "Epoch [   48/  100] | d_loss: 0.0224 | g_loss: 6.2704\n",
            "Epoch [   49/  100] | d_loss: 0.0257 | g_loss: 7.0551\n",
            "Epoch [   49/  100] | d_loss: 0.0498 | g_loss: 5.0220\n",
            "Epoch [   50/  100] | d_loss: 0.0477 | g_loss: 10.5021\n",
            "Epoch [   50/  100] | d_loss: 0.0606 | g_loss: 5.4490\n",
            "Epoch [   51/  100] | d_loss: 0.0322 | g_loss: 6.6270\n",
            "Epoch [   51/  100] | d_loss: 0.0630 | g_loss: 4.7479\n",
            "Epoch [   52/  100] | d_loss: 0.0138 | g_loss: 7.1463\n",
            "Epoch [   52/  100] | d_loss: 0.0737 | g_loss: 7.1268\n",
            "Epoch [   53/  100] | d_loss: 0.0522 | g_loss: 6.7547\n",
            "Epoch [   53/  100] | d_loss: 0.0293 | g_loss: 6.6887\n",
            "Epoch [   54/  100] | d_loss: 0.1237 | g_loss: 4.5638\n",
            "Epoch [   54/  100] | d_loss: 0.0719 | g_loss: 6.4878\n",
            "Epoch [   55/  100] | d_loss: 0.0242 | g_loss: 5.5483\n",
            "Epoch [   55/  100] | d_loss: 0.0237 | g_loss: 6.1846\n",
            "Epoch [   56/  100] | d_loss: 0.0164 | g_loss: 6.9923\n",
            "Epoch [   56/  100] | d_loss: 0.0194 | g_loss: 6.1461\n",
            "Epoch [   57/  100] | d_loss: 0.0072 | g_loss: 6.7777\n",
            "Epoch [   57/  100] | d_loss: 0.0477 | g_loss: 7.2914\n",
            "Epoch [   58/  100] | d_loss: 0.0077 | g_loss: 6.2906\n",
            "Epoch [   58/  100] | d_loss: 0.0228 | g_loss: 6.5058\n",
            "Epoch [   59/  100] | d_loss: 0.0388 | g_loss: 5.2314\n",
            "Epoch [   59/  100] | d_loss: 0.0322 | g_loss: 8.7034\n",
            "Epoch [   60/  100] | d_loss: 0.0099 | g_loss: 9.1268\n",
            "Epoch [   60/  100] | d_loss: 0.0256 | g_loss: 6.9708\n",
            "Epoch [   61/  100] | d_loss: 0.0420 | g_loss: 7.4567\n",
            "Epoch [   61/  100] | d_loss: 0.0240 | g_loss: 6.5284\n",
            "Epoch [   62/  100] | d_loss: 0.0058 | g_loss: 7.6634\n",
            "Epoch [   62/  100] | d_loss: 0.0113 | g_loss: 7.5807\n",
            "Epoch [   63/  100] | d_loss: 0.0673 | g_loss: 6.4372\n",
            "Epoch [   63/  100] | d_loss: 0.0315 | g_loss: 5.2954\n",
            "Epoch [   64/  100] | d_loss: 0.0302 | g_loss: 6.2585\n",
            "Epoch [   64/  100] | d_loss: 0.0218 | g_loss: 7.8701\n",
            "Epoch [   65/  100] | d_loss: 0.0128 | g_loss: 9.9098\n",
            "Epoch [   65/  100] | d_loss: 0.0620 | g_loss: 5.4894\n",
            "Epoch [   66/  100] | d_loss: 0.0039 | g_loss: 11.8837\n",
            "Epoch [   66/  100] | d_loss: 0.1110 | g_loss: 4.9881\n",
            "Epoch [   67/  100] | d_loss: 0.0076 | g_loss: 6.3638\n",
            "Epoch [   67/  100] | d_loss: 0.0086 | g_loss: 6.8138\n",
            "Epoch [   68/  100] | d_loss: 0.0235 | g_loss: 6.7962\n",
            "Epoch [   68/  100] | d_loss: 0.0542 | g_loss: 5.6977\n",
            "Epoch [   69/  100] | d_loss: 0.1251 | g_loss: 10.7516\n",
            "Epoch [   69/  100] | d_loss: 0.0089 | g_loss: 6.6686\n",
            "Epoch [   70/  100] | d_loss: 0.0072 | g_loss: 7.8457\n",
            "Epoch [   70/  100] | d_loss: 0.0077 | g_loss: 6.4976\n",
            "Epoch [   71/  100] | d_loss: 0.0737 | g_loss: 7.6309\n",
            "Epoch [   71/  100] | d_loss: 0.0050 | g_loss: 6.5266\n",
            "Epoch [   72/  100] | d_loss: 0.0328 | g_loss: 7.0916\n",
            "Epoch [   72/  100] | d_loss: 0.0914 | g_loss: 6.5572\n",
            "Epoch [   73/  100] | d_loss: 0.0050 | g_loss: 7.7908\n",
            "Epoch [   73/  100] | d_loss: 0.0447 | g_loss: 5.9558\n",
            "Epoch [   74/  100] | d_loss: 0.0486 | g_loss: 7.4431\n",
            "Epoch [   74/  100] | d_loss: 0.0973 | g_loss: 6.5253\n",
            "Epoch [   75/  100] | d_loss: 0.0295 | g_loss: 7.8065\n",
            "Epoch [   75/  100] | d_loss: 0.0353 | g_loss: 6.7522\n",
            "Epoch [   76/  100] | d_loss: 0.0197 | g_loss: 6.4932\n",
            "Epoch [   76/  100] | d_loss: 0.0118 | g_loss: 7.0129\n",
            "Epoch [   77/  100] | d_loss: 0.0169 | g_loss: 5.0606\n",
            "Epoch [   77/  100] | d_loss: 0.0073 | g_loss: 6.7302\n",
            "Epoch [   78/  100] | d_loss: 0.0116 | g_loss: 7.6179\n",
            "Epoch [   78/  100] | d_loss: 0.0095 | g_loss: 7.9635\n",
            "Epoch [   79/  100] | d_loss: 2.6286 | g_loss: 25.9156\n",
            "Epoch [   79/  100] | d_loss: 0.1063 | g_loss: 8.9385\n",
            "Epoch [   80/  100] | d_loss: 0.0247 | g_loss: 7.2138\n",
            "Epoch [   80/  100] | d_loss: 0.0127 | g_loss: 8.7371\n",
            "Epoch [   81/  100] | d_loss: 0.1502 | g_loss: 10.8536\n",
            "Epoch [   81/  100] | d_loss: 0.0159 | g_loss: 6.5306\n",
            "Epoch [   82/  100] | d_loss: 0.0097 | g_loss: 7.1535\n",
            "Epoch [   82/  100] | d_loss: 0.0111 | g_loss: 6.0086\n",
            "Epoch [   83/  100] | d_loss: 0.0299 | g_loss: 6.4906\n",
            "Epoch [   83/  100] | d_loss: 0.0031 | g_loss: 7.2830\n",
            "Epoch [   84/  100] | d_loss: 0.0449 | g_loss: 5.4006\n",
            "Epoch [   84/  100] | d_loss: 0.0859 | g_loss: 4.4362\n",
            "Epoch [   85/  100] | d_loss: 0.0367 | g_loss: 4.7136\n",
            "Epoch [   85/  100] | d_loss: 0.0121 | g_loss: 9.7775\n",
            "Epoch [   86/  100] | d_loss: 0.1215 | g_loss: 9.1857\n",
            "Epoch [   86/  100] | d_loss: 0.0426 | g_loss: 6.5449\n",
            "Epoch [   87/  100] | d_loss: 0.0123 | g_loss: 5.8133\n",
            "Epoch [   87/  100] | d_loss: 0.0108 | g_loss: 7.0764\n",
            "Epoch [   88/  100] | d_loss: 0.0191 | g_loss: 6.5750\n",
            "Epoch [   88/  100] | d_loss: 0.0099 | g_loss: 7.4188\n",
            "Epoch [   89/  100] | d_loss: 0.1975 | g_loss: 12.9065\n",
            "Epoch [   89/  100] | d_loss: 0.0069 | g_loss: 8.0289\n",
            "Epoch [   90/  100] | d_loss: 0.0054 | g_loss: 17.9422\n",
            "Epoch [   90/  100] | d_loss: 0.0086 | g_loss: 8.7044\n",
            "Epoch [   91/  100] | d_loss: 0.0027 | g_loss: 8.0033\n",
            "Epoch [   91/  100] | d_loss: 0.0370 | g_loss: 6.6078\n",
            "Epoch [   92/  100] | d_loss: 0.0127 | g_loss: 8.9170\n",
            "Epoch [   92/  100] | d_loss: 0.0197 | g_loss: 10.0301\n",
            "Epoch [   93/  100] | d_loss: 0.1158 | g_loss: 3.7857\n",
            "Epoch [   93/  100] | d_loss: 0.0376 | g_loss: 5.5441\n",
            "Epoch [   94/  100] | d_loss: 0.0010 | g_loss: 6.8078\n",
            "Epoch [   94/  100] | d_loss: 0.0193 | g_loss: 8.3090\n",
            "Epoch [   95/  100] | d_loss: 0.0626 | g_loss: 10.4171\n",
            "Epoch [   95/  100] | d_loss: 0.0070 | g_loss: 6.9997\n",
            "Epoch [   96/  100] | d_loss: 0.0083 | g_loss: 7.5903\n",
            "Epoch [   96/  100] | d_loss: 0.0301 | g_loss: 9.7798\n",
            "Epoch [   97/  100] | d_loss: 0.0074 | g_loss: 7.5767\n",
            "Epoch [   97/  100] | d_loss: 0.0046 | g_loss: 7.8536\n",
            "Epoch [   98/  100] | d_loss: 0.0155 | g_loss: 7.2940\n",
            "Epoch [   98/  100] | d_loss: 0.0133 | g_loss: 7.7632\n",
            "Epoch [   99/  100] | d_loss: 0.0080 | g_loss: 7.3883\n",
            "Epoch [   99/  100] | d_loss: 0.0144 | g_loss: 6.5787\n",
            "Epoch [  100/  100] | d_loss: 0.0233 | g_loss: 6.3428\n",
            "Epoch [  100/  100] | d_loss: 0.0395 | g_loss: 6.8250\n"
          ],
          "name": "stdout"
        }
      ]
    },
    {
      "cell_type": "markdown",
      "metadata": {
        "id": "MwYZ5Tv_jJUM",
        "colab_type": "text"
      },
      "source": [
        "## Training loss\n",
        "\n",
        "Here we'll plot the training losses for the generator and discriminator, recorded after each epoch."
      ]
    },
    {
      "cell_type": "code",
      "metadata": {
        "id": "zKA9LBzjjJUN",
        "colab_type": "code",
        "colab": {
          "base_uri": "https://localhost:8080/",
          "height": 297
        },
        "outputId": "5e29c615-5d2a-4bdc-9e89-b3cc8764c407"
      },
      "source": [
        "fig, ax = plt.subplots()\n",
        "losses = np.array(losses)\n",
        "plt.plot(losses.T[0], label='Discriminator', alpha=0.5)\n",
        "plt.plot(losses.T[1], label='Generator', alpha=0.5)\n",
        "plt.title(\"Training Losses\")\n",
        "plt.legend()"
      ],
      "execution_count": 39,
      "outputs": [
        {
          "output_type": "execute_result",
          "data": {
            "text/plain": [
              "<matplotlib.legend.Legend at 0x7faf247a5a90>"
            ]
          },
          "metadata": {
            "tags": []
          },
          "execution_count": 39
        },
        {
          "output_type": "display_data",
          "data": {
            "image/png": "[encoded data removed]",
            "text/plain": [
              "<Figure size 432x288 with 1 Axes>"
            ]
          },
          "metadata": {
            "tags": []
          }
        }
      ]
    },
    {
      "cell_type": "markdown",
      "metadata": {
        "collapsed": true,
        "id": "PgIhhOyvjJUP",
        "colab_type": "text"
      },
      "source": [
        "## Generator samples from training\n",
        "\n",
        "Here we can view samples of images from the generator. We'll look at the images we saved during training."
      ]
    },
    {
      "cell_type": "code",
      "metadata": {
        "id": "kHTXG8JjjJUR",
        "colab_type": "code",
        "colab": {}
      },
      "source": [
        "# helper function for viewing a list of passed in sample images\n",
        "def view_samples(epoch, samples):\n",
        "    fig, axes = plt.subplots(figsize=(16,4), nrows=2, ncols=8, sharey=True, sharex=True)\n",
        "    for ax, img in zip(axes.flatten(), samples[epoch]):\n",
        "        img = img.detach().cpu().numpy()\n",
        "        img = np.transpose(img, (1, 2, 0))\n",
        "        img = ((img +1)*255 / (2)).astype(np.uint8) # rescale to pixel range (0-255)\n",
        "        ax.xaxis.set_visible(False)\n",
        "        ax.yaxis.set_visible(False)\n",
        "        im = ax.imshow(img.reshape((32,32,3)))"
      ],
      "execution_count": 0,
      "outputs": []
    },
    {
      "cell_type": "code",
      "metadata": {
        "scrolled": true,
        "id": "bacFj8SajJUV",
        "colab_type": "code",
        "colab": {
          "base_uri": "https://localhost:8080/",
          "height": 247
        },
        "outputId": "b4bd8b80-541e-495a-e935-68dde8e45917"
      },
      "source": [
        "_ = view_samples(-1, samples)"
      ],
      "execution_count": 41,
      "outputs": [
        {
          "output_type": "display_data",
          "data": {
            "image/png": "[encoded data removed]",
            "text/plain": [
              "<Figure size 1152x288 with 16 Axes>"
            ]
          },
          "metadata": {
            "tags": []
          }
        }
      ]
    }
  ]
}