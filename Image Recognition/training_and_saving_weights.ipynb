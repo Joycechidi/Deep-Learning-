{
 "cells": [
  {
   "cell_type": "code",
   "execution_count": 3,
   "metadata": {},
   "outputs": [],
   "source": [
    "import keras\n",
    "from keras.datasets import cifar10\n",
    "from keras.models import Sequential\n",
    "from keras.layers import Dense, Dropout, Flatten, Conv2D, MaxPooling2D\n",
    "from pathlib import Path"
   ]
  },
  {
   "cell_type": "code",
   "execution_count": 4,
   "metadata": {},
   "outputs": [],
   "source": [
    "# Load data set\n",
    "(x_train, y_train), (x_test, y_test) = cifar10.load_data()"
   ]
  },
  {
   "cell_type": "code",
   "execution_count": 5,
   "metadata": {},
   "outputs": [],
   "source": [
    "# Normalize data set to 0-to-1 range\n",
    "x_train = x_train.astype('float32')\n",
    "x_test = x_test.astype('float32')\n",
    "x_train /= 255\n",
    "x_test /= 255"
   ]
  },
  {
   "cell_type": "code",
   "execution_count": 6,
   "metadata": {},
   "outputs": [],
   "source": [
    "# Convert class vectors to binary class matrices\n",
    "y_train = keras.utils.to_categorical(y_train, 10)\n",
    "y_test = keras.utils.to_categorical(y_test, 10)"
   ]
  },
  {
   "cell_type": "code",
   "execution_count": 7,
   "metadata": {},
   "outputs": [],
   "source": [
    "# Create a model and add layers\n",
    "model = Sequential()"
   ]
  },
  {
   "cell_type": "code",
   "execution_count": 8,
   "metadata": {},
   "outputs": [],
   "source": [
    "model.add(Conv2D(32, (3, 3), padding='same', input_shape=(32, 32, 3), activation=\"relu\"))\n",
    "model.add(Conv2D(32, (3, 3), activation=\"relu\"))\n",
    "model.add(MaxPooling2D(pool_size=(2, 2)))\n",
    "model.add(Dropout(0.25))\n"
   ]
  },
  {
   "cell_type": "code",
   "execution_count": 9,
   "metadata": {},
   "outputs": [],
   "source": [
    "model.add(Conv2D(64, (3, 3), padding='same', activation=\"relu\"))\n",
    "model.add(Conv2D(64, (3, 3), activation=\"relu\"))\n",
    "model.add(MaxPooling2D(pool_size=(2, 2)))\n",
    "model.add(Dropout(0.25))"
   ]
  },
  {
   "cell_type": "code",
   "execution_count": 10,
   "metadata": {},
   "outputs": [],
   "source": [
    "model.add(Flatten())\n",
    "model.add(Dense(512, activation=\"relu\"))\n",
    "model.add(Dropout(0.5))\n",
    "model.add(Dense(10, activation=\"softmax\"))"
   ]
  },
  {
   "cell_type": "code",
   "execution_count": 11,
   "metadata": {},
   "outputs": [],
   "source": [
    "# Compile the model\n",
    "model.compile(\n",
    "    loss='categorical_crossentropy',\n",
    "    optimizer='adam',\n",
    "    metrics=['accuracy']\n",
    ")\n"
   ]
  },
  {
   "cell_type": "code",
   "execution_count": 12,
   "metadata": {},
   "outputs": [
    {
     "name": "stdout",
     "output_type": "stream",
     "text": [
      "Train on 50000 samples, validate on 10000 samples\n",
      "Epoch 1/30\n",
      "50000/50000 [==============================] - 142s 3ms/step - loss: 1.5686 - acc: 0.4245 - val_loss: 1.1727 - val_acc: 0.5823\n",
      "Epoch 2/30\n",
      "50000/50000 [==============================] - 139s 3ms/step - loss: 1.1507 - acc: 0.5916 - val_loss: 1.0198 - val_acc: 0.6394\n",
      "Epoch 3/30\n",
      "50000/50000 [==============================] - 136s 3ms/step - loss: 0.9906 - acc: 0.6502 - val_loss: 0.8918 - val_acc: 0.6940\n",
      "Epoch 4/30\n",
      "50000/50000 [==============================] - 137s 3ms/step - loss: 0.8978 - acc: 0.6859 - val_loss: 0.8347 - val_acc: 0.7100\n",
      "Epoch 5/30\n",
      "50000/50000 [==============================] - 137s 3ms/step - loss: 0.8252 - acc: 0.7115 - val_loss: 0.7619 - val_acc: 0.7331\n",
      "Epoch 6/30\n",
      "50000/50000 [==============================] - 138s 3ms/step - loss: 0.7646 - acc: 0.7327 - val_loss: 0.7648 - val_acc: 0.7379\n",
      "Epoch 7/30\n",
      "50000/50000 [==============================] - 133s 3ms/step - loss: 0.7216 - acc: 0.7455 - val_loss: 0.6988 - val_acc: 0.7617\n",
      "Epoch 8/30\n",
      "50000/50000 [==============================] - 134s 3ms/step - loss: 0.6877 - acc: 0.7596 - val_loss: 0.7106 - val_acc: 0.7553\n",
      "Epoch 9/30\n",
      "50000/50000 [==============================] - 137s 3ms/step - loss: 0.6422 - acc: 0.7743 - val_loss: 0.6713 - val_acc: 0.7671\n",
      "Epoch 10/30\n",
      "50000/50000 [==============================] - 138s 3ms/step - loss: 0.6233 - acc: 0.7798 - val_loss: 0.6607 - val_acc: 0.7720\n",
      "Epoch 11/30\n",
      "50000/50000 [==============================] - 142s 3ms/step - loss: 0.5922 - acc: 0.7919 - val_loss: 0.6704 - val_acc: 0.7714\n",
      "Epoch 12/30\n",
      "50000/50000 [==============================] - 139s 3ms/step - loss: 0.5641 - acc: 0.8005 - val_loss: 0.6316 - val_acc: 0.7857\n",
      "Epoch 13/30\n",
      "50000/50000 [==============================] - 140s 3ms/step - loss: 0.5441 - acc: 0.8072 - val_loss: 0.6607 - val_acc: 0.7795\n",
      "Epoch 14/30\n",
      "50000/50000 [==============================] - 139s 3ms/step - loss: 0.5307 - acc: 0.8108 - val_loss: 0.6733 - val_acc: 0.7770\n",
      "Epoch 15/30\n",
      "50000/50000 [==============================] - 138s 3ms/step - loss: 0.5042 - acc: 0.8210 - val_loss: 0.6273 - val_acc: 0.7876\n",
      "Epoch 16/30\n",
      "50000/50000 [==============================] - 140s 3ms/step - loss: 0.4908 - acc: 0.8260 - val_loss: 0.6338 - val_acc: 0.7874\n",
      "Epoch 17/30\n",
      "50000/50000 [==============================] - 138s 3ms/step - loss: 0.4865 - acc: 0.8279 - val_loss: 0.6470 - val_acc: 0.7846\n",
      "Epoch 18/30\n",
      "50000/50000 [==============================] - 137s 3ms/step - loss: 0.4638 - acc: 0.8354 - val_loss: 0.6231 - val_acc: 0.7929\n",
      "Epoch 19/30\n",
      "50000/50000 [==============================] - 139s 3ms/step - loss: 0.4525 - acc: 0.8409 - val_loss: 0.6489 - val_acc: 0.7852\n",
      "Epoch 20/30\n",
      "50000/50000 [==============================] - 140s 3ms/step - loss: 0.4428 - acc: 0.8436 - val_loss: 0.6729 - val_acc: 0.7867\n",
      "Epoch 21/30\n",
      "50000/50000 [==============================] - 144s 3ms/step - loss: 0.4318 - acc: 0.8482 - val_loss: 0.6147 - val_acc: 0.8014\n",
      "Epoch 22/30\n",
      "50000/50000 [==============================] - 141s 3ms/step - loss: 0.4219 - acc: 0.8493 - val_loss: 0.6271 - val_acc: 0.7930\n",
      "Epoch 23/30\n",
      "50000/50000 [==============================] - 136s 3ms/step - loss: 0.4099 - acc: 0.8546 - val_loss: 0.6319 - val_acc: 0.7963\n",
      "Epoch 24/30\n",
      "50000/50000 [==============================] - 137s 3ms/step - loss: 0.4031 - acc: 0.8581 - val_loss: 0.6608 - val_acc: 0.7921\n",
      "Epoch 25/30\n",
      "50000/50000 [==============================] - 135s 3ms/step - loss: 0.3841 - acc: 0.8643 - val_loss: 0.6409 - val_acc: 0.7977\n",
      "Epoch 26/30\n",
      "50000/50000 [==============================] - 135s 3ms/step - loss: 0.3931 - acc: 0.8631 - val_loss: 0.6450 - val_acc: 0.7923\n",
      "Epoch 27/30\n",
      "50000/50000 [==============================] - 136s 3ms/step - loss: 0.3835 - acc: 0.8653 - val_loss: 0.6437 - val_acc: 0.7957\n",
      "Epoch 28/30\n",
      "50000/50000 [==============================] - 134s 3ms/step - loss: 0.3731 - acc: 0.8665 - val_loss: 0.6370 - val_acc: 0.7959\n",
      "Epoch 29/30\n",
      "50000/50000 [==============================] - 135s 3ms/step - loss: 0.3707 - acc: 0.8688 - val_loss: 0.6487 - val_acc: 0.7892\n",
      "Epoch 30/30\n",
      "50000/50000 [==============================] - 135s 3ms/step - loss: 0.3699 - acc: 0.8693 - val_loss: 0.6548 - val_acc: 0.7913\n"
     ]
    },
    {
     "data": {
      "text/plain": [
       "<keras.callbacks.History at 0x2466d105b38>"
      ]
     },
     "execution_count": 12,
     "metadata": {},
     "output_type": "execute_result"
    }
   ],
   "source": [
    "# Train the model\n",
    "model.fit(\n",
    "    x_train,\n",
    "    y_train,\n",
    "    batch_size=64,\n",
    "    epochs=30,\n",
    "    validation_data=(x_test, y_test),\n",
    "    shuffle=True\n",
    ")\n"
   ]
  },
  {
   "cell_type": "code",
   "execution_count": 13,
   "metadata": {},
   "outputs": [
    {
     "data": {
      "text/plain": [
       "4335"
      ]
     },
     "execution_count": 13,
     "metadata": {},
     "output_type": "execute_result"
    }
   ],
   "source": [
    "# Save neural network structure\n",
    "#Let's write the network structure into a file we can reuse later\n",
    "my_model_structure = model.to_json()\n",
    "f = Path(\"my_model_structure.json\")\n",
    "f.write_text(my_model_structure)"
   ]
  },
  {
   "cell_type": "code",
   "execution_count": null,
   "metadata": {},
   "outputs": [],
   "source": [
    "# Save neural network's trained weights\n",
    "#.h5 (which is a HDf5 format file) is used for saving and loading large binary files efficiently\n",
    "model.sample_weights(\"my_model_weights.h5\")\n"
   ]
  },
  {
   "cell_type": "code",
   "execution_count": null,
   "metadata": {},
   "outputs": [],
   "source": []
  }
 ],
 "metadata": {
  "kernelspec": {
   "display_name": "Python 3",
   "language": "python",
   "name": "python3"
  },
  "language_info": {
   "codemirror_mode": {
    "name": "ipython",
    "version": 3
   },
   "file_extension": ".py",
   "mimetype": "text/x-python",
   "name": "python",
   "nbconvert_exporter": "python",
   "pygments_lexer": "ipython3",
   "version": "3.6.6"
  }
 },
 "nbformat": 4,
 "nbformat_minor": 2
}
