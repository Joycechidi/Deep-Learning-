{
  "nbformat": 4,
  "nbformat_minor": 0,
  "metadata": {
    "colab": {
      "name": "Tensors_in_PyTorch.ipynb",
      "provenance": [],
      "collapsed_sections": [],
      "include_colab_link": true
    },
    "kernelspec": {
      "name": "python3",
      "display_name": "Python 3"
    }
  },
  "cells": [
    {
      "cell_type": "markdown",
      "metadata": {
        "id": "view-in-github",
        "colab_type": "text"
      },
      "source": [
        "<a href=\"https://colab.research.google.com/github/Joycechidi/Deep-Learning-/blob/master/PyTorch-Practice/Tensors_in_PyTorch.ipynb\" target=\"_parent\"><img src=\"https://colab.research.google.com/assets/colab-badge.svg\" alt=\"Open In Colab\"/></a>"
      ]
    },
    {
      "cell_type": "code",
      "metadata": {
        "id": "zCXBtIz4-GFj",
        "colab_type": "code",
        "colab": {}
      },
      "source": [
        "#First import PyTorch\n",
        "import torch"
      ],
      "execution_count": 0,
      "outputs": []
    },
    {
      "cell_type": "code",
      "metadata": {
        "id": "zIzW0NjpD0zK",
        "colab_type": "code",
        "colab": {}
      },
      "source": [
        "def activation(x):\n",
        "    \"\"\"\n",
        "       Sigmoid activation function\n",
        "    \n",
        "       Arguments\n",
        "       ----------\n",
        "       x: torch.Tensor\n",
        "    \"\"\"\n",
        "    return 1/(1+torch.exp(-x))"
      ],
      "execution_count": 0,
      "outputs": []
    },
    {
      "cell_type": "code",
      "metadata": {
        "id": "1jeghUmDD0u5",
        "colab_type": "code",
        "colab": {}
      },
      "source": [
        "#Generate some random data\n",
        "torch.manual_seed(7) #Set the random seed so things are predictable\n",
        "\n",
        "#Features are 5 random normal variables\n",
        "features = torch.randn((1, 5))\n",
        "\n",
        "#True weights for our data, random normal variables again\n",
        "weights = torch.randn_like(features)\n",
        "\n",
        "# and a true bias term\n",
        "bias = torch.randn((1, 1))"
      ],
      "execution_count": 0,
      "outputs": []
    },
    {
      "cell_type": "markdown",
      "metadata": {
        "id": "WzATq_g5H_7k",
        "colab_type": "text"
      },
      "source": [
        "I will use actual data in my notebooks with time.\n",
        "\n",
        "I'm going to do the following:\n",
        "\n",
        "*   Calculate the output of the network with input features features, weights weights, and bias bias.\n",
        "*   Use the function activation defined above as the activation function.\n",
        "\n",
        "Similar to Numpy, PyTorch has a torch.sum() function, as well as a .sum() method on tensors, for taking sums. I prefer to use matrix multiplication of the features and weights since it is more efficient and accelerated using modern libraries and high-performance computing on GPUs."
      ]
    },
    {
      "cell_type": "code",
      "metadata": {
        "id": "lK9PL8z5D0q-",
        "colab_type": "code",
        "colab": {
          "base_uri": "https://localhost:8080/",
          "height": 184
        },
        "outputId": "fc8db908-3c44-457e-e80f-141317f01495"
      },
      "source": [
        "output = activation(torch.matmul(features, weights))"
      ],
      "execution_count": 9,
      "outputs": [
        {
          "output_type": "error",
          "ename": "RuntimeError",
          "evalue": "ignored",
          "traceback": [
            "\u001b[0;31m---------------------------------------------------------------------------\u001b[0m",
            "\u001b[0;31mRuntimeError\u001b[0m                              Traceback (most recent call last)",
            "\u001b[0;32m<ipython-input-9-b350539b6fb0>\u001b[0m in \u001b[0;36m<module>\u001b[0;34m()\u001b[0m\n\u001b[0;32m----> 1\u001b[0;31m \u001b[0moutput\u001b[0m \u001b[0;34m=\u001b[0m \u001b[0mactivation\u001b[0m\u001b[0;34m(\u001b[0m\u001b[0mtorch\u001b[0m\u001b[0;34m.\u001b[0m\u001b[0mmatmul\u001b[0m\u001b[0;34m(\u001b[0m\u001b[0mfeatures\u001b[0m\u001b[0;34m,\u001b[0m \u001b[0mweights\u001b[0m\u001b[0;34m)\u001b[0m\u001b[0;34m)\u001b[0m\u001b[0;34m\u001b[0m\u001b[0;34m\u001b[0m\u001b[0m\n\u001b[0m",
            "\u001b[0;31mRuntimeError\u001b[0m: size mismatch, m1: [1 x 5], m2: [1 x 5] at /pytorch/aten/src/TH/generic/THTensorMath.cpp:752"
          ]
        }
      ]
    },
    {
      "cell_type": "markdown",
      "metadata": {
        "id": "us24Q8uZLMdu",
        "colab_type": "text"
      },
      "source": [
        "Running the above code as will return a size mismatch error. The shape of the features and weights are very important in running these calculations. In the next cell, I will transpose the weight in order to change the shape of the tensor from 1 x 5 to 5 x 1 so the calculation can go through."
      ]
    },
    {
      "cell_type": "code",
      "metadata": {
        "id": "MZXLT7YtD0oB",
        "colab_type": "code",
        "colab": {
          "base_uri": "https://localhost:8080/",
          "height": 34
        },
        "outputId": "21bae73b-1c59-43d2-ebd8-556a39a56933"
      },
      "source": [
        "output = activation(torch.matmul(features, weights.T))\n",
        "output"
      ],
      "execution_count": 12,
      "outputs": [
        {
          "output_type": "execute_result",
          "data": {
            "text/plain": [
              "tensor([[0.1214]])"
            ]
          },
          "metadata": {
            "tags": []
          },
          "execution_count": 12
        }
      ]
    },
    {
      "cell_type": "code",
      "metadata": {
        "id": "4aFldEVuD0gP",
        "colab_type": "code",
        "colab": {}
      },
      "source": [
        "##Generate some data\n",
        "torch.manual_seed(7) # set the random seed to a number so things are preddictable\n",
        "\n",
        "#Features arre 3 random normal variables\n",
        "features = torch.randn((1, 3))\n",
        "\n",
        "#Define te size of each layer in our network\n",
        "n_input = features.shape[1]\n",
        "#number of inputs must match number of input features\n",
        "n_hidden = 2  #number of hidden units\n",
        "n_output = 1  #number of output units\n",
        "\n",
        "\n",
        "#Weights for inputs to hidden layer\n",
        "W1 = torch.randn(n_input, n_hidden)\n",
        "#Weights for hidden layer to output layer\n",
        "W2 = torch.randn(n_hidden, n_output)\n",
        "\n",
        "# and bias terms for hidden and output layers\n",
        "B1 = torch.randn((1, n_hidden))\n",
        "B2 = torch.randn((1, n_output))"
      ],
      "execution_count": 0,
      "outputs": []
    }
  ]
}